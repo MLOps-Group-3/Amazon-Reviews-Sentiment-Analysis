{
 "cells": [
  {
   "cell_type": "markdown",
   "metadata": {},
   "source": [
    "### Local Test with docker service running:"
   ]
  },
  {
   "cell_type": "code",
   "execution_count": null,
   "metadata": {},
   "outputs": [],
   "source": [
    "PROJECT_ID = \"amazonreviewssentimentanalysis\"  # <---CHANGE THIS TO YOUR PROJECT\n",
    "APP_NAME = \"review_sentiment_bert_model\"\n",
    "BUCKET_NAME = \"gs://arsa_model_deployment_uscentral\"\n",
    "REGION = 'us-central1'"
   ]
  },
  {
   "cell_type": "markdown",
   "metadata": {},
   "source": [
    "saves a instances.json"
   ]
  },
  {
   "cell_type": "code",
   "execution_count": null,
   "metadata": {},
   "outputs": [],
   "source": [
    "%%writefile ./predictor/instances.json\n",
    "\n",
    "{\n",
    "    \"instances\": [\n",
    "        {\n",
    "            \"text\": \"The product was excellent and exceeded my expectations.\",\n",
    "            \"title\": \"Excellent Quality\",\n",
    "            \"price\": 49.99,\n",
    "            \"price_missing\": false,\n",
    "            \"helpful_vote\": 15,\n",
    "            \"verified_purchase\": true\n",
    "        },\n",
    "        {\n",
    "            \"text\": \"The product was excellent and exceeded my expectations.\",\n",
    "            \"title\": \"Excellent Quality\",\n",
    "            \"price\": 49.99,\n",
    "            \"price_missing\": false,\n",
    "            \"helpful_vote\": 15,\n",
    "            \"verified_purchase\": true\n",
    "        }\n",
    "\n",
    "    ]\n",
    "}\n"
   ]
  },
  {
   "cell_type": "code",
   "execution_count": null,
   "metadata": {},
   "outputs": [],
   "source": [
    "# docker pull that image\n",
    "# docker build it with a tag once service up: test health"
   ]
  },
  {
   "cell_type": "code",
   "execution_count": null,
   "metadata": {},
   "outputs": [],
   "source": [
    "#helth check\n",
    "!curl http://localhost:7080/ping\n"
   ]
  },
  {
   "cell_type": "code",
   "execution_count": null,
   "metadata": {},
   "outputs": [
    {
     "name": "stdout",
     "output_type": "stream",
     "text": [
      "{\"predictions\": [\"POSITIVE\", \"POSITIVE\"]}"
     ]
    }
   ],
   "source": [
    "#submit 2 instances\n",
    "!curl -X POST \\\n",
    "    -H \"Content-Type: application/json\" \\\n",
    "    -d @./predictor/instances.json \\\n",
    "    http://localhost:7080/predictions/{MODEL_NAME}\n"
   ]
  }
 ],
 "metadata": {
  "language_info": {
   "name": "python"
  }
 },
 "nbformat": 4,
 "nbformat_minor": 2
}

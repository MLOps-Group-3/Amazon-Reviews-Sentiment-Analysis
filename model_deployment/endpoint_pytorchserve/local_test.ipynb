{
 "cells": [
  {
   "cell_type": "markdown",
   "metadata": {},
   "source": [
    "### Local Test with docker service running:"
   ]
  },
  {
   "cell_type": "code",
   "execution_count": 4,
   "metadata": {},
   "outputs": [],
   "source": [
    "PROJECT_ID = \"amazonreviewssentimentanalysis\"  # <---CHANGE THIS TO YOUR PROJECT\n",
    "APP_NAME = \"review_sentiment_bert_model\"\n",
    "BUCKET_NAME = \"gs://arsa_model_deployment_uscentral\"\n",
    "REGION = 'us-central1'"
   ]
  },
  {
   "cell_type": "markdown",
   "metadata": {},
   "source": [
    "saves a instances.json"
   ]
  },
  {
   "cell_type": "code",
   "execution_count": null,
   "metadata": {},
   "outputs": [],
   "source": [
    "%%writefile ./predictor/instances.json\n",
    "\n",
    "{\n",
    "    \"instances\": [\n",
    "        {\n",
    "            \"text\": \"The product was excellent and exceeded my expectations.\",\n",
    "            \"title\": \"Excellent Quality\",\n",
    "            \"price\": 49.99,\n",
    "            \"price_missing\": false,\n",
    "            \"helpful_vote\": 15,\n",
    "            \"verified_purchase\": true\n",
    "        },\n",
    "        {\n",
    "            \"text\": \"The product was excellent and exceeded my expectations.\",\n",
    "            \"title\": \"Excellent Quality\",\n",
    "            \"price\": 49.99,\n",
    "            \"price_missing\": false,\n",
    "            \"helpful_vote\": 15,\n",
    "            \"verified_purchase\": true\n",
    "        }\n",
    "\n",
    "    ]\n",
    "}\n"
   ]
  },
  {
   "cell_type": "code",
   "execution_count": null,
   "metadata": {},
   "outputs": [],
   "source": [
    "# docker pull that image\n",
    "# docker build it with a tag once service up: test health"
   ]
  },
  {
   "cell_type": "code",
   "execution_count": 2,
   "metadata": {},
   "outputs": [
    {
     "name": "stdout",
     "output_type": "stream",
     "text": [
      "{\n",
      "  \"status\": \"Healthy\"\n",
      "}\n"
     ]
    }
   ],
   "source": [
    "#helth check\n",
    "!curl http://localhost:7080/ping\n"
   ]
  },
  {
   "cell_type": "code",
   "execution_count": 5,
   "metadata": {},
   "outputs": [
    {
     "name": "stdout",
     "output_type": "stream",
     "text": [
      "{\"predictions\": [\"POSITIVE\", \"NEGATIVE\", \"POSITIVE\"]}"
     ]
    }
   ],
   "source": [
    "#submit 2 instances\n",
    "!curl -X POST \\\n",
    "    -H \"Content-Type: application/json\" \\\n",
    "    -d @./predictor/instances.json \\\n",
    "    http://localhost:7080/predictions/{APP_NAME}\n"
   ]
  },
  {
   "cell_type": "code",
   "execution_count": null,
   "metadata": {},
   "outputs": [],
   "source": []
  }
 ],
 "metadata": {
  "kernelspec": {
   "display_name": "mlops_pipeline",
   "language": "python",
   "name": "python3"
  },
  "language_info": {
   "codemirror_mode": {
    "name": "ipython",
    "version": 3
   },
   "file_extension": ".py",
   "mimetype": "text/x-python",
   "name": "python",
   "nbconvert_exporter": "python",
   "pygments_lexer": "ipython3",
   "version": "3.9.20"
  }
 },
 "nbformat": 4,
 "nbformat_minor": 2
}

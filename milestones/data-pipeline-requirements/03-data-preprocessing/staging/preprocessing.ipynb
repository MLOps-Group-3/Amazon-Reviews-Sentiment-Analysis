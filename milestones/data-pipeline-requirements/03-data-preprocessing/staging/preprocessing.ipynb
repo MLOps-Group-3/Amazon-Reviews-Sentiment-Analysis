{
 "cells": [
  {
   "cell_type": "code",
   "execution_count": 1,
   "metadata": {},
   "outputs": [],
   "source": [
    "import pandas as pd"
   ]
  },
  {
   "cell_type": "code",
   "execution_count": 2,
   "metadata": {},
   "outputs": [],
   "source": [
    "df = pd.read_csv('./data/sampled_data_2018_2019.csv')"
   ]
  },
  {
   "cell_type": "code",
   "execution_count": 3,
   "metadata": {},
   "outputs": [
    {
     "data": {
      "text/plain": [
       "0                                                  NaN\n",
       "1    Home & Kitchen,Heating, Cooling & Air Quality,...\n",
       "2    Home & Kitchen,Home Décor Products,Clocks,Spec...\n",
       "3    Home & Kitchen,Kitchen & Dining,Coffee, Tea & ...\n",
       "4    Home & Kitchen,Kitchen & Dining,Coffee, Tea & ...\n",
       "Name: categories, dtype: object"
      ]
     },
     "execution_count": 3,
     "metadata": {},
     "output_type": "execute_result"
    }
   ],
   "source": [
    "df.head()['categories']"
   ]
  },
  {
   "cell_type": "code",
   "execution_count": 4,
   "metadata": {},
   "outputs": [
    {
     "data": {
      "text/plain": [
       "Index(['review_month', 'rating', 'parent_asin', 'asin', 'helpful_vote', 'text',\n",
       "       'timestamp', 'title', 'user_id', 'verified_purchase',\n",
       "       'review_date_timestamp', 'main_category', 'product_name', 'categories',\n",
       "       'price', 'average_rating', 'rating_number', 'year'],\n",
       "      dtype='object')"
      ]
     },
     "execution_count": 4,
     "metadata": {},
     "output_type": "execute_result"
    }
   ],
   "source": [
    "df.columns"
   ]
  },
  {
   "cell_type": "code",
   "execution_count": 6,
   "metadata": {},
   "outputs": [],
   "source": [
    "# df[['rating', 'title', 'text','timestamp','helpful_vote','verified_purchase','categories','price','parent_asin','features','care_instructions']]#['features'][3]"
   ]
  },
  {
   "cell_type": "code",
   "execution_count": 7,
   "metadata": {},
   "outputs": [],
   "source": [
    "# df[['care_instructions']].value_counts()"
   ]
  },
  {
   "cell_type": "code",
   "execution_count": 8,
   "metadata": {},
   "outputs": [
    {
     "name": "stderr",
     "output_type": "stream",
     "text": [
      "24/10/29 11:41:25 WARN Utils: Your hostname, Legion resolves to a loopback address: 127.0.1.1; using 10.0.0.86 instead (on interface wlo1)\n",
      "24/10/29 11:41:25 WARN Utils: Set SPARK_LOCAL_IP if you need to bind to another address\n",
      "Setting default log level to \"WARN\".\n",
      "To adjust logging level use sc.setLogLevel(newLevel). For SparkR, use setLogLevel(newLevel).\n",
      "24/10/29 11:41:25 WARN NativeCodeLoader: Unable to load native-hadoop library for your platform... using builtin-java classes where applicable\n",
      "24/10/29 11:41:33 WARN TaskSetManager: Stage 0 contains a task of very large size (5354 KiB). The maximum recommended task size is 1000 KiB.\n",
      "                                                                                \r"
     ]
    },
    {
     "name": "stdout",
     "output_type": "stream",
     "text": [
      "Null values in price before cleaning: 0\n"
     ]
    },
    {
     "name": "stderr",
     "output_type": "stream",
     "text": [
      "24/10/29 11:41:34 WARN TaskSetManager: Stage 3 contains a task of very large size (5354 KiB). The maximum recommended task size is 1000 KiB.\n",
      "24/10/29 11:41:36 WARN TaskSetManager: Stage 9 contains a task of very large size (5354 KiB). The maximum recommended task size is 1000 KiB.\n"
     ]
    },
    {
     "name": "stdout",
     "output_type": "stream",
     "text": [
      "Null values in price after cleaning: 51130\n"
     ]
    },
    {
     "name": "stderr",
     "output_type": "stream",
     "text": [
      "                                                                                \r"
     ]
    },
    {
     "name": "stdout",
     "output_type": "stream",
     "text": [
      "+------------+------+-----------+----------+------------+--------------------+-------------+--------------------+--------------------+-----------------+---------------------+--------------------+--------------------+--------------------+-------+--------------+-------------+----+\n",
      "|review_month|rating|parent_asin|      asin|helpful_vote|                text|    timestamp|               title|             user_id|verified_purchase|review_date_timestamp|       main_category|        product_name|          categories|  price|average_rating|rating_number|year|\n",
      "+------------+------+-----------+----------+------------+--------------------+-------------+--------------------+--------------------+-----------------+---------------------+--------------------+--------------------+--------------------+-------+--------------+-------------+----+\n",
      "|           2|   1.0| B077J535KS|B077J535KS|          11|Was no good at li...|1519341036620|         Junk, sorry|AHHS5673RG6HRG6TG...|             true|           2018-02-22|         Amazon Home|Saberlight Flex -...|                 NaN|unknown|           4.0|          866|2018|\n",
      "|           2|   1.0| B07536NZFG|B07536NZFG|           0|I ordered these l...|1518291532303|            One Star|AEMJ2REAORACNGIT6...|             true|           2018-02-10|         Amazon Home|Solarmart Solar G...|Home & Kitchen,Se...|unknown|           2.9|            7|2018|\n",
      "|           2|   1.0| B0BTJYRYBH|B001R1RXUG|           0|Piece of junk. Re...|1518319904220|        Don’t do it.|AHAQQZMEQ3NUI6ZR4...|             true|           2018-02-10|         Amazon Home|Honeywell Turbofo...|Home & Kitchen,Do...|unknown|           4.6|       112216|2018|\n",
      "|           2|   1.0| B01M4NP8AY|B01M4NP8AY|           1|This bag was desc...|1549414635378|   Not As Advertised|AFPZZYQC5VWW2GRRU...|             true|           2019-02-05|         Amazon Home|Pursell Manufactu...|                 NaN|   7.19|           4.2|         3719|2019|\n",
      "|           4|   3.0| B09T1GR27V|B0784KT6BF|           0|Not soft, cheap a...|1522707634422|         Three Stars|AH6K3LGAND3WCRTFJ...|             true|           2018-04-02|         Amazon Home|Indulge Linen 100...|Home & Kitchen,Ba...|  22.99|           4.5|         4206|2018|\n",
      "|           9|   1.0| B076D3VYLD|B076D3VYLD|           0|the stupid people...|1537503468074|        not worth it|AHAAANFACFZ3OIG6G...|             true|           2018-09-21|         Amazon Home|Cheers to 10 Year...|Home & Kitchen,Ev...|unknown|           4.2|           15|2018|\n",
      "|           9|   1.0| B0001MSDOC|B0001MSDOC|           0|Glass bottle is p...|1537925678202|Disappointed, Dys...|AHYSNN3GSB2VRDC2M...|             true|           2018-09-25|         Amazon Home|Tablecraft 16 oz ...|Home & Kitchen,Ki...|   7.24|           4.7|         4336|2018|\n",
      "|           9|   4.0| B00UVUQ0JO|B00UVWX4BO|           0|Extremely useful....|1536190676149|          Four Stars|AH25OKEE3MRFYDDYX...|             true|           2018-09-05|         Amazon Home|YBM Home Wall Han...|Home & Kitchen,Ki...|  39.99|           4.4|          139|2018|\n",
      "|           8|   3.0| B06Y14QCMP|B06Y14QCMP|           0|Product is alrigh...|1533250727387|But damn that suc...|AHFRGIBNIMU5BVRSQ...|             true|           2018-08-02|         Amazon Home|Utopia Kitchen Bo...|Home & Kitchen,Ki...|unknown|           4.4|          180|2018|\n",
      "|           9|   4.0| B07FPQJZR8|B07FPQJZR8|           0|Seems well made. ...|1568996073519|          Good value|AHMUMO7V237DBBCGS...|             true|           2019-09-20|         Amazon Home|Amazon Basics Tex...|Home & Kitchen,Ba...|unknown|           4.4|          951|2019|\n",
      "|           9|   4.0| B00PQNE1XI|B00PQNE1XI|           0|I bought this to ...|1568664522871|Small but gets th...|AHQ6QHSKCKMXJIS5L...|             true|           2019-09-16|         Amazon Home|Honeywell Digital...|Home & Kitchen,He...|unknown|           4.5|          180|2019|\n",
      "|           9|   4.0| B07S2RBJ1Z|B07S2RBJ1Z|           0|This was somewhat...|1569694673674|IKEA countertop u...|AESN5OMGDTERL5LOR...|            false|           2019-09-28|         Amazon Home|Electric Stand up...|Home & Kitchen,Fu...|unknown|           4.4|            5|2019|\n",
      "|           9|   1.0| B005OHF2FM|B005OHF2FM|           0|My bed came with ...|1567506169832|Not good wasted m...|AHDCCN5KG4WMP4AB5...|            false|           2019-09-03|   Sports & Outdoors|Intex Cozy Kidz I...|Home & Kitchen,Be...|unknown|           4.1|         2269|2019|\n",
      "|           9|   1.0| B0BWRHHTD1|B07GB1T2XD|           2|I was very disapp...|1568953982380|        Disappointed|AGKQVSYWGDZBVNAXC...|             true|           2019-09-20|Tools & Home Impr...|Razor Holder Shav...|Home & Kitchen,Ba...|   5.99|           4.8|        12682|2019|\n",
      "|           9|   4.0| B09CKCR183|B074KWRF9M|           0|This is a nice lo...|1567358646408|Attractive and st...|AGTZ6V2DDA6Z4OXCP...|             true|           2019-09-01|         Amazon Home|HOMISSUE 4-Tier B...|Home & Kitchen,Fu...| 149.99|           4.7|         1483|2019|\n",
      "|           8|   3.0| B07FZQZW5Z|B07FZQZW5Z|           0|                👍👍|1567018134231|                👍👍|AGC3PEWZ4KVZX664Z...|             true|           2019-08-28|         Amazon Home|Genbaly Luminous ...|Home & Kitchen,Ho...|unknown|           3.6|          187|2019|\n",
      "|           9|   1.0| B09K5HJ48K|B0000CGQD4|           0|Didn’t work. Kept...|1569330401865|        Doesn’t Work|AEUIYBJYUP6XUE65D...|             true|           2019-09-24|         Amazon Home|Hamilton Beach El...|Home & Kitchen,Ki...|  24.99|           4.4|        21753|2019|\n",
      "|           9|   4.0| B01LCY0KIO|B01LCY0KIO|           0|I purchased it to...|1567914730122|lightweight with ...|AEYK227OVBDUYFIAI...|             true|           2019-09-07|         Amazon Home|Bissell 1984 Air ...|Home & Kitchen,Va...| 267.79|           4.5|         2512|2019|\n",
      "|           9|   1.0| B07BB5H9HG|B07B44572P|           6|Firm like sleepin...|1535923281975|        Concrete bed|AFJ5IHPQ6YASGER7F...|             true|           2018-09-02|         Amazon Home|Unknown Nectar Tw...|Home & Kitchen,Fu...|unknown|           4.2|         2631|2018|\n",
      "|           9|   1.0| B00489QIVE|B00489QIVE|           0|Terrible do not b...|1538009911901|Durability is bad...|AFH4R3MCSHT6L6WRR...|             true|           2018-09-26|         Amazon Home|DeLonghi BCO320T ...|Home & Kitchen,Ki...|unknown|           3.4|          325|2018|\n",
      "+------------+------+-----------+----------+------------+--------------------+-------------+--------------------+--------------------+-----------------+---------------------+--------------------+--------------------+--------------------+-------+--------------+-------------+----+\n",
      "only showing top 20 rows\n",
      "\n"
     ]
    }
   ],
   "source": [
    "from pyspark.sql import SparkSession\n",
    "from pyspark.sql.functions import col, regexp_replace, split, when\n",
    "from pyspark.sql.types import FloatType\n",
    "\n",
    "# Initialize Spark session\n",
    "spark = SparkSession.builder \\\n",
    "    .appName(\"AmazonReviewDataCleaning\") \\\n",
    "    .getOrCreate()\n",
    "\n",
    "def clean_amazon_reviews(df):\n",
    "    \"\"\"\n",
    "    Function to clean Amazon review data at scale using PySpark.\n",
    "    Parameters:\n",
    "        df (DataFrame): Input Spark DataFrame containing Amazon review data.\n",
    "    Returns:\n",
    "        DataFrame: Cleaned Spark DataFrame.\n",
    "    \"\"\"\n",
    "\n",
    "    # 1. Drop duplicates\n",
    "    df = df.dropDuplicates()\n",
    "\n",
    "    # 2. Handle missing values\n",
    "    # - Drop reviews with missing text or rating\n",
    "    df = df.filter(col(\"text\").isNotNull() & col(\"rating\").isNotNull())    \n",
    "\n",
    "    # - Replace null lists with empty lists in 'categories' and 'features'\n",
    "    # df = df.withColumn(\"categories\", split(regexp_replace(col(\"categories\").cast(\"string\"), \"null\", \"[]\"), \", \"))\n",
    "\n",
    "    # - Handle missing values by replacing NaN with 'unknown', helpful_vote with 0\n",
    "    df = df.fillna({\"title\": \"unknown\", \"helpful_vote\": 0})\n",
    "    df = df.withColumn(\"price\", \n",
    "                       when(col(\"price\").isNull() | (col(\"price\").cast(\"string\") == \"NaN\"), \"unknown\")\n",
    "                       .otherwise(col(\"price\").cast(\"string\")))\n",
    "    \n",
    "    # 3. Clean and normalize text columns\n",
    "    # - Remove extra whitespaces in 'title' and 'text' columns\n",
    "    df = df.withColumn(\"title\", regexp_replace(col(\"title\"), r\"\\s+\", \" \"))\n",
    "    df = df.withColumn(\"text\", regexp_replace(col(\"text\"), r\"\\s+\", \" \"))\n",
    "\n",
    "    return df\n",
    "\n",
    "# df = pd.read_csv('./data/sampled_2018.csv')\n",
    "\n",
    "# col_list = ['rating', 'title', 'text','timestamp','helpful_vote','verified_purchase','categories','price','parent_asin']\n",
    "# Assuming your data is in a Spark DataFrame called `df_raw`\n",
    "df_raw = spark.createDataFrame(df.copy()) #[col_list]\n",
    "\n",
    "print(\"Null values in price before cleaning:\", df_raw.filter(col(\"price\").isNull()).count())\n",
    "\n",
    "df_cleaned = clean_amazon_reviews(df_raw)\n",
    "\n",
    "print(\"Null values in price after cleaning:\", df_cleaned.filter(col(\"price\") == \"unknown\").count())\n",
    "# Show the cleaned data\n",
    "df_cleaned.show()\n"
   ]
  },
  {
   "cell_type": "code",
   "execution_count": null,
   "metadata": {},
   "outputs": [],
   "source": []
  },
  {
   "cell_type": "code",
   "execution_count": 9,
   "metadata": {},
   "outputs": [
    {
     "name": "stdout",
     "output_type": "stream",
     "text": [
      "root\n",
      " |-- review_month: long (nullable = true)\n",
      " |-- rating: double (nullable = true)\n",
      " |-- parent_asin: string (nullable = true)\n",
      " |-- asin: string (nullable = true)\n",
      " |-- helpful_vote: long (nullable = true)\n",
      " |-- text: string (nullable = true)\n",
      " |-- timestamp: long (nullable = true)\n",
      " |-- title: string (nullable = true)\n",
      " |-- user_id: string (nullable = true)\n",
      " |-- verified_purchase: boolean (nullable = true)\n",
      " |-- review_date_timestamp: string (nullable = true)\n",
      " |-- main_category: string (nullable = true)\n",
      " |-- product_name: string (nullable = true)\n",
      " |-- categories: string (nullable = true)\n",
      " |-- price: double (nullable = true)\n",
      " |-- average_rating: double (nullable = true)\n",
      " |-- rating_number: long (nullable = true)\n",
      " |-- year: long (nullable = true)\n",
      "\n"
     ]
    }
   ],
   "source": [
    "df_raw.printSchema()"
   ]
  },
  {
   "cell_type": "code",
   "execution_count": 24,
   "metadata": {},
   "outputs": [
    {
     "name": "stdout",
     "output_type": "stream",
     "text": [
      "Null values in price before cleaning: 51147\n",
      "Null values in price after cleaning: 51124\n",
      "+------------+------+-----------+----------+------------+--------------------+-------------+--------------------+--------------------+-----------------+---------------------+--------------------+--------------------+--------------------+------+--------------+-------------+----+\n",
      "|review_month|rating|parent_asin|      asin|helpful_vote|                text|    timestamp|               title|             user_id|verified_purchase|review_date_timestamp|       main_category|        product_name|          categories| price|average_rating|rating_number|year|\n",
      "+------------+------+-----------+----------+------------+--------------------+-------------+--------------------+--------------------+-----------------+---------------------+--------------------+--------------------+--------------------+------+--------------+-------------+----+\n",
      "|           2|   1.0| B07VWSCGC2|B00KIG3QVG|           3|Looks great until...|1551322890901|Don’t waste your ...|AFX5APGYM7BMT7Z7U...|             true|           2019-02-27|         Amazon Home|Libbey Stemless 1...|Home & Kitchen,Ki...| 32.99|           4.7|         4948|2019|\n",
      "|           2|   1.0| B08FSP9ZQT|B015JT4AWA|           0|Didn't work after...|1551115247768|        Didn't work.|AHLSDEJV73T2G7SMA...|             true|           2019-02-25|         Amazon Home|e-Flame USA Regal...|Home & Kitchen,He...|299.99|           4.0|          760|2019|\n",
      "|           2|   1.0| B0BT2ZM8D8|B0030EH7S6|           1|There really is n...|1517768329458|There really is n...|AHJQUMJPSY5GKYDPG...|             true|           2018-02-04|         Amazon Home|Cuisinart CJE-500...|Home & Kitchen,Ki...| 99.95|           4.4|         4162|2018|\n",
      "|           2|   1.0| B07JN7TDV6|B002BDTETW|           0|over half of them...|1549440610339|           DON'T BUY|AELMQWNMJCPY6HJRA...|             true|           2019-02-06|         Amazon Home|Sterilite 1666800...|Home & Kitchen,St...| 44.34|           4.3|          582|2019|\n",
      "|           4|   3.0| B0BGP7T3DP|B015DRQ36E|           0|The lid is very t...|1554930476250|This is a nice ca...|AFU7L5DBEBJUUFFFU...|             true|           2019-04-10|         Amazon Home|Utopia Kitchen Co...|Home & Kitchen,St...| 21.99|           4.6|        15740|2019|\n",
      "|           4|   3.0| B0BBTTMM1M|B0161Q2RUM|           0|Purchased on sale...|1523731615900|Makes coffee a fu...|AFPQHYJ3BA76KTQO6...|            false|           2018-04-14|         Amazon Home|KRUPS 8000035978 ...|Home & Kitchen,Ki...| 98.45|           3.9|         3587|2018|\n",
      "|           9|   1.0| B074NZY3SQ|B074NZY3SQ|           0|I turn on my pump...|1567903923116|       Waste a money|AEHOXDG77LUHDFEVR...|             true|           2019-09-07|   Sports & Outdoors|Electric Air Pump...|Home & Kitchen,Be...| 16.14|           4.4|        30100|2019|\n",
      "|           9|   1.0| B0835RBDYC|B07GSDCLQP|           1|Bought a king siz...|1569870873748|        Doesn’t work|AG7WKPXP6GQ2WZKPO...|             true|           2019-09-30|         Amazon Home|Rubber Hugger Bed...|Home & Kitchen,Be...| 14.99|           3.9|        14537|2019|\n",
      "|           8|   3.0| B09TSXN6DG|B07R46F8MK|           0|I was so excited ...|1566317672456|Gets the job done...|AFDSJZ2DUZQCB4326...|             true|           2019-08-20|         Amazon Home|3-Tier Rolling Ut...|Home & Kitchen,Fu...| 24.99|           4.1|          183|2019|\n",
      "|           9|   1.0| B06X15WK94|B06X15WK94|           1|Cheap. These woul...|1567514711196|           Cheeeaaap|AH64KVD45T2TFN4QR...|             true|           2019-09-03|         Amazon Home|COLIBYOU Easy-To-...|Home & Kitchen,Ki...|  8.99|           4.1|          241|2019|\n",
      "|           9|   4.0| B0C1CNCHSJ|B073WFGSYL|           0|Very thin but lov...|1536710833133|                Thin|AE3XXPE2GXUF4USHO...|             true|           2018-09-11|         Amazon Home|Ambesonne Island ...|Home & Kitchen,Ba...| 31.99|           4.5|         2613|2018|\n",
      "|           9|   4.0| B07MPT5XKP|B07MPT5XKP|           0|They matched my d...|1569825111642|              Pretty|AFJ4QXNIW3JRTESXI...|             true|           2019-09-30|Health & Personal...|Galaxy Party Dess...|Home & Kitchen,Ev...|  9.25|           4.7|         1302|2019|\n",
      "|           8|   3.0| B0BZJP9VGZ|B006MISZOC|           1|We bought this be...|1534207622158|Standard totes wi...|AEAPHTCXNLZEEDBEE...|             true|           2018-08-13|         Amazon Home|ZINUS SmartBase H...|Home & Kitchen,Fu...| 116.0|           4.7|       142951|2018|\n",
      "|           9|   4.0| B07BRDXW82|B0764P779Q|           0|good for keep at ...|1537319728162|       for my family|AFHDKYCZ42LSZB5S3...|             true|           2018-09-18|         Amazon Home|MIRA 32 Oz Stainl...|Home & Kitchen,Ki...| 24.95|           4.6|         6760|2018|\n",
      "|           9|   1.0| B000LQ47GG|B000LQ47GG|           0|It really nay mad...|1568299764002|       Not practical|AG6QADVIFAUL5CHAL...|             true|           2019-09-12|         Amazon Home|         Eggstractor|Home & Kitchen,Ki...| 15.99|           2.5|          112|2019|\n",
      "|           9|   1.0| B0BSPGR5T6|B06Y1YD5W7|           0|Too small, too bl...|1536000569368|Too small, too black|AHDKM7OETUSFKSKAI...|             true|           2018-09-03|         Amazon Home|Instant Pot Duo 7...|Home & Kitchen,Ki...| 109.0|           4.7|       162230|2018|\n",
      "|           9|   4.0| B07SPS17W3|B07RXH4Y2L|           0|KNife is good and...|1567890863546|  Good knife to Buy.|AHA7ZBCUUWF7SDYV6...|             true|           2019-09-07|         Amazon Home|GRANDSHARP Kirits...|Home & Kitchen,Ki...| 29.99|           4.3|          398|2019|\n",
      "|          12|   1.0| B0C5TX7RYJ|B06XTPM6Y3|           0|   material too thin|1576426526279|very thin see thr...|AHOQYMWPDRRVR2EAD...|             true|           2019-12-15|         Amazon Home|Benson Mills Text...|Home & Kitchen,Ki...| 19.99|           4.5|         6033|2019|\n",
      "|          12|   1.0| B0BX2ZZC2H|B07FBVLR2T|           0|I am disappointed...|1576446815841|       Disasppointed|AEJLWZZOGVPMWYCCA...|             true|           2019-12-15|         Amazon Home|One Way Window Fi...|Home & Kitchen,Ho...| 45.88|           3.9|          405|2019|\n",
      "|          12|   1.0| B01LXQLFMO|B0000CF9AG|           0|I was planning to...|1576461001967| Might be a RIP-OFF.|AFGUCHZ2TGUAYU3IZ...|             true|           2019-12-15|Industrial & Scie...|Victorinox-Swiss-...|Home & Kitchen,Ki...|187.39|           4.6|         1105|2019|\n",
      "+------------+------+-----------+----------+------------+--------------------+-------------+--------------------+--------------------+-----------------+---------------------+--------------------+--------------------+--------------------+------+--------------+-------------+----+\n",
      "only showing top 20 rows\n",
      "\n"
     ]
    }
   ],
   "source": [
    "from pyspark.sql import SparkSession\n",
    "from pyspark.sql.functions import col, regexp_replace, split, when\n",
    "from pyspark.sql.types import FloatType\n",
    "\n",
    "# Initialize Spark session\n",
    "spark = SparkSession.builder \\\n",
    "    .appName(\"AmazonReviewDataCleaning\") \\\n",
    "    .getOrCreate()\n",
    "\n",
    "def clean_amazon_reviews(df):\n",
    "    \"\"\"\n",
    "    Function to clean Amazon review data at scale using PySpark.\n",
    "    Parameters:\n",
    "        df (DataFrame): Input Spark DataFrame containing Amazon review data.\n",
    "    Returns:\n",
    "        DataFrame: Cleaned Spark DataFrame.\n",
    "    \"\"\"\n",
    "\n",
    "    # 1. Drop duplicates\n",
    "    df = df.dropDuplicates()\n",
    "\n",
    "    # 2. Handle missing values\n",
    "    # - Drop reviews with missing text or rating\n",
    "    df = df.filter(col(\"text\").isNotNull() & col(\"rating\").isNotNull())    \n",
    "\n",
    "    # - Replace null lists with empty lists in 'categories' and 'features'\n",
    "    # df = df.withColumn(\"categories\", split(regexp_replace(col(\"categories\").cast(\"string\"), \"null\", \"[]\"), \", \"))\n",
    "    # df = df.withColumn(\"features\", split(regexp_replace(col(\"features\").cast(\"string\"), \"null\", \"[]\"), \", \"))\n",
    "\n",
    "    # - Handle missing values by replacing NaN with 'unknown', helpful_vote with 0\n",
    "    df = df.fillna({\"title\": \"unknown\", \"helpful_vote\": 0})\n",
    "    df = df.withColumn(\"price\", \n",
    "                       when(col(\"price\").isNull() | (col(\"price\").cast(\"string\") == \"NaN\"), \"unknown\")\n",
    "                       .otherwise(col(\"price\").cast(\"string\")))\n",
    "    \n",
    "    # 3. Clean and normalize text columns\n",
    "    # - Remove extra whitespaces in 'title' and 'text' columns\n",
    "    df = df.withColumn(\"title\", regexp_replace(col(\"title\"), r\"\\s+\", \" \"))\n",
    "    df = df.withColumn(\"text\", regexp_replace(col(\"text\"), r\"\\s+\", \" \"))\n",
    "\n",
    "    return df\n",
    "\n",
    "# Read the data directly into a Spark DataFrame\n",
    "df_raw = spark.read.csv(\n",
    "    './data/sampled_data_2018_2019.csv',  # Path to your CSV file\n",
    "    header=True,                # Use the first row as headers\n",
    "    inferSchema=True,          # Automatically infer the data types\n",
    "    quote='\"',                  # Specify double quotes as the quote character\n",
    "    escape='\"',                 # Escape character for quotes within quoted strings\n",
    "    # mode='DROPMALFORMED'       # Drop rows that are malformed\n",
    ")\n",
    "# Select relevant columns\n",
    "# col_list = ['rating', 'title', 'text', 'timestamp', 'helpful_vote', 'verified_purchase', 'categories', 'price', 'parent_asin']\n",
    "# df_raw = df_raw.select(*col_list)\n",
    "\n",
    "# Print null values in price before cleaning\n",
    "print(\"Null values in price before cleaning:\", df_raw.filter(col(\"price\").isNull()).count())\n",
    "\n",
    "# Clean the data\n",
    "df_cleaned = clean_amazon_reviews(df_raw)\n",
    "\n",
    "# Print null values in price after cleaning\n",
    "print(\"Null values in price after cleaning:\", df_cleaned.filter(col(\"price\") == \"unknown\").count())\n",
    "\n",
    "# Show the cleaned data\n",
    "df_cleaned.show()\n"
   ]
  },
  {
   "cell_type": "code",
   "execution_count": 19,
   "metadata": {},
   "outputs": [
    {
     "name": "stdout",
     "output_type": "stream",
     "text": [
      "+------------+------+-----------+----------+------------+--------------------+-------------+--------------------+--------------------+-----------------+---------------------+--------------------+--------------------+--------------------+------+--------------+-------------+----+\n",
      "|review_month|rating|parent_asin|      asin|helpful_vote|                text|    timestamp|               title|             user_id|verified_purchase|review_date_timestamp|       main_category|        product_name|          categories| price|average_rating|rating_number|year|\n",
      "+------------+------+-----------+----------+------------+--------------------+-------------+--------------------+--------------------+-----------------+---------------------+--------------------+--------------------+--------------------+------+--------------+-------------+----+\n",
      "|           2|   1.0| B07VWSCGC2|B00KIG3QVG|           3|Looks great until...|1551322890901|Don’t waste your ...|AFX5APGYM7BMT7Z7U...|             true|           2019-02-27|         Amazon Home|Libbey Stemless 1...|Home & Kitchen,Ki...| 32.99|           4.7|         4948|2019|\n",
      "|           2|   1.0| B08FSP9ZQT|B015JT4AWA|           0|Didn't work after...|1551115247768|        Didn't work.|AHLSDEJV73T2G7SMA...|             true|           2019-02-25|         Amazon Home|e-Flame USA Regal...|Home & Kitchen,He...|299.99|           4.0|          760|2019|\n",
      "|           2|   1.0| B0BT2ZM8D8|B0030EH7S6|           1|There really is n...|1517768329458|There really is n...|AHJQUMJPSY5GKYDPG...|             true|           2018-02-04|         Amazon Home|Cuisinart CJE-500...|Home & Kitchen,Ki...| 99.95|           4.4|         4162|2018|\n",
      "|           2|   1.0| B07JN7TDV6|B002BDTETW|           0|over half of them...|1549440610339|           DON'T BUY|AELMQWNMJCPY6HJRA...|             true|           2019-02-06|         Amazon Home|Sterilite 1666800...|Home & Kitchen,St...| 44.34|           4.3|          582|2019|\n",
      "|           4|   3.0| B0BGP7T3DP|B015DRQ36E|           0|The lid is very t...|1554930476250|This is a nice ca...|AFU7L5DBEBJUUFFFU...|             true|           2019-04-10|         Amazon Home|Utopia Kitchen Co...|Home & Kitchen,St...| 21.99|           4.6|        15740|2019|\n",
      "|           4|   3.0| B0BBTTMM1M|B0161Q2RUM|           0|Purchased on sale...|1523731615900|Makes coffee a fu...|AFPQHYJ3BA76KTQO6...|            false|           2018-04-14|         Amazon Home|KRUPS 8000035978 ...|Home & Kitchen,Ki...| 98.45|           3.9|         3587|2018|\n",
      "|           9|   1.0| B074NZY3SQ|B074NZY3SQ|           0|I turn on my pump...|1567903923116|       Waste a money|AEHOXDG77LUHDFEVR...|             true|           2019-09-07|   Sports & Outdoors|Electric Air Pump...|Home & Kitchen,Be...| 16.14|           4.4|        30100|2019|\n",
      "|           9|   1.0| B0835RBDYC|B07GSDCLQP|           1|Bought a king siz...|1569870873748|        Doesn’t work|AG7WKPXP6GQ2WZKPO...|             true|           2019-09-30|         Amazon Home|Rubber Hugger Bed...|Home & Kitchen,Be...| 14.99|           3.9|        14537|2019|\n",
      "|           8|   3.0| B09TSXN6DG|B07R46F8MK|           0|I was so excited ...|1566317672456|Gets the job done...|AFDSJZ2DUZQCB4326...|             true|           2019-08-20|         Amazon Home|3-Tier Rolling Ut...|Home & Kitchen,Fu...| 24.99|           4.1|          183|2019|\n",
      "|           9|   1.0| B06X15WK94|B06X15WK94|           1|Cheap. These woul...|1567514711196|           Cheeeaaap|AH64KVD45T2TFN4QR...|             true|           2019-09-03|         Amazon Home|COLIBYOU Easy-To-...|Home & Kitchen,Ki...|  8.99|           4.1|          241|2019|\n",
      "|           9|   4.0| B0C1CNCHSJ|B073WFGSYL|           0|Very thin but lov...|1536710833133|                Thin|AE3XXPE2GXUF4USHO...|             true|           2018-09-11|         Amazon Home|Ambesonne Island ...|Home & Kitchen,Ba...| 31.99|           4.5|         2613|2018|\n",
      "|           9|   4.0| B07MPT5XKP|B07MPT5XKP|           0|They matched my d...|1569825111642|              Pretty|AFJ4QXNIW3JRTESXI...|             true|           2019-09-30|Health & Personal...|Galaxy Party Dess...|Home & Kitchen,Ev...|  9.25|           4.7|         1302|2019|\n",
      "|           8|   3.0| B0BZJP9VGZ|B006MISZOC|           1|We bought this be...|1534207622158|Standard totes wi...|AEAPHTCXNLZEEDBEE...|             true|           2018-08-13|         Amazon Home|ZINUS SmartBase H...|Home & Kitchen,Fu...| 116.0|           4.7|       142951|2018|\n",
      "|           9|   4.0| B07BRDXW82|B0764P779Q|           0|good for keep at ...|1537319728162|       for my family|AFHDKYCZ42LSZB5S3...|             true|           2018-09-18|         Amazon Home|MIRA 32 Oz Stainl...|Home & Kitchen,Ki...| 24.95|           4.6|         6760|2018|\n",
      "|           9|   1.0| B000LQ47GG|B000LQ47GG|           0|It really nay mad...|1568299764002|       Not practical|AG6QADVIFAUL5CHAL...|             true|           2019-09-12|         Amazon Home|         Eggstractor|Home & Kitchen,Ki...| 15.99|           2.5|          112|2019|\n",
      "|           9|   1.0| B0BSPGR5T6|B06Y1YD5W7|           0|Too small, too bl...|1536000569368|Too small, too black|AHDKM7OETUSFKSKAI...|             true|           2018-09-03|         Amazon Home|Instant Pot Duo 7...|Home & Kitchen,Ki...| 109.0|           4.7|       162230|2018|\n",
      "|           9|   4.0| B07SPS17W3|B07RXH4Y2L|           0|KNife is good and...|1567890863546|  Good knife to Buy.|AHA7ZBCUUWF7SDYV6...|             true|           2019-09-07|         Amazon Home|GRANDSHARP Kirits...|Home & Kitchen,Ki...| 29.99|           4.3|          398|2019|\n",
      "|          12|   1.0| B0C5TX7RYJ|B06XTPM6Y3|           0|   material too thin|1576426526279|very thin see thr...|AHOQYMWPDRRVR2EAD...|             true|           2019-12-15|         Amazon Home|Benson Mills Text...|Home & Kitchen,Ki...| 19.99|           4.5|         6033|2019|\n",
      "|          12|   1.0| B0BX2ZZC2H|B07FBVLR2T|           0|I am disappointed...|1576446815841|       Disasppointed|AEJLWZZOGVPMWYCCA...|             true|           2019-12-15|         Amazon Home|One Way Window Fi...|Home & Kitchen,Ho...| 45.88|           3.9|          405|2019|\n",
      "|          12|   1.0| B01LXQLFMO|B0000CF9AG|           0|I was planning to...|1576461001967| Might be a RIP-OFF.|AFGUCHZ2TGUAYU3IZ...|             true|           2019-12-15|Industrial & Scie...|Victorinox-Swiss-...|Home & Kitchen,Ki...|187.39|           4.6|         1105|2019|\n",
      "+------------+------+-----------+----------+------------+--------------------+-------------+--------------------+--------------------+-----------------+---------------------+--------------------+--------------------+--------------------+------+--------------+-------------+----+\n",
      "only showing top 20 rows\n",
      "\n"
     ]
    }
   ],
   "source": [
    "df_cleaned.show()"
   ]
  },
  {
   "cell_type": "code",
   "execution_count": 12,
   "metadata": {},
   "outputs": [
    {
     "name": "stderr",
     "output_type": "stream",
     "text": [
      "24/10/29 11:42:34 WARN TaskSetManager: Stage 20 contains a task of very large size (5354 KiB). The maximum recommended task size is 1000 KiB.\n"
     ]
    },
    {
     "name": "stdout",
     "output_type": "stream",
     "text": [
      "+--------------------+\n",
      "|count(DISTINCT text)|\n",
      "+--------------------+\n",
      "|              131470|\n",
      "+--------------------+\n",
      "\n"
     ]
    }
   ],
   "source": [
    "from pyspark.sql.functions import countDistinct\n",
    "df_cleaned.select(countDistinct(\"text\")).show()"
   ]
  },
  {
   "cell_type": "code",
   "execution_count": 13,
   "metadata": {},
   "outputs": [
    {
     "name": "stdout",
     "output_type": "stream",
     "text": [
      "root\n",
      " |-- rating: string (nullable = true)\n",
      " |-- title_x: string (nullable = true)\n",
      " |-- text: string (nullable = true)\n",
      " |-- asin: string (nullable = true)\n",
      " |-- parent_asin: string (nullable = true)\n",
      " |-- user_id: string (nullable = true)\n",
      " |-- timestamp: string (nullable = true)\n",
      " |-- helpful_vote: string (nullable = true)\n",
      " |-- verified_purchase: string (nullable = true)\n",
      " |-- month: string (nullable = true)\n",
      " |-- main_category: string (nullable = true)\n",
      " |-- title_y: string (nullable = true)\n",
      " |-- average_rating: double (nullable = true)\n",
      " |-- rating_number: string (nullable = true)\n",
      " |-- features: string (nullable = true)\n",
      " |-- description: string (nullable = true)\n",
      " |-- price: string (nullable = true)\n",
      " |-- store: string (nullable = true)\n",
      " |-- categories: string (nullable = true)\n",
      " |-- brand: string (nullable = true)\n",
      " |-- material: string (nullable = true)\n",
      " |-- color: string (nullable = true)\n",
      " |-- capacity: string (nullable = true)\n",
      " |-- style: string (nullable = true)\n",
      " |-- pattern: string (nullable = true)\n",
      " |-- care_instructions: string (nullable = true)\n",
      " |-- unit_count: string (nullable = true)\n",
      " |-- dimensions: string (nullable = true)\n",
      " |-- num_items: integer (nullable = true)\n",
      " |-- item_weight: string (nullable = true)\n",
      " |-- best_sellers_rank: string (nullable = true)\n",
      " |-- discontinued: string (nullable = true)\n",
      " |-- date_first_available: string (nullable = true)\n",
      "\n"
     ]
    }
   ],
   "source": [
    "df_raw.printSchema()"
   ]
  },
  {
   "cell_type": "code",
   "execution_count": 32,
   "metadata": {},
   "outputs": [],
   "source": [
    "df_temp = df[col_list].copy()"
   ]
  },
  {
   "cell_type": "code",
   "execution_count": 77,
   "metadata": {},
   "outputs": [
    {
     "data": {
      "text/plain": [
       "price\n",
       "False    31717\n",
       "True     20218\n",
       "Name: count, dtype: int64"
      ]
     },
     "execution_count": 77,
     "metadata": {},
     "output_type": "execute_result"
    }
   ],
   "source": [
    "df_temp['price'].isna().value_counts()"
   ]
  },
  {
   "cell_type": "code",
   "execution_count": 44,
   "metadata": {},
   "outputs": [
    {
     "data": {
      "text/plain": [
       "text                                                                                                                                                                                                                                                                                                                                                                                                                                                                                                                                                                                           \n",
       "Love it                                                                                                                                                                                                                                                                                                                                                                                                                                                                                                                                                                                            115\n",
       "Great                                                                                                                                                                                                                                                                                                                                                                                                                                                                                                                                                                                               92\n",
       "Perfect                                                                                                                                                                                                                                                                                                                                                                                                                                                                                                                                                                                             76\n",
       "Good                                                                                                                                                                                                                                                                                                                                                                                                                                                                                                                                                                                                65\n",
       "Works great                                                                                                                                                                                                                                                                                                                                                                                                                                                                                                                                                                                         58\n",
       "                                                                                                                                                                                                                                                                                                                                                                                                                                                                                                                                                                                                  ... \n",
       "I ordered this product because it seemed sturdier than my previous citrus squeezer which broke one day when I squeezed a particularly hard lemon.  I’ve used it often since I received it and it’s way better than the other ones.  Much stronger because it’s stainless steel.  Highly recommended                                                                                                                                                                                                                                                                                                  1\n",
       "I ordered this product for my parent as a Christmas present. We are older now and don’t live at home, so they have been wanting a sealer to save some of their food instead of it going to waste. Overall they love this product!! Very easy to use and it did the job perfectly! Great product, especially for the price!                                                                                                                                                                                                                                                                           1\n",
       "I ordered this product hoping they would easily fit over my over-sized church chairs and about half of them did fit easily but the other half took muscle, a few tears and some torn stitching to get them to fit. Although it was a pain, I would buy them again because they made the entire room pop! Just be aware they are not all the same size and they may cause you to lose feeling in your fingers but it will all be worth it in the end!                                                                                                                                                 1\n",
       "I ordered this product in April but didn't try and use it until August, the button that you use to press down to begin the processing  does not work, in fact it may not exist..i called the company today but was on hold for a ridiculous amount of time...and hung up. This deserves no star since it is not useable but that was not an option<br />If you choose to purchase this item i recommend you send in the \"registration\", i didn't and so the initial automated response would not work for me, nothing is registered by name or phone number, big mistake on my part.  Good luck      1\n",
       "I ordered this in August 2017.  And today it no longer works.  Didn't even last a year.  Thank goodness I kept my 30 year old farberware one...it still works!                                                                                                                                                                                                                                                                                                                                                                                                                                       1\n",
       "Name: count, Length: 49209, dtype: int64"
      ]
     },
     "execution_count": 44,
     "metadata": {},
     "output_type": "execute_result"
    }
   ],
   "source": [
    "df_temp[['text']].value_counts()"
   ]
  },
  {
   "cell_type": "code",
   "execution_count": 50,
   "metadata": {},
   "outputs": [
    {
     "name": "stderr",
     "output_type": "stream",
     "text": [
      "24/10/26 16:54:32 WARN TaskSetManager: Stage 48 contains a task of very large size (2717 KiB). The maximum recommended task size is 1000 KiB.\n"
     ]
    },
    {
     "data": {
      "text/plain": [
       "51935"
      ]
     },
     "execution_count": 50,
     "metadata": {},
     "output_type": "execute_result"
    }
   ],
   "source": [
    "df_cleaned.count()"
   ]
  },
  {
   "cell_type": "code",
   "execution_count": 8,
   "metadata": {},
   "outputs": [],
   "source": [
    "from pyspark.sql import SparkSession\n",
    "from pyspark.sql.functions import col, regexp_replace, split, when\n",
    "\n",
    "def create_spark_session():\n",
    "    \"\"\"\n",
    "    Create a Spark session.\n",
    "    Returns:\n",
    "        SparkSession: Initialized Spark session.\n",
    "    \"\"\"\n",
    "    spark = SparkSession.builder \\\n",
    "        .appName(\"AmazonReviewDataCleaning\") \\\n",
    "        .getOrCreate()\n",
    "    return spark\n",
    "\n",
    "def clean_amazon_reviews(spark, file_path):\n",
    "    \"\"\"\n",
    "    Function to clean Amazon review data at scale using PySpark.\n",
    "    \n",
    "    Parameters:\n",
    "        spark (SparkSession): The Spark session.\n",
    "        file_path (str): Path to the input CSV file.\n",
    "    \n",
    "    Returns:\n",
    "        DataFrame: Cleaned Spark DataFrame.\n",
    "    \"\"\"\n",
    "\n",
    "    # Read CSV as Spark DataFrame\n",
    "    df_raw = spark.read.csv(file_path, header=True, inferSchema=True)\n",
    "\n",
    "    # Filter for specific columns\n",
    "    # col_list = ['rating', 'title', 'text', 'timestamp', 'helpful_vote', 'verified_purchase', 'categories', 'price', 'parent_asin']\n",
    "    \n",
    "    # review_month,rating,parent_asin,asin,helpful_vote,text,timestamp,title,user_id,verified_purchase,review_date_timestamp,main_category,product_name,categories,price,average_rating,rating_number,year\n",
    "\n",
    "    # df_raw = df_raw.select(col_list)\n",
    "\n",
    "    # 1. Drop duplicates\n",
    "    df_raw = df_raw.dropDuplicates()\n",
    "\n",
    "    # 2. Handle missing values\n",
    "    # - Drop reviews with missing text or rating\n",
    "    df_raw = df_raw.filter(col(\"text\").isNotNull() & col(\"rating\").isNotNull())    \n",
    "\n",
    "    # - Replace null lists with empty lists in 'categories'\n",
    "    # df_raw = df_raw.withColumn(\"categories\", split(regexp_replace(col(\"categories\").cast(\"string\"), \"null\", \"[]\"), \", \"))\n",
    "\n",
    "    # - Handle missing values by replacing NaN with 'unknown', helpful_vote with 0\n",
    "    df_raw = df_raw.fillna({\"title\": \"unknown\", \"helpful_vote\": 0})\n",
    "    # df_raw = df_raw.withColumn(\"price\", \n",
    "    #                    when(col(\"price\").isNull() | (col(\"price\").cast(\"string\") == \"NaN\"), \"unknown\")\n",
    "    #                    .otherwise(col(\"price\").cast(\"string\")))\n",
    "    \n",
    "    # 3. Clean and normalize text columns\n",
    "    # - Remove extra whitespaces in 'title' and 'text' columns\n",
    "    df_raw = df_raw.withColumn(\"title\", regexp_replace(col(\"title\"), r\"\\s+\", \" \"))\n",
    "    df_raw = df_raw.withColumn(\"text\", regexp_replace(col(\"text\"), r\"\\s+\", \" \"))\n",
    "\n",
    "    return df_raw\n"
   ]
  },
  {
   "cell_type": "code",
   "execution_count": 13,
   "metadata": {},
   "outputs": [
    {
     "name": "stdout",
     "output_type": "stream",
     "text": [
      "+------+---------------------------------------------------------+--------------------------------------------------------------------------------------------------------------------------------------------------------------------------------------------------------------------------------------------------------------------------------------------------------------------------------------------------------------------------------------------------------------------------------------------------------------------------------------------------------------------------------------------+-----------------------+------------+-----------------+--------------------------------------------------------------------------------------------------------------------------------------------------------+-----------+\n",
      "|rating|title_x                                                  |text                                                                                                                                                                                                                                                                                                                                                                                                                                                                                                                                        |timestamp              |helpful_vote|verified_purchase|price                                                                                                                                                   |parent_asin|\n",
      "+------+---------------------------------------------------------+--------------------------------------------------------------------------------------------------------------------------------------------------------------------------------------------------------------------------------------------------------------------------------------------------------------------------------------------------------------------------------------------------------------------------------------------------------------------------------------------------------------------------------------------+-----------------------+------------+-----------------+--------------------------------------------------------------------------------------------------------------------------------------------------------+-----------+\n",
      "|5.0   |nice                                                     |looks clean, with a nice design                                                                                                                                                                                                                                                                                                                                                                                                                                                                                                             |2018-08-20 21:39:55.795|0           |1                | At the end of a long day                                                                                                                               |B0BFTMBFNW |\n",
      "|5.0   |Five Stars                                               |I've been looking for bigger bath mats and these fit perfectly.                                                                                                                                                                                                                                                                                                                                                                                                                                                                             |2018-02-19 11:30:08.680|0           |1                | but also allows you to get a massage for your feet when showering to remove fatigue\"\"                                                                  |B0BYJ7FL3R |\n",
      "|5.0   |Really slip free                                         |I finally found bath mats that are cute, durable and slip resistant on BOTH sides!                                                                                                                                                                                                                                                                                                                                                                                                                                                          |2018-10-26 23:47:36.066|0           |1                | made from heavy duty natural rubber                                                                                                                    |B01KM8S0B0 |\n",
      "|5.0   |Five Stars                                               |Thank you                                                                                                                                                                                                                                                                                                                                                                                                                                                                                                                                   |2018-07-23 12:16:39.872|0           |1                | \"\"Water-resistant breathable mesh ensures quick dry-time\"\"]\"                                                                                           |B06XP6BHYJ |\n",
      "|5.0   |Great Item                                               |Very sturdy and reliable. Highly recommended.                                                                                                                                                                                                                                                                                                                                                                                                                                                                                               |2018-10-19 04:04:45.422|0           |1                |\"[\"\"WATERPROOF DESIGN - Ultra smooth specialty design created to resist water and to promote water bead formation so water swiftly rolls off the surface|B0BXJ3WR3T |\n",
      "|5.0   |Thin product but good!                                   |Good product, love the color.                                                                                                                                                                                                                                                                                                                                                                                                                                                                                                               |2018-10-17 13:35:52.227|0           |1                | you can use it alone as the Shower Curtain itself. Ours come in a great variety of colors. So if you are tired of using plain white or clear liners    |B097CLM4WP |\n",
      "|5.0   |Perfect                                                  |Perfect for my cabins Christmas decorations                                                                                                                                                                                                                                                                                                                                                                                                                                                                                                 |2018-11-08 18:30:30.345|0           |1                | if you need it                                                                                                                                         |B07792JZWW |\n",
      "|5.0   |Toilet brushes                                           |I bought this for a present for my granddaughter since she is in charge of cleaning the bathrooms. She loves it.                                                                                                                                                                                                                                                                                                                                                                                                                            |2018-12-12 21:23:14.046|0           |1                | \"\"Non-scratch Brush with under-rim brush design\"\"                                                                                                      |B01E15EN70 |\n",
      "|1.0   |These towels are NOT absorbent!!!                        |The towels are soft but NOT absorbent at all!!!                                                                                                                                                                                                                                                                                                                                                                                                                                                                                             |2018-11-12 13:54:13.293|0           |1                | \"\"SOFT & STRONG: 100% Looped terry cotton for softness and absorbency                                                                                  |B07DV3FXRK |\n",
      "|1.0   |Does not hold up over time                               |I really wanted to love this product: it's so convenient to pull out and set up for overnight guests. I used the bed 3 times over a number of months, and now it is no longer holding the air in... it seeps out overnight, so my guest ends up having to get up to pump it up during the night. I called Intex for customer support, since the warranty period expired, but they were unable to do anything about it, and did not offer a replacement or even a credit on a more expensive air bed. I won't be purchasing from Intex again.|2018-08-24 15:56:30.050|0           |1                | \"\"High-powered                                                                                                                                         |B06XCW7KW3 |\n",
      "|5.0   |Excellent                                                |I've only had this less than a week but so far it is a five-star item. Solid heavy super soft. Great pillow for the bed. Or couch.                                                                                                                                                                                                                                                                                                                                                                                                          |2018-07-15 18:01:24.521|0           |1                | floor with a good book and relax in our pillow\\u2019s arms for comfort and support.\"\"                                                                  |B0BWHG8T18 |\n",
      "|5.0   |Producto de muy buena calidad                            |Buen producto de alta calidad.                                                                                                                                                                                                                                                                                                                                                                                                                                                                                                              |2018-11-20 17:02:41.754|0           |0                | leakproof valve so you can fully inflate in less than 1 minute compared to two minutes with other travel footrests!\"\"                                  |B07D2YZW43 |\n",
      "|5.0   |Good product!                                            |The skirt was easy to install and stayed in place without the pins!                                                                                                                                                                                                                                                                                                                                                                                                                                                                         |2018-12-13 02:03:39.042|0           |1                | no need to lift the heavy mattress                                                                                                                     |B081RRJZPY |\n",
      "|5.0   |it looks almost like a shawl                             |This well designed. It has an extension for the neck, and snaps together in the front; so, it looks almost like a shawl. The one thing I would have liked to make it better, is a couple more snaps for size adjustment. I'm small, so I want it fit me more snugly.                                                                                                                                                                                                                                                                        |2018-04-11 17:09:42.252|0           |1                |4316                                                                                                                                                    |B0BY2FL3ZX |\n",
      "|2.0   |Two Stars                                                |Wrong color but good quality                                                                                                                                                                                                                                                                                                                                                                                                                                                                                                                |2018-06-18 16:14:05.160|0           |1                | BSCI                                                                                                                                                   |B0C61X5486 |\n",
      "|5.0   |Just what I wanted!                                      |It’s the colour I hoped it would be given the name even though the picture does not depict it accurately. Soft and light weight. Can use it on our bed or our leather sofa to protect it from our cats..does not slip and what a great price!                                                                                                                                                                                                                                                                                               |2018-05-08 20:41:53.628|1           |1                | \"\"Comforter blanket for a cozy layer of warmth; ideal for bedrooms                                                                                     |B00U8QGU32 |\n",
      "|5.0   |Great Pillow Inserts - Worth The Money!                  |Fully fluffed when they were removed from the vacuum sealed bag. Good quality polyester cover material and well sewn. Fill material completely filled all four corners. Placed inside 18 inch square decorative pillow cases and were a perfect fluffy fit! Look and feel great and so far they have maintained their shape and fluffiness! I highly recommend these pillow inserts!                                                                                                                                                        |2018-12-03 22:55:00.837|1           |1                | covered with high thread count smooth fabric                                                                                                           |B0B5XGMFJB |\n",
      "|5.0   |Five Stars                                               |They look great. Thick, sturdy material, I'm very impressed!!                                                                                                                                                                                                                                                                                                                                                                                                                                                                               |2018-01-10 02:09:56.782|0           |1                | \"\"White Design                                                                                                                                         |B01HCQKEBO |\n",
      "|5.0   |Five Stars                                               |soft absorbant like it                                                                                                                                                                                                                                                                                                                                                                                                                                                                                                                      |2018-02-25 20:02:26.380|0           |1                | \"\"Superior cleanliness and machine washable bath rug\"\"                                                                                                 |B07PHB2T8Y |\n",
      "|4.0   |Nothing to complain about so far, works as advertised ...|Nothing to complain about so far, works as advertised, for those having problems keeping it clean just hang it up against the wall to dry every once awhile.                                                                                                                                                                                                                                                                                                                                                                                |2018-03-26 18:56:35.198|0           |1                | the mat has a 6\\u201d centered drain hole.\"\"                                                                                                           |B0BV7GQNMJ |\n",
      "+------+---------------------------------------------------------+--------------------------------------------------------------------------------------------------------------------------------------------------------------------------------------------------------------------------------------------------------------------------------------------------------------------------------------------------------------------------------------------------------------------------------------------------------------------------------------------------------------------------------------------+-----------------------+------------+-----------------+--------------------------------------------------------------------------------------------------------------------------------------------------------+-----------+\n",
      "only showing top 20 rows\n",
      "\n",
      "      rating                                            title_x  \\\n",
      "0        5.0                                               nice   \n",
      "1        5.0                                         Five Stars   \n",
      "2        5.0                                   Really slip free   \n",
      "3        5.0                                         Five Stars   \n",
      "4        5.0                                         Great Item   \n",
      "...      ...                                                ...   \n",
      "51904    5.0                                            Sturdy.   \n",
      "51905    5.0                                         Five Stars   \n",
      "51906    5.0                                       It's so fun.   \n",
      "51907    5.0                                         Five Stars   \n",
      "51908    5.0  prettiest christmas flag I have ever seen! The...   \n",
      "\n",
      "                                                    text  \\\n",
      "0                        looks clean, with a nice design   \n",
      "1      I've been looking for bigger bath mats and the...   \n",
      "2      I finally found bath mats that are cute, durab...   \n",
      "3                                              Thank you   \n",
      "4          Very sturdy and reliable. Highly recommended.   \n",
      "...                                                  ...   \n",
      "51904          Very convenient and space saving. Sturdy.   \n",
      "51905                                         Beautiful!   \n",
      "51906  My 3 year old loves watching me make popcorn w...   \n",
      "51907                                Great toss bouquet!   \n",
      "51908  I like the material it is made out of! I like ...   \n",
      "\n",
      "                     timestamp helpful_vote verified_purchase  \\\n",
      "0      2018-08-20 21:39:55.795            0                 1   \n",
      "1      2018-02-19 11:30:08.680            0                 1   \n",
      "2      2018-10-26 23:47:36.066            0                 1   \n",
      "3      2018-07-23 12:16:39.872            0                 1   \n",
      "4      2018-10-19 04:04:45.422            0                 1   \n",
      "...                        ...          ...               ...   \n",
      "51904  2018-04-28 20:26:51.070            0                 1   \n",
      "51905  2018-06-27 02:57:17.887            0                 1   \n",
      "51906  2018-06-16 16:44:51.842            0                 1   \n",
      "51907  2018-07-26 18:12:04.192            0                 1   \n",
      "51908  2018-12-09 01:24:57.737            0                 1   \n",
      "\n",
      "                                                   price parent_asin  \n",
      "0                               At the end of a long day  B0BFTMBFNW  \n",
      "1       but also allows you to get a massage for your...  B0BYJ7FL3R  \n",
      "2                    made from heavy duty natural rubber  B01KM8S0B0  \n",
      "3       \"\"Water-resistant breathable mesh ensures qui...  B06XP6BHYJ  \n",
      "4      \"[\"\"WATERPROOF DESIGN - Ultra smooth specialty...  B0BXJ3WR3T  \n",
      "...                                                  ...         ...  \n",
      "51904                                            unknown  B00X4LY1RK  \n",
      "51905                                            unknown  B07BNXNJWH  \n",
      "51906                                            unknown  B076QG9QB4  \n",
      "51907                                            unknown  B01N2SB900  \n",
      "51908                                            unknown  B01G7QTI0S  \n",
      "\n",
      "[51909 rows x 8 columns]\n"
     ]
    }
   ],
   "source": [
    "from pyspark.sql import SparkSession\n",
    "from pyspark.sql.functions import col, regexp_replace, split, when\n",
    "\n",
    "# Initialize Spark session\n",
    "spark = SparkSession.builder \\\n",
    "    .appName(\"AmazonReviewDataCleaning\") \\\n",
    "    .getOrCreate()\n",
    "\n",
    "def clean_amazon_reviews(df):\n",
    "    # Remove duplicates and filter out rows with null ratings or texts\n",
    "    col_list = ['rating', 'title', 'text', 'timestamp', 'helpful_vote', 'verified_purchase', 'price', 'parent_asin']\n",
    "    df = df.select(col_list)\n",
    "\n",
    "\n",
    "    df = df.dropDuplicates()\n",
    "    df = df.filter(col(\"text\").isNotNull() & col(\"rating\").isNotNull())\n",
    "    \n",
    "    # # Clean categories and features columns\n",
    "    # df = df.withColumn(\"categories\", \n",
    "    #                    split(regexp_replace(col(\"categories\").cast(\"string\"), \"null\", \"[]\"), \", \"))\n",
    "    # df = df.withColumn(\"features\", \n",
    "    #                    split(regexp_replace(col(\"features\").cast(\"string\"), \"null\", \"[]\"), \", \"))\n",
    "    \n",
    "    # Fill nulls\n",
    "    df = df.fillna({\"title\": \"unknown\", \"helpful_vote\": 0})\n",
    "    \n",
    "    # Clean price column\n",
    "    df = df.withColumn(\"price\", \n",
    "                       when(col(\"price\").isNull() | (col(\"price\").cast(\"string\") == \"NaN\"), \"unknown\")\n",
    "                       .otherwise(col(\"price\").cast(\"string\")))\n",
    "    \n",
    "    # Clean text and title columns\n",
    "    df = df.withColumn(\"title\", regexp_replace(col(\"title_x\"), r\"\\s+\", \" \"))\n",
    "    df = df.withColumn(\"text\", regexp_replace(col(\"text\"), r\"\\s+\", \" \"))\n",
    "    \n",
    "    return df\n",
    "\n",
    "# Read the data\n",
    "df_raw = spark.read.csv(\n",
    "    'staging/data/sampled_2018.csv', \n",
    "    header=True, \n",
    "    inferSchema=True,\n",
    "    quote='\"',  # Handle quoted strings correctly\n",
    "    escape='\"'\n",
    "    # mode='DROPMALFORMED',  # Drop malformed lines\n",
    ")\n",
    "\n",
    "# Trim column names\n",
    "df_raw = df_raw.toDF(*(c.strip() for c in df_raw.columns))\n",
    "\n",
    "# Clean the data\n",
    "df_cleaned = clean_amazon_reviews(df_raw)\n",
    "\n",
    "# Show the cleaned data\n",
    "df_cleaned.show(truncate=False)\n",
    "\n",
    "# Optionally convert to Pandas for better readability\n",
    "df_cleaned_pd = df_cleaned.toPandas()\n",
    "print(df_cleaned_pd)\n"
   ]
  },
  {
   "cell_type": "code",
   "execution_count": 21,
   "metadata": {},
   "outputs": [
    {
     "name": "stdout",
     "output_type": "stream",
     "text": [
      "+------------+------+-----------+----------+------------+--------------------+-------------+--------------------+--------------------+-----------------+---------------------+--------------------+--------------------+--------------------+------+--------------+-------------+----+\n",
      "|review_month|rating|parent_asin|      asin|helpful_vote|                text|    timestamp|               title|             user_id|verified_purchase|review_date_timestamp|       main_category|        product_name|          categories| price|average_rating|rating_number|year|\n",
      "+------------+------+-----------+----------+------------+--------------------+-------------+--------------------+--------------------+-----------------+---------------------+--------------------+--------------------+--------------------+------+--------------+-------------+----+\n",
      "|           2|   1.0| B07VWSCGC2|B00KIG3QVG|           3|Looks great until...|1551322890901|Don’t waste your ...|AFX5APGYM7BMT7Z7U...|             true|           2019-02-27|         Amazon Home|Libbey Stemless 1...|Home & Kitchen,Ki...| 32.99|           4.7|         4948|2019|\n",
      "|           2|   1.0| B08FSP9ZQT|B015JT4AWA|           0|Didn't work after...|1551115247768|        Didn't work.|AHLSDEJV73T2G7SMA...|             true|           2019-02-25|         Amazon Home|e-Flame USA Regal...|Home & Kitchen,He...|299.99|           4.0|          760|2019|\n",
      "|           2|   1.0| B0BT2ZM8D8|B0030EH7S6|           1|There really is n...|1517768329458|There really is n...|AHJQUMJPSY5GKYDPG...|             true|           2018-02-04|         Amazon Home|Cuisinart CJE-500...|Home & Kitchen,Ki...| 99.95|           4.4|         4162|2018|\n",
      "|           2|   1.0| B07JN7TDV6|B002BDTETW|           0|over half of them...|1549440610339|           DON'T BUY|AELMQWNMJCPY6HJRA...|             true|           2019-02-06|         Amazon Home|Sterilite 1666800...|Home & Kitchen,St...| 44.34|           4.3|          582|2019|\n",
      "|           4|   3.0| B0BGP7T3DP|B015DRQ36E|           0|The lid is very t...|1554930476250|This is a nice ca...|AFU7L5DBEBJUUFFFU...|             true|           2019-04-10|         Amazon Home|Utopia Kitchen Co...|Home & Kitchen,St...| 21.99|           4.6|        15740|2019|\n",
      "|           4|   3.0| B0BBTTMM1M|B0161Q2RUM|           0|Purchased on sale...|1523731615900|Makes coffee a fu...|AFPQHYJ3BA76KTQO6...|            false|           2018-04-14|         Amazon Home|KRUPS 8000035978 ...|Home & Kitchen,Ki...| 98.45|           3.9|         3587|2018|\n",
      "|           9|   1.0| B074NZY3SQ|B074NZY3SQ|           0|I turn on my pump...|1567903923116|       Waste a money|AEHOXDG77LUHDFEVR...|             true|           2019-09-07|   Sports & Outdoors|Electric Air Pump...|Home & Kitchen,Be...| 16.14|           4.4|        30100|2019|\n",
      "|           9|   1.0| B0835RBDYC|B07GSDCLQP|           1|Bought a king siz...|1569870873748|        Doesn’t work|AG7WKPXP6GQ2WZKPO...|             true|           2019-09-30|         Amazon Home|Rubber Hugger Bed...|Home & Kitchen,Be...| 14.99|           3.9|        14537|2019|\n",
      "|           8|   3.0| B09TSXN6DG|B07R46F8MK|           0|I was so excited ...|1566317672456|Gets the job done...|AFDSJZ2DUZQCB4326...|             true|           2019-08-20|         Amazon Home|3-Tier Rolling Ut...|Home & Kitchen,Fu...| 24.99|           4.1|          183|2019|\n",
      "|           9|   1.0| B06X15WK94|B06X15WK94|           1|Cheap. These woul...|1567514711196|           Cheeeaaap|AH64KVD45T2TFN4QR...|             true|           2019-09-03|         Amazon Home|COLIBYOU Easy-To-...|Home & Kitchen,Ki...|  8.99|           4.1|          241|2019|\n",
      "|           9|   4.0| B0C1CNCHSJ|B073WFGSYL|           0|Very thin but lov...|1536710833133|                Thin|AE3XXPE2GXUF4USHO...|             true|           2018-09-11|         Amazon Home|Ambesonne Island ...|Home & Kitchen,Ba...| 31.99|           4.5|         2613|2018|\n",
      "|           9|   4.0| B07MPT5XKP|B07MPT5XKP|           0|They matched my d...|1569825111642|              Pretty|AFJ4QXNIW3JRTESXI...|             true|           2019-09-30|Health & Personal...|Galaxy Party Dess...|Home & Kitchen,Ev...|  9.25|           4.7|         1302|2019|\n",
      "|           8|   3.0| B0BZJP9VGZ|B006MISZOC|           1|We bought this be...|1534207622158|Standard totes wi...|AEAPHTCXNLZEEDBEE...|             true|           2018-08-13|         Amazon Home|ZINUS SmartBase H...|Home & Kitchen,Fu...| 116.0|           4.7|       142951|2018|\n",
      "|           9|   4.0| B07BRDXW82|B0764P779Q|           0|good for keep at ...|1537319728162|       for my family|AFHDKYCZ42LSZB5S3...|             true|           2018-09-18|         Amazon Home|MIRA 32 Oz Stainl...|Home & Kitchen,Ki...| 24.95|           4.6|         6760|2018|\n",
      "|           9|   1.0| B000LQ47GG|B000LQ47GG|           0|It really nay mad...|1568299764002|       Not practical|AG6QADVIFAUL5CHAL...|             true|           2019-09-12|         Amazon Home|         Eggstractor|Home & Kitchen,Ki...| 15.99|           2.5|          112|2019|\n",
      "|           9|   1.0| B0BSPGR5T6|B06Y1YD5W7|           0|Too small, too bl...|1536000569368|Too small, too black|AHDKM7OETUSFKSKAI...|             true|           2018-09-03|         Amazon Home|Instant Pot Duo 7...|Home & Kitchen,Ki...| 109.0|           4.7|       162230|2018|\n",
      "|           9|   4.0| B07SPS17W3|B07RXH4Y2L|           0|KNife is good and...|1567890863546|  Good knife to Buy.|AHA7ZBCUUWF7SDYV6...|             true|           2019-09-07|         Amazon Home|GRANDSHARP Kirits...|Home & Kitchen,Ki...| 29.99|           4.3|          398|2019|\n",
      "|          12|   1.0| B0C5TX7RYJ|B06XTPM6Y3|           0|   material too thin|1576426526279|very thin see thr...|AHOQYMWPDRRVR2EAD...|             true|           2019-12-15|         Amazon Home|Benson Mills Text...|Home & Kitchen,Ki...| 19.99|           4.5|         6033|2019|\n",
      "|          12|   1.0| B0BX2ZZC2H|B07FBVLR2T|           0|I am disappointed...|1576446815841|       Disasppointed|AEJLWZZOGVPMWYCCA...|             true|           2019-12-15|         Amazon Home|One Way Window Fi...|Home & Kitchen,Ho...| 45.88|           3.9|          405|2019|\n",
      "|          12|   1.0| B01LXQLFMO|B0000CF9AG|           0|I was planning to...|1576461001967| Might be a RIP-OFF.|AFGUCHZ2TGUAYU3IZ...|             true|           2019-12-15|Industrial & Scie...|Victorinox-Swiss-...|Home & Kitchen,Ki...|187.39|           4.6|         1105|2019|\n",
      "+------------+------+-----------+----------+------------+--------------------+-------------+--------------------+--------------------+-----------------+---------------------+--------------------+--------------------+--------------------+------+--------------+-------------+----+\n",
      "only showing top 20 rows\n",
      "\n"
     ]
    }
   ],
   "source": [
    "df_cleaned.show()"
   ]
  },
  {
   "cell_type": "markdown",
   "metadata": {},
   "source": [
    "### Labeling"
   ]
  },
  {
   "cell_type": "code",
   "execution_count": 25,
   "metadata": {},
   "outputs": [],
   "source": [
    "df_cleaned.write.option(\"header\", True).csv(\"./data/pyspark/prelabel/cleaned_data_pyspark.csv\", mode=\"overwrite\")\n",
    "del df_cleaned"
   ]
  },
  {
   "cell_type": "code",
   "execution_count": 2,
   "metadata": {},
   "outputs": [
    {
     "name": "stderr",
     "output_type": "stream",
     "text": [
      "24/10/29 12:14:09 WARN Utils: Your hostname, Legion resolves to a loopback address: 127.0.1.1; using 10.0.0.86 instead (on interface wlo1)\n",
      "24/10/29 12:14:09 WARN Utils: Set SPARK_LOCAL_IP if you need to bind to another address\n",
      "Setting default log level to \"WARN\".\n",
      "To adjust logging level use sc.setLogLevel(newLevel). For SparkR, use setLogLevel(newLevel).\n",
      "24/10/29 12:14:09 WARN NativeCodeLoader: Unable to load native-hadoop library for your platform... using builtin-java classes where applicable\n"
     ]
    }
   ],
   "source": [
    "from pyspark.sql import SparkSession\n",
    "# from pyspark.sql.functions import col, regexp_replace, split, when\n",
    "# from pyspark.sql.types import FloatType\n",
    "\n",
    "spark = SparkSession.builder \\\n",
    "    .appName(\"AmazonReviewDataCleaning\") \\\n",
    "    .getOrCreate()\n",
    "\n",
    "df_cleaned = spark.read.option(\"header\", True).csv(\"./data/pyspark/prelabel/cleaned_data_pyspark.csv\")"
   ]
  },
  {
   "cell_type": "code",
   "execution_count": 10,
   "metadata": {},
   "outputs": [
    {
     "data": {
      "text/plain": [
       "DataFrame[review_month: string, rating: string, parent_asin: string, asin: string, helpful_vote: string, text: string, timestamp: string, title: string, user_id: string, verified_purchase: string, review_date_timestamp: string, main_category: string, product_name: string, categories: string, price: string, average_rating: string, rating_number: string, year: string]"
      ]
     },
     "execution_count": 10,
     "metadata": {},
     "output_type": "execute_result"
    }
   ],
   "source": [
    "df_cleaned#.show()"
   ]
  },
  {
   "cell_type": "code",
   "execution_count": 13,
   "metadata": {},
   "outputs": [
    {
     "data": {
      "text/plain": [
       "'1.0'"
      ]
     },
     "execution_count": 13,
     "metadata": {},
     "output_type": "execute_result"
    }
   ],
   "source": [
    "# df_pandas['rating'][0]"
   ]
  },
  {
   "cell_type": "code",
   "execution_count": 4,
   "metadata": {},
   "outputs": [],
   "source": [
    "from snorkel.labeling import labeling_function\n",
    "\n",
    "POSITIVE = 1\n",
    "NEGATIVE = -1\n",
    "NEUTRAL = 0\n",
    "\n",
    "\n",
    "# Define additional keywords for positive and negative sentiments\n",
    "positive_words = [\"excellent\", \"amazing\", \"great\", \"fantastic\", \"love\", \"wonderful\", \"perfect\", \"satisfied\", \"good\", \"best\", \"recommend\"]\n",
    "negative_words = [\"bad\", \"poor\", \"terrible\", \"awful\", \"disappointed\", \"waste\", \"horrible\", \"worst\", \"not worth\", \"refund\", \"broken\", \"defective\"]\n",
    "\n",
    "# Labeling function for positive sentiment based on text\n",
    "@labeling_function()\n",
    "def lf_contains_positive_words(row):\n",
    "    return POSITIVE if any(word in row.text.lower() for word in positive_words) else NEUTRAL\n",
    "\n",
    "# Labeling function for negative sentiment based on text\n",
    "@labeling_function()\n",
    "def lf_contains_negative_words(row):\n",
    "    return NEGATIVE if any(word in row.text.lower() for word in negative_words) else NEUTRAL\n",
    "\n",
    "# Combine with previous rating-based labeling functions\n",
    "@labeling_function()\n",
    "def lf_high_rating(row):\n",
    "    return POSITIVE if row.rating >= 4 else NEUTRAL\n",
    "\n",
    "@labeling_function()\n",
    "def lf_low_rating(row):\n",
    "    return NEGATIVE if row.rating <= 2 else NEUTRAL\n",
    "\n",
    "# Assemble the expanded labeling functions\n",
    "lfs = [lf_high_rating, lf_low_rating, lf_contains_positive_words, lf_contains_negative_words]\n"
   ]
  },
  {
   "cell_type": "code",
   "execution_count": 9,
   "metadata": {},
   "outputs": [
    {
     "name": "stderr",
     "output_type": "stream",
     "text": [
      "  0%|          | 1/140735 [00:00<00:29, 4782.56it/s]                            \n"
     ]
    },
    {
     "ename": "TypeError",
     "evalue": "'>=' not supported between instances of 'str' and 'int'",
     "output_type": "error",
     "traceback": [
      "\u001b[0;31m---------------------------------------------------------------------------\u001b[0m",
      "\u001b[0;31mTypeError\u001b[0m                                 Traceback (most recent call last)",
      "Cell \u001b[0;32mIn[9], line 6\u001b[0m\n\u001b[1;32m      4\u001b[0m \u001b[38;5;66;03m# Apply labeling functions to the DataFrame\u001b[39;00m\n\u001b[1;32m      5\u001b[0m applier \u001b[38;5;241m=\u001b[39m PandasLFApplier(lfs)\n\u001b[0;32m----> 6\u001b[0m L \u001b[38;5;241m=\u001b[39m \u001b[43mapplier\u001b[49m\u001b[38;5;241;43m.\u001b[39;49m\u001b[43mapply\u001b[49m\u001b[43m(\u001b[49m\u001b[43mdf_pandas\u001b[49m\u001b[43m)\u001b[49m\n\u001b[1;32m      8\u001b[0m \u001b[38;5;66;03m# Train Snorkel’s LabelModel to combine these weak labels\u001b[39;00m\n\u001b[1;32m      9\u001b[0m label_model \u001b[38;5;241m=\u001b[39m LabelModel(cardinality\u001b[38;5;241m=\u001b[39m\u001b[38;5;241m3\u001b[39m, verbose\u001b[38;5;241m=\u001b[39m\u001b[38;5;28;01mTrue\u001b[39;00m)\n",
      "File \u001b[0;32m~/anaconda3/envs/mlops_exp/lib/python3.12/site-packages/snorkel/labeling/apply/pandas.py:108\u001b[0m, in \u001b[0;36mPandasLFApplier.apply\u001b[0;34m(self, df, progress_bar, fault_tolerant, return_meta)\u001b[0m\n\u001b[1;32m    106\u001b[0m     tqdm\u001b[38;5;241m.\u001b[39mpandas()\n\u001b[1;32m    107\u001b[0m     call_fn \u001b[38;5;241m=\u001b[39m df\u001b[38;5;241m.\u001b[39mprogress_apply\n\u001b[0;32m--> 108\u001b[0m labels \u001b[38;5;241m=\u001b[39m \u001b[43mcall_fn\u001b[49m\u001b[43m(\u001b[49m\u001b[43mapply_fn\u001b[49m\u001b[43m,\u001b[49m\u001b[43m \u001b[49m\u001b[43maxis\u001b[49m\u001b[38;5;241;43m=\u001b[39;49m\u001b[38;5;241;43m1\u001b[39;49m\u001b[43m)\u001b[49m\n\u001b[1;32m    109\u001b[0m labels_with_index \u001b[38;5;241m=\u001b[39m rows_to_triplets(labels)\n\u001b[1;32m    110\u001b[0m L \u001b[38;5;241m=\u001b[39m \u001b[38;5;28mself\u001b[39m\u001b[38;5;241m.\u001b[39m_numpy_from_row_data(labels_with_index)\n",
      "File \u001b[0;32m~/anaconda3/envs/mlops_exp/lib/python3.12/site-packages/tqdm/std.py:917\u001b[0m, in \u001b[0;36mtqdm.pandas.<locals>.inner_generator.<locals>.inner\u001b[0;34m(df, func, *args, **kwargs)\u001b[0m\n\u001b[1;32m    914\u001b[0m \u001b[38;5;66;03m# Apply the provided function (in **kwargs)\u001b[39;00m\n\u001b[1;32m    915\u001b[0m \u001b[38;5;66;03m# on the df using our wrapper (which provides bar updating)\u001b[39;00m\n\u001b[1;32m    916\u001b[0m \u001b[38;5;28;01mtry\u001b[39;00m:\n\u001b[0;32m--> 917\u001b[0m     \u001b[38;5;28;01mreturn\u001b[39;00m \u001b[38;5;28;43mgetattr\u001b[39;49m\u001b[43m(\u001b[49m\u001b[43mdf\u001b[49m\u001b[43m,\u001b[49m\u001b[43m \u001b[49m\u001b[43mdf_function\u001b[49m\u001b[43m)\u001b[49m\u001b[43m(\u001b[49m\u001b[43mwrapper\u001b[49m\u001b[43m,\u001b[49m\u001b[43m \u001b[49m\u001b[38;5;241;43m*\u001b[39;49m\u001b[38;5;241;43m*\u001b[39;49m\u001b[43mkwargs\u001b[49m\u001b[43m)\u001b[49m\n\u001b[1;32m    918\u001b[0m \u001b[38;5;28;01mfinally\u001b[39;00m:\n\u001b[1;32m    919\u001b[0m     t\u001b[38;5;241m.\u001b[39mclose()\n",
      "File \u001b[0;32m~/anaconda3/envs/mlops_exp/lib/python3.12/site-packages/pandas/core/frame.py:10374\u001b[0m, in \u001b[0;36mDataFrame.apply\u001b[0;34m(self, func, axis, raw, result_type, args, by_row, engine, engine_kwargs, **kwargs)\u001b[0m\n\u001b[1;32m  10360\u001b[0m \u001b[38;5;28;01mfrom\u001b[39;00m \u001b[38;5;21;01mpandas\u001b[39;00m\u001b[38;5;21;01m.\u001b[39;00m\u001b[38;5;21;01mcore\u001b[39;00m\u001b[38;5;21;01m.\u001b[39;00m\u001b[38;5;21;01mapply\u001b[39;00m \u001b[38;5;28;01mimport\u001b[39;00m frame_apply\n\u001b[1;32m  10362\u001b[0m op \u001b[38;5;241m=\u001b[39m frame_apply(\n\u001b[1;32m  10363\u001b[0m     \u001b[38;5;28mself\u001b[39m,\n\u001b[1;32m  10364\u001b[0m     func\u001b[38;5;241m=\u001b[39mfunc,\n\u001b[0;32m   (...)\u001b[0m\n\u001b[1;32m  10372\u001b[0m     kwargs\u001b[38;5;241m=\u001b[39mkwargs,\n\u001b[1;32m  10373\u001b[0m )\n\u001b[0;32m> 10374\u001b[0m \u001b[38;5;28;01mreturn\u001b[39;00m \u001b[43mop\u001b[49m\u001b[38;5;241;43m.\u001b[39;49m\u001b[43mapply\u001b[49m\u001b[43m(\u001b[49m\u001b[43m)\u001b[49m\u001b[38;5;241m.\u001b[39m__finalize__(\u001b[38;5;28mself\u001b[39m, method\u001b[38;5;241m=\u001b[39m\u001b[38;5;124m\"\u001b[39m\u001b[38;5;124mapply\u001b[39m\u001b[38;5;124m\"\u001b[39m)\n",
      "File \u001b[0;32m~/anaconda3/envs/mlops_exp/lib/python3.12/site-packages/pandas/core/apply.py:916\u001b[0m, in \u001b[0;36mFrameApply.apply\u001b[0;34m(self)\u001b[0m\n\u001b[1;32m    913\u001b[0m \u001b[38;5;28;01melif\u001b[39;00m \u001b[38;5;28mself\u001b[39m\u001b[38;5;241m.\u001b[39mraw:\n\u001b[1;32m    914\u001b[0m     \u001b[38;5;28;01mreturn\u001b[39;00m \u001b[38;5;28mself\u001b[39m\u001b[38;5;241m.\u001b[39mapply_raw(engine\u001b[38;5;241m=\u001b[39m\u001b[38;5;28mself\u001b[39m\u001b[38;5;241m.\u001b[39mengine, engine_kwargs\u001b[38;5;241m=\u001b[39m\u001b[38;5;28mself\u001b[39m\u001b[38;5;241m.\u001b[39mengine_kwargs)\n\u001b[0;32m--> 916\u001b[0m \u001b[38;5;28;01mreturn\u001b[39;00m \u001b[38;5;28;43mself\u001b[39;49m\u001b[38;5;241;43m.\u001b[39;49m\u001b[43mapply_standard\u001b[49m\u001b[43m(\u001b[49m\u001b[43m)\u001b[49m\n",
      "File \u001b[0;32m~/anaconda3/envs/mlops_exp/lib/python3.12/site-packages/pandas/core/apply.py:1063\u001b[0m, in \u001b[0;36mFrameApply.apply_standard\u001b[0;34m(self)\u001b[0m\n\u001b[1;32m   1061\u001b[0m \u001b[38;5;28;01mdef\u001b[39;00m \u001b[38;5;21mapply_standard\u001b[39m(\u001b[38;5;28mself\u001b[39m):\n\u001b[1;32m   1062\u001b[0m     \u001b[38;5;28;01mif\u001b[39;00m \u001b[38;5;28mself\u001b[39m\u001b[38;5;241m.\u001b[39mengine \u001b[38;5;241m==\u001b[39m \u001b[38;5;124m\"\u001b[39m\u001b[38;5;124mpython\u001b[39m\u001b[38;5;124m\"\u001b[39m:\n\u001b[0;32m-> 1063\u001b[0m         results, res_index \u001b[38;5;241m=\u001b[39m \u001b[38;5;28;43mself\u001b[39;49m\u001b[38;5;241;43m.\u001b[39;49m\u001b[43mapply_series_generator\u001b[49m\u001b[43m(\u001b[49m\u001b[43m)\u001b[49m\n\u001b[1;32m   1064\u001b[0m     \u001b[38;5;28;01melse\u001b[39;00m:\n\u001b[1;32m   1065\u001b[0m         results, res_index \u001b[38;5;241m=\u001b[39m \u001b[38;5;28mself\u001b[39m\u001b[38;5;241m.\u001b[39mapply_series_numba()\n",
      "File \u001b[0;32m~/anaconda3/envs/mlops_exp/lib/python3.12/site-packages/pandas/core/apply.py:1081\u001b[0m, in \u001b[0;36mFrameApply.apply_series_generator\u001b[0;34m(self)\u001b[0m\n\u001b[1;32m   1078\u001b[0m \u001b[38;5;28;01mwith\u001b[39;00m option_context(\u001b[38;5;124m\"\u001b[39m\u001b[38;5;124mmode.chained_assignment\u001b[39m\u001b[38;5;124m\"\u001b[39m, \u001b[38;5;28;01mNone\u001b[39;00m):\n\u001b[1;32m   1079\u001b[0m     \u001b[38;5;28;01mfor\u001b[39;00m i, v \u001b[38;5;129;01min\u001b[39;00m \u001b[38;5;28menumerate\u001b[39m(series_gen):\n\u001b[1;32m   1080\u001b[0m         \u001b[38;5;66;03m# ignore SettingWithCopy here in case the user mutates\u001b[39;00m\n\u001b[0;32m-> 1081\u001b[0m         results[i] \u001b[38;5;241m=\u001b[39m \u001b[38;5;28;43mself\u001b[39;49m\u001b[38;5;241;43m.\u001b[39;49m\u001b[43mfunc\u001b[49m\u001b[43m(\u001b[49m\u001b[43mv\u001b[49m\u001b[43m,\u001b[49m\u001b[43m \u001b[49m\u001b[38;5;241;43m*\u001b[39;49m\u001b[38;5;28;43mself\u001b[39;49m\u001b[38;5;241;43m.\u001b[39;49m\u001b[43margs\u001b[49m\u001b[43m,\u001b[49m\u001b[43m \u001b[49m\u001b[38;5;241;43m*\u001b[39;49m\u001b[38;5;241;43m*\u001b[39;49m\u001b[38;5;28;43mself\u001b[39;49m\u001b[38;5;241;43m.\u001b[39;49m\u001b[43mkwargs\u001b[49m\u001b[43m)\u001b[49m\n\u001b[1;32m   1082\u001b[0m         \u001b[38;5;28;01mif\u001b[39;00m \u001b[38;5;28misinstance\u001b[39m(results[i], ABCSeries):\n\u001b[1;32m   1083\u001b[0m             \u001b[38;5;66;03m# If we have a view on v, we need to make a copy because\u001b[39;00m\n\u001b[1;32m   1084\u001b[0m             \u001b[38;5;66;03m#  series_generator will swap out the underlying data\u001b[39;00m\n\u001b[1;32m   1085\u001b[0m             results[i] \u001b[38;5;241m=\u001b[39m results[i]\u001b[38;5;241m.\u001b[39mcopy(deep\u001b[38;5;241m=\u001b[39m\u001b[38;5;28;01mFalse\u001b[39;00m)\n",
      "File \u001b[0;32m~/anaconda3/envs/mlops_exp/lib/python3.12/site-packages/tqdm/std.py:912\u001b[0m, in \u001b[0;36mtqdm.pandas.<locals>.inner_generator.<locals>.inner.<locals>.wrapper\u001b[0;34m(*args, **kwargs)\u001b[0m\n\u001b[1;32m    906\u001b[0m \u001b[38;5;28;01mdef\u001b[39;00m \u001b[38;5;21mwrapper\u001b[39m(\u001b[38;5;241m*\u001b[39margs, \u001b[38;5;241m*\u001b[39m\u001b[38;5;241m*\u001b[39mkwargs):\n\u001b[1;32m    907\u001b[0m     \u001b[38;5;66;03m# update tbar correctly\u001b[39;00m\n\u001b[1;32m    908\u001b[0m     \u001b[38;5;66;03m# it seems `pandas apply` calls `func` twice\u001b[39;00m\n\u001b[1;32m    909\u001b[0m     \u001b[38;5;66;03m# on the first column/row to decide whether it can\u001b[39;00m\n\u001b[1;32m    910\u001b[0m     \u001b[38;5;66;03m# take a fast or slow code path; so stop when t.total==t.n\u001b[39;00m\n\u001b[1;32m    911\u001b[0m     t\u001b[38;5;241m.\u001b[39mupdate(n\u001b[38;5;241m=\u001b[39m\u001b[38;5;241m1\u001b[39m \u001b[38;5;28;01mif\u001b[39;00m \u001b[38;5;129;01mnot\u001b[39;00m t\u001b[38;5;241m.\u001b[39mtotal \u001b[38;5;129;01mor\u001b[39;00m t\u001b[38;5;241m.\u001b[39mn \u001b[38;5;241m<\u001b[39m t\u001b[38;5;241m.\u001b[39mtotal \u001b[38;5;28;01melse\u001b[39;00m \u001b[38;5;241m0\u001b[39m)\n\u001b[0;32m--> 912\u001b[0m     \u001b[38;5;28;01mreturn\u001b[39;00m \u001b[43mfunc\u001b[49m\u001b[43m(\u001b[49m\u001b[38;5;241;43m*\u001b[39;49m\u001b[43margs\u001b[49m\u001b[43m,\u001b[49m\u001b[43m \u001b[49m\u001b[38;5;241;43m*\u001b[39;49m\u001b[38;5;241;43m*\u001b[39;49m\u001b[43mkwargs\u001b[49m\u001b[43m)\u001b[49m\n",
      "File \u001b[0;32m~/anaconda3/envs/mlops_exp/lib/python3.12/site-packages/snorkel/labeling/apply/pandas.py:37\u001b[0m, in \u001b[0;36mapply_lfs_to_data_point\u001b[0;34m(x, lfs, f_caller)\u001b[0m\n\u001b[1;32m     35\u001b[0m labels \u001b[38;5;241m=\u001b[39m []\n\u001b[1;32m     36\u001b[0m \u001b[38;5;28;01mfor\u001b[39;00m j, lf \u001b[38;5;129;01min\u001b[39;00m \u001b[38;5;28menumerate\u001b[39m(lfs):\n\u001b[0;32m---> 37\u001b[0m     y \u001b[38;5;241m=\u001b[39m \u001b[43mf_caller\u001b[49m\u001b[43m(\u001b[49m\u001b[43mlf\u001b[49m\u001b[43m,\u001b[49m\u001b[43m \u001b[49m\u001b[43mx\u001b[49m\u001b[43m)\u001b[49m\n\u001b[1;32m     38\u001b[0m     \u001b[38;5;28;01mif\u001b[39;00m y \u001b[38;5;241m>\u001b[39m\u001b[38;5;241m=\u001b[39m \u001b[38;5;241m0\u001b[39m:\n\u001b[1;32m     39\u001b[0m         labels\u001b[38;5;241m.\u001b[39mappend((j, y))\n",
      "File \u001b[0;32m~/anaconda3/envs/mlops_exp/lib/python3.12/site-packages/snorkel/labeling/apply/core.py:28\u001b[0m, in \u001b[0;36m_FunctionCaller.__call__\u001b[0;34m(self, f, x)\u001b[0m\n\u001b[1;32m     26\u001b[0m \u001b[38;5;28;01mdef\u001b[39;00m \u001b[38;5;21m__call__\u001b[39m(\u001b[38;5;28mself\u001b[39m, f: LabelingFunction, x: DataPoint) \u001b[38;5;241m-\u001b[39m\u001b[38;5;241m>\u001b[39m \u001b[38;5;28mint\u001b[39m:\n\u001b[1;32m     27\u001b[0m     \u001b[38;5;28;01mif\u001b[39;00m \u001b[38;5;129;01mnot\u001b[39;00m \u001b[38;5;28mself\u001b[39m\u001b[38;5;241m.\u001b[39mfault_tolerant:\n\u001b[0;32m---> 28\u001b[0m         \u001b[38;5;28;01mreturn\u001b[39;00m \u001b[43mf\u001b[49m\u001b[43m(\u001b[49m\u001b[43mx\u001b[49m\u001b[43m)\u001b[49m\n\u001b[1;32m     29\u001b[0m     \u001b[38;5;28;01mtry\u001b[39;00m:\n\u001b[1;32m     30\u001b[0m         \u001b[38;5;28;01mreturn\u001b[39;00m f(x)\n",
      "File \u001b[0;32m~/anaconda3/envs/mlops_exp/lib/python3.12/site-packages/snorkel/labeling/lf/core.py:77\u001b[0m, in \u001b[0;36mLabelingFunction.__call__\u001b[0;34m(self, x)\u001b[0m\n\u001b[1;32m     62\u001b[0m \u001b[38;5;250m\u001b[39m\u001b[38;5;124;03m\"\"\"Label data point.\u001b[39;00m\n\u001b[1;32m     63\u001b[0m \n\u001b[1;32m     64\u001b[0m \u001b[38;5;124;03mRuns all preprocessors, then passes preprocessed data point to LF.\u001b[39;00m\n\u001b[0;32m   (...)\u001b[0m\n\u001b[1;32m     74\u001b[0m \u001b[38;5;124;03m    Label for data point\u001b[39;00m\n\u001b[1;32m     75\u001b[0m \u001b[38;5;124;03m\"\"\"\u001b[39;00m\n\u001b[1;32m     76\u001b[0m x \u001b[38;5;241m=\u001b[39m \u001b[38;5;28mself\u001b[39m\u001b[38;5;241m.\u001b[39m_preprocess_data_point(x)\n\u001b[0;32m---> 77\u001b[0m \u001b[38;5;28;01mreturn\u001b[39;00m \u001b[38;5;28;43mself\u001b[39;49m\u001b[38;5;241;43m.\u001b[39;49m\u001b[43m_f\u001b[49m\u001b[43m(\u001b[49m\u001b[43mx\u001b[49m\u001b[43m,\u001b[49m\u001b[43m \u001b[49m\u001b[38;5;241;43m*\u001b[39;49m\u001b[38;5;241;43m*\u001b[39;49m\u001b[38;5;28;43mself\u001b[39;49m\u001b[38;5;241;43m.\u001b[39;49m\u001b[43m_resources\u001b[49m\u001b[43m)\u001b[49m\n",
      "Cell \u001b[0;32mIn[4], line 25\u001b[0m, in \u001b[0;36mlf_high_rating\u001b[0;34m(row)\u001b[0m\n\u001b[1;32m     23\u001b[0m \u001b[38;5;129m@labeling_function\u001b[39m()\n\u001b[1;32m     24\u001b[0m \u001b[38;5;28;01mdef\u001b[39;00m \u001b[38;5;21mlf_high_rating\u001b[39m(row):\n\u001b[0;32m---> 25\u001b[0m     \u001b[38;5;28;01mreturn\u001b[39;00m POSITIVE \u001b[38;5;28;01mif\u001b[39;00m \u001b[43mrow\u001b[49m\u001b[38;5;241;43m.\u001b[39;49m\u001b[43mrating\u001b[49m\u001b[43m \u001b[49m\u001b[38;5;241;43m>\u001b[39;49m\u001b[38;5;241;43m=\u001b[39;49m\u001b[43m \u001b[49m\u001b[38;5;241;43m4\u001b[39;49m \u001b[38;5;28;01melse\u001b[39;00m NEUTRAL\n",
      "\u001b[0;31mTypeError\u001b[0m: '>=' not supported between instances of 'str' and 'int'"
     ]
    }
   ],
   "source": [
    "from snorkel.labeling import PandasLFApplier#, LabelModel\n",
    "df_pandas = df_cleaned.toPandas()\n",
    "\n",
    "# Apply labeling functions to the DataFrame\n",
    "applier = PandasLFApplier(lfs)\n",
    "L = applier.apply(df_pandas)\n",
    "\n",
    "# Train Snorkel’s LabelModel to combine these weak labels\n",
    "label_model = LabelModel(cardinality=3, verbose=True)\n",
    "label_model.fit(L_train=L, n_epochs=500, log_freq=100)\n",
    "\n",
    "# Predict final labels using Snorkel’s model\n",
    "df_pandas['label_snorkel_rating'] = label_model.predict(L)"
   ]
  },
  {
   "cell_type": "code",
   "execution_count": null,
   "metadata": {},
   "outputs": [],
   "source": []
  }
 ],
 "metadata": {
  "kernelspec": {
   "display_name": "mlops_exp",
   "language": "python",
   "name": "python3"
  },
  "language_info": {
   "codemirror_mode": {
    "name": "ipython",
    "version": 3
   },
   "file_extension": ".py",
   "mimetype": "text/x-python",
   "name": "python",
   "nbconvert_exporter": "python",
   "pygments_lexer": "ipython3",
   "version": "3.12.7"
  }
 },
 "nbformat": 4,
 "nbformat_minor": 2
}

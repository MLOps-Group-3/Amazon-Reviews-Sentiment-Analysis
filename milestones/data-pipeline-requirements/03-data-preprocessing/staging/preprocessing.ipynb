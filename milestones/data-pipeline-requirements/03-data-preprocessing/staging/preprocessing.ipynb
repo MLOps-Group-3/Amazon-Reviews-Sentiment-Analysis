{
 "cells": [
  {
   "cell_type": "code",
   "execution_count": 1,
   "metadata": {},
   "outputs": [],
   "source": [
    "import pandas as pd"
   ]
  },
  {
   "cell_type": "code",
   "execution_count": 2,
   "metadata": {},
   "outputs": [],
   "source": [
    "df = pd.read_csv('./data/sampled_2018.csv')"
   ]
  },
  {
   "cell_type": "code",
   "execution_count": 5,
   "metadata": {},
   "outputs": [
    {
     "data": {
      "text/plain": [
       "0    [\"Dining & Entertaining\", \"Dinnerware & Servew...\n",
       "1    [\"Dining & Entertaining\", \"Dinnerware & Servew...\n",
       "2              [\"Home & Kitchen\", \"Bath\", \"Bath Rugs\"]\n",
       "3              [\"Home & Kitchen\", \"Bath\", \"Bath Rugs\"]\n",
       "4              [\"Home & Kitchen\", \"Bath\", \"Bath Rugs\"]\n",
       "Name: categories, dtype: object"
      ]
     },
     "execution_count": 5,
     "metadata": {},
     "output_type": "execute_result"
    }
   ],
   "source": [
    "df.head()['categories']"
   ]
  },
  {
   "cell_type": "code",
   "execution_count": 4,
   "metadata": {},
   "outputs": [
    {
     "data": {
      "text/plain": [
       "Index(['rating', 'title_x', 'text', 'asin', 'parent_asin', 'user_id',\n",
       "       'timestamp', 'helpful_vote', 'verified_purchase', 'month',\n",
       "       'main_category', 'title_y', 'average_rating', 'rating_number',\n",
       "       'features', 'description', 'price', 'store', 'categories', 'brand',\n",
       "       'material', 'color', 'capacity', 'style', 'pattern',\n",
       "       'care_instructions', 'unit_count', 'dimensions', 'num_items',\n",
       "       'item_weight', 'best_sellers_rank', 'discontinued',\n",
       "       'date_first_available'],\n",
       "      dtype='object')"
      ]
     },
     "execution_count": 4,
     "metadata": {},
     "output_type": "execute_result"
    }
   ],
   "source": [
    "df.columns"
   ]
  },
  {
   "cell_type": "code",
   "execution_count": 22,
   "metadata": {},
   "outputs": [
    {
     "data": {
      "text/html": [
       "<div>\n",
       "<style scoped>\n",
       "    .dataframe tbody tr th:only-of-type {\n",
       "        vertical-align: middle;\n",
       "    }\n",
       "\n",
       "    .dataframe tbody tr th {\n",
       "        vertical-align: top;\n",
       "    }\n",
       "\n",
       "    .dataframe thead th {\n",
       "        text-align: right;\n",
       "    }\n",
       "</style>\n",
       "<table border=\"1\" class=\"dataframe\">\n",
       "  <thead>\n",
       "    <tr style=\"text-align: right;\">\n",
       "      <th></th>\n",
       "      <th>rating</th>\n",
       "      <th>title_x</th>\n",
       "      <th>text</th>\n",
       "      <th>timestamp</th>\n",
       "      <th>helpful_vote</th>\n",
       "      <th>verified_purchase</th>\n",
       "      <th>categories</th>\n",
       "      <th>price</th>\n",
       "      <th>parent_asin</th>\n",
       "      <th>features</th>\n",
       "    </tr>\n",
       "  </thead>\n",
       "  <tbody>\n",
       "    <tr>\n",
       "      <th>0</th>\n",
       "      <td>5.0</td>\n",
       "      <td>Very nice set, is very temperamental but made ...</td>\n",
       "      <td>Really nice and cute. I bought these to put on...</td>\n",
       "      <td>2018-01-12 23:07:11.420</td>\n",
       "      <td>19</td>\n",
       "      <td>1</td>\n",
       "      <td>[\"Dining &amp; Entertaining\", \"Dinnerware &amp; Servew...</td>\n",
       "      <td>29.99</td>\n",
       "      <td>B00M2IAPXK</td>\n",
       "      <td>[\"Condiment and dipping bowl set includes beau...</td>\n",
       "    </tr>\n",
       "    <tr>\n",
       "      <th>1</th>\n",
       "      <td>5.0</td>\n",
       "      <td>Really like it</td>\n",
       "      <td>I really like it, always receive good comments...</td>\n",
       "      <td>2018-12-15 20:13:58.764</td>\n",
       "      <td>0</td>\n",
       "      <td>1</td>\n",
       "      <td>[\"Dining &amp; Entertaining\", \"Dinnerware &amp; Servew...</td>\n",
       "      <td>19.82</td>\n",
       "      <td>B01BGQ82LU</td>\n",
       "      <td>[\"Arch de dip chip &amp; dip bowl\", \"Party ready c...</td>\n",
       "    </tr>\n",
       "    <tr>\n",
       "      <th>2</th>\n",
       "      <td>1.0</td>\n",
       "      <td>Frayed material the first week! Not a good pro...</td>\n",
       "      <td>Junk it started to fray the same week I bought...</td>\n",
       "      <td>2018-01-29 19:39:33.495</td>\n",
       "      <td>0</td>\n",
       "      <td>1</td>\n",
       "      <td>[\"Home &amp; Kitchen\", \"Bath\", \"Bath Rugs\"]</td>\n",
       "      <td>14.96</td>\n",
       "      <td>B018CWUO3K</td>\n",
       "      <td>[\"Skid resistant: safe &amp; reliable pvc construc...</td>\n",
       "    </tr>\n",
       "    <tr>\n",
       "      <th>3</th>\n",
       "      <td>1.0</td>\n",
       "      <td>Small over priced crappy product. Would never buy</td>\n",
       "      <td>Small over priced crappy product. Would never ...</td>\n",
       "      <td>2018-01-21 21:42:14.843</td>\n",
       "      <td>2</td>\n",
       "      <td>1</td>\n",
       "      <td>[\"Home &amp; Kitchen\", \"Bath\", \"Bath Rugs\"]</td>\n",
       "      <td>19.34</td>\n",
       "      <td>B09K4WX5ND</td>\n",
       "      <td>[\"Fuzzy Microfiber\", \"Imported\", \"SUPER SOFT: ...</td>\n",
       "    </tr>\n",
       "    <tr>\n",
       "      <th>4</th>\n",
       "      <td>1.0</td>\n",
       "      <td>One Star</td>\n",
       "      <td>Returned</td>\n",
       "      <td>2018-02-07 18:14:13.772</td>\n",
       "      <td>0</td>\n",
       "      <td>1</td>\n",
       "      <td>[\"Home &amp; Kitchen\", \"Bath\", \"Bath Rugs\"]</td>\n",
       "      <td>NaN</td>\n",
       "      <td>B00LRYF0XA</td>\n",
       "      <td>[\"30\\\"X46\\\" Size Bath Rug Perfect for Shower, ...</td>\n",
       "    </tr>\n",
       "    <tr>\n",
       "      <th>...</th>\n",
       "      <td>...</td>\n",
       "      <td>...</td>\n",
       "      <td>...</td>\n",
       "      <td>...</td>\n",
       "      <td>...</td>\n",
       "      <td>...</td>\n",
       "      <td>...</td>\n",
       "      <td>...</td>\n",
       "      <td>...</td>\n",
       "      <td>...</td>\n",
       "    </tr>\n",
       "    <tr>\n",
       "      <th>51930</th>\n",
       "      <td>5.0</td>\n",
       "      <td>Easy to install and great</td>\n",
       "      <td>This took just a few minutes to install and ma...</td>\n",
       "      <td>2018-12-26 05:27:32.269</td>\n",
       "      <td>0</td>\n",
       "      <td>1</td>\n",
       "      <td>[]</td>\n",
       "      <td>62.95</td>\n",
       "      <td>B00N109ZPM</td>\n",
       "      <td>[\"Dedicated smoke mode with user-controlled fe...</td>\n",
       "    </tr>\n",
       "    <tr>\n",
       "      <th>51931</th>\n",
       "      <td>5.0</td>\n",
       "      <td>Bigger than expected</td>\n",
       "      <td>These were larger capacity than expected. Won’...</td>\n",
       "      <td>2018-12-15 16:29:55.529</td>\n",
       "      <td>0</td>\n",
       "      <td>1</td>\n",
       "      <td>[]</td>\n",
       "      <td>NaN</td>\n",
       "      <td>B06W2K6XW4</td>\n",
       "      <td>[]</td>\n",
       "    </tr>\n",
       "    <tr>\n",
       "      <th>51932</th>\n",
       "      <td>5.0</td>\n",
       "      <td>turned out well</td>\n",
       "      <td>I liked the fact I could turn them around also...</td>\n",
       "      <td>2018-12-03 20:57:58.357</td>\n",
       "      <td>0</td>\n",
       "      <td>1</td>\n",
       "      <td>[]</td>\n",
       "      <td>NaN</td>\n",
       "      <td>B07C3NWYSS</td>\n",
       "      <td>[]</td>\n",
       "    </tr>\n",
       "    <tr>\n",
       "      <th>51933</th>\n",
       "      <td>5.0</td>\n",
       "      <td>Cute</td>\n",
       "      <td>My toddler doesn't go to sleep without this pi...</td>\n",
       "      <td>2018-12-04 10:45:26.514</td>\n",
       "      <td>0</td>\n",
       "      <td>1</td>\n",
       "      <td>[]</td>\n",
       "      <td>26.45</td>\n",
       "      <td>B06XBG6V51</td>\n",
       "      <td>[]</td>\n",
       "    </tr>\n",
       "    <tr>\n",
       "      <th>51934</th>\n",
       "      <td>5.0</td>\n",
       "      <td>Totally Pleased!</td>\n",
       "      <td>Just a lovely wreath - stunning in fact!</td>\n",
       "      <td>2018-12-08 15:44:00.950</td>\n",
       "      <td>0</td>\n",
       "      <td>1</td>\n",
       "      <td>[]</td>\n",
       "      <td>NaN</td>\n",
       "      <td>B071W17FK3</td>\n",
       "      <td>[]</td>\n",
       "    </tr>\n",
       "  </tbody>\n",
       "</table>\n",
       "<p>51935 rows × 10 columns</p>\n",
       "</div>"
      ],
      "text/plain": [
       "       rating                                            title_x  \\\n",
       "0         5.0  Very nice set, is very temperamental but made ...   \n",
       "1         5.0                                     Really like it   \n",
       "2         1.0  Frayed material the first week! Not a good pro...   \n",
       "3         1.0  Small over priced crappy product. Would never buy   \n",
       "4         1.0                                           One Star   \n",
       "...       ...                                                ...   \n",
       "51930     5.0                          Easy to install and great   \n",
       "51931     5.0                               Bigger than expected   \n",
       "51932     5.0                                    turned out well   \n",
       "51933     5.0                                               Cute   \n",
       "51934     5.0                                   Totally Pleased!   \n",
       "\n",
       "                                                    text  \\\n",
       "0      Really nice and cute. I bought these to put on...   \n",
       "1      I really like it, always receive good comments...   \n",
       "2      Junk it started to fray the same week I bought...   \n",
       "3      Small over priced crappy product. Would never ...   \n",
       "4                                               Returned   \n",
       "...                                                  ...   \n",
       "51930  This took just a few minutes to install and ma...   \n",
       "51931  These were larger capacity than expected. Won’...   \n",
       "51932  I liked the fact I could turn them around also...   \n",
       "51933  My toddler doesn't go to sleep without this pi...   \n",
       "51934           Just a lovely wreath - stunning in fact!   \n",
       "\n",
       "                     timestamp  helpful_vote  verified_purchase  \\\n",
       "0      2018-01-12 23:07:11.420            19                  1   \n",
       "1      2018-12-15 20:13:58.764             0                  1   \n",
       "2      2018-01-29 19:39:33.495             0                  1   \n",
       "3      2018-01-21 21:42:14.843             2                  1   \n",
       "4      2018-02-07 18:14:13.772             0                  1   \n",
       "...                        ...           ...                ...   \n",
       "51930  2018-12-26 05:27:32.269             0                  1   \n",
       "51931  2018-12-15 16:29:55.529             0                  1   \n",
       "51932  2018-12-03 20:57:58.357             0                  1   \n",
       "51933  2018-12-04 10:45:26.514             0                  1   \n",
       "51934  2018-12-08 15:44:00.950             0                  1   \n",
       "\n",
       "                                              categories  price parent_asin  \\\n",
       "0      [\"Dining & Entertaining\", \"Dinnerware & Servew...  29.99  B00M2IAPXK   \n",
       "1      [\"Dining & Entertaining\", \"Dinnerware & Servew...  19.82  B01BGQ82LU   \n",
       "2                [\"Home & Kitchen\", \"Bath\", \"Bath Rugs\"]  14.96  B018CWUO3K   \n",
       "3                [\"Home & Kitchen\", \"Bath\", \"Bath Rugs\"]  19.34  B09K4WX5ND   \n",
       "4                [\"Home & Kitchen\", \"Bath\", \"Bath Rugs\"]    NaN  B00LRYF0XA   \n",
       "...                                                  ...    ...         ...   \n",
       "51930                                                 []  62.95  B00N109ZPM   \n",
       "51931                                                 []    NaN  B06W2K6XW4   \n",
       "51932                                                 []    NaN  B07C3NWYSS   \n",
       "51933                                                 []  26.45  B06XBG6V51   \n",
       "51934                                                 []    NaN  B071W17FK3   \n",
       "\n",
       "                                                features  \n",
       "0      [\"Condiment and dipping bowl set includes beau...  \n",
       "1      [\"Arch de dip chip & dip bowl\", \"Party ready c...  \n",
       "2      [\"Skid resistant: safe & reliable pvc construc...  \n",
       "3      [\"Fuzzy Microfiber\", \"Imported\", \"SUPER SOFT: ...  \n",
       "4      [\"30\\\"X46\\\" Size Bath Rug Perfect for Shower, ...  \n",
       "...                                                  ...  \n",
       "51930  [\"Dedicated smoke mode with user-controlled fe...  \n",
       "51931                                                 []  \n",
       "51932                                                 []  \n",
       "51933                                                 []  \n",
       "51934                                                 []  \n",
       "\n",
       "[51935 rows x 10 columns]"
      ]
     },
     "execution_count": 22,
     "metadata": {},
     "output_type": "execute_result"
    }
   ],
   "source": [
    "df[['rating', 'title_x', 'text','timestamp','helpful_vote','verified_purchase','categories','price','parent_asin','features']]#['features'][3]"
   ]
  },
  {
   "cell_type": "code",
   "execution_count": 65,
   "metadata": {},
   "outputs": [
    {
     "name": "stderr",
     "output_type": "stream",
     "text": [
      "24/10/26 17:11:52 WARN TaskSetManager: Stage 84 contains a task of very large size (2717 KiB). The maximum recommended task size is 1000 KiB.\n"
     ]
    },
    {
     "name": "stdout",
     "output_type": "stream",
     "text": [
      "Null values in price before cleaning: 0\n"
     ]
    },
    {
     "name": "stderr",
     "output_type": "stream",
     "text": [
      "24/10/26 17:11:52 WARN TaskSetManager: Stage 87 contains a task of very large size (2717 KiB). The maximum recommended task size is 1000 KiB.\n"
     ]
    },
    {
     "name": "stdout",
     "output_type": "stream",
     "text": [
      "Null values in price after cleaning: 20218\n"
     ]
    },
    {
     "name": "stderr",
     "output_type": "stream",
     "text": [
      "24/10/26 17:11:52 WARN TaskSetManager: Stage 93 contains a task of very large size (2717 KiB). The maximum recommended task size is 1000 KiB.\n"
     ]
    },
    {
     "name": "stdout",
     "output_type": "stream",
     "text": [
      "+------+--------------------+--------------------+--------------------+------------+-----------------+--------------------+-------+-----------+--------------------+\n",
      "|rating|             title_x|                text|           timestamp|helpful_vote|verified_purchase|          categories|  price|parent_asin|            features|\n",
      "+------+--------------------+--------------------+--------------------+------------+-----------------+--------------------+-------+-----------+--------------------+\n",
      "|   5.0|Great for the price!|Bought these for ...|2018-08-18 23:07:...|           0|                1|[[\"Home & Kitchen...|  29.99| B07YJ4GB3Y|[[\"Chenille\", \"So...|\n",
      "|   1.0|Started to smell ...|Started to smell ...|2018-01-25 23:20:...|           0|                1|[[\"Home & Kitchen...|  15.99| B07VS4K6P5|[[\"100% Pvc\", \"SH...|\n",
      "|   2.0|Terrible DO NOT BUY!|Cool idea, but ab...|2018-08-09 03:25:...|           0|                0|[[\"Home & Kitchen...|unknown| B077V6329T|[[\"2018 update 25...|\n",
      "|   5.0|             Perfect|Perfect for my gr...|2018-12-13 04:23:...|           0|                1|[[\"Home & Kitchen...|   5.95| B0767P12KZ|[[\"LEAK PROOF DES...|\n",
      "|   5.0| Highly recommended!|Great value for t...|2018-10-29 13:47:...|           0|                1|[[\"Home & Kitchen...|   19.9| B091XPSWQ5|[[\"RUSTPROOF- Mad...|\n",
      "|   5.0|Love the sound of...|Cute. Solid. Easy...|2018-01-29 04:06:...|           0|                1|[[\"Home & Kitchen...|   9.95| B0BXXNQZ4C|[[\"Stainless stee...|\n",
      "|   5.0|I love these curt...|I love these curt...|2018-01-31 22:04:...|           0|                1|[[\"Home & Kitchen...|   9.95| B0BXXNQZ4C|[[\"Stainless stee...|\n",
      "|   5.0|       Multiple uses|I use it to hang ...|2018-08-13 11:25:...|           0|                1|[[\"Home & Kitchen...|unknown| B07659SRZG|[[\"FUNCTIONAL ACC...|\n",
      "|   5.0|          Five Stars|      as described.!|2018-03-21 14:07:...|           0|                1|[[\"Home & Kitchen...|  28.83| B0BC2MMTMH|[[\"Polyester\", \"1...|\n",
      "|   1.0|Broken, terrible rod|Came broken. Does...|2018-10-24 19:17:...|           0|                1|[[\"Home & Kitchen...|unknown| B07ZQX8XHY|[[\"CONSTANT TENSI...|\n",
      "|   4.0|Beautuful!,didnt ...|First off this sh...|2018-09-25 03:41:...|           1|                1|[[\"Home & Kitchen...|unknown| B087DHGJY7|[[\"100% Microfibe...|\n",
      "|   5.0|          Five Stars|Super cute! Perfe...|2018-08-08 16:46:...|           0|                1|[[\"Home & Kitchen...|unknown| B01N64ANE6|                [[]]|\n",
      "|   5.0| Quality + Healthier|Excellent quality...|2018-10-10 22:57:...|           0|                1|[[\"Home & Kitchen...|  44.99| B07XGBZKLH|[[\"SUPREME QUALIT...|\n",
      "|   5.0|Amazing and disgu...|I absolutely love...|2018-08-29 23:54:...|          72|                1|[[\"Home & Kitchen...|    8.7| B0BMQTXVJ5|[[\"East and West ...|\n",
      "|   5.0|          Five Stars|More then satisfi...|2018-01-25 21:47:...|           1|                1|[[\"Home & Kitchen...| 239.44| B01G9B4XXS|[[\"King Size - Ou...|\n",
      "|   1.0|This is like putt...|This is like putt...|2018-05-23 17:49:...|           0|                1|[[\"Home & Kitchen...|unknown| B0043L17NG|[[\"Foam construti...|\n",
      "|   5.0|          Five Stars|         As expected|2018-01-22 16:05:...|           0|                1|[[\"Home & Kitchen...|  61.37| B08XYD548C|[[\"Cotton\", \"SUPE...|\n",
      "|   5.0|               Love.|I loved my first ...|2018-08-01 01:08:...|           0|                1|[[\"Home & Kitchen...|  37.03| B0C5S3W1VG|[[\"QUALITY - Rest...|\n",
      "|   1.0|     Not comfortable|     Not comfortable|2018-12-04 09:51:...|           0|                0|[[\"Home & Kitchen...|unknown| B076D76DTJ|[[\"Plush\", \"ERGON...|\n",
      "|   4.0|          Four Stars|It has 2 spots se...|2018-03-01 15:25:...|           0|                1|[[\"Home & Kitchen...|  13.49| B06Y4CX2L9|[[\"Super Durable:...|\n",
      "+------+--------------------+--------------------+--------------------+------------+-----------------+--------------------+-------+-----------+--------------------+\n",
      "only showing top 20 rows\n",
      "\n"
     ]
    }
   ],
   "source": [
    "from pyspark.sql import SparkSession\n",
    "from pyspark.sql.functions import col, regexp_replace, split, when\n",
    "from pyspark.sql.types import FloatType\n",
    "\n",
    "# Initialize Spark session\n",
    "spark = SparkSession.builder \\\n",
    "    .appName(\"AmazonReviewDataCleaning\") \\\n",
    "    .getOrCreate()\n",
    "\n",
    "def clean_amazon_reviews(df):\n",
    "    \"\"\"\n",
    "    Function to clean Amazon review data at scale using PySpark.\n",
    "    Parameters:\n",
    "        df (DataFrame): Input Spark DataFrame containing Amazon review data.\n",
    "    Returns:\n",
    "        DataFrame: Cleaned Spark DataFrame.\n",
    "    \"\"\"\n",
    "\n",
    "    # 1. Drop duplicates\n",
    "    df = df.dropDuplicates()\n",
    "\n",
    "    # 2. Handle missing values\n",
    "    # - Drop reviews with missing text or rating\n",
    "    df = df.filter(col(\"text\").isNotNull() & col(\"rating\").isNotNull())    \n",
    "\n",
    "    # - Replace null lists with empty lists in 'categories' and 'features'\n",
    "    df = df.withColumn(\"categories\", split(regexp_replace(col(\"categories\").cast(\"string\"), \"null\", \"[]\"), \", \"))\n",
    "    df = df.withColumn(\"features\", split(regexp_replace(col(\"features\").cast(\"string\"), \"null\", \"[]\"), \", \"))\n",
    "\n",
    "    # - Handle missing values by replacing NaN with 'unknown', helpful_vote with 0\n",
    "    df = df.fillna({\"title_x\": \"unknown\", \"helpful_vote\": 0})\n",
    "    df = df.withColumn(\"price\", \n",
    "                       when(col(\"price\").isNull() | (col(\"price\").cast(\"string\") == \"NaN\"), \"unknown\")\n",
    "                       .otherwise(col(\"price\").cast(\"string\")))\n",
    "    \n",
    "    # 3. Clean and normalize text columns\n",
    "    # - Remove extra whitespaces in 'title_x' and 'text' columns\n",
    "    df = df.withColumn(\"title_x\", regexp_replace(col(\"title_x\"), r\"\\s+\", \" \"))\n",
    "    df = df.withColumn(\"text\", regexp_replace(col(\"text\"), r\"\\s+\", \" \"))\n",
    "\n",
    "    return df\n",
    "\n",
    "\n",
    "col_list = ['rating', 'title_x', 'text','timestamp','helpful_vote','verified_purchase','categories','price','parent_asin','features']\n",
    "# Assuming your data is in a Spark DataFrame called `df_raw`\n",
    "df_raw = spark.createDataFrame(df[col_list].copy())\n",
    "\n",
    "print(\"Null values in price before cleaning:\", df_raw.filter(col(\"price\").isNull()).count())\n",
    "\n",
    "df_cleaned = clean_amazon_reviews(df_raw)\n",
    "\n",
    "print(\"Null values in price after cleaning:\", df_cleaned.filter(col(\"price\") == \"unknown\").count())\n",
    "# Show the cleaned data\n",
    "df_cleaned.show()\n"
   ]
  },
  {
   "cell_type": "code",
   "execution_count": 64,
   "metadata": {},
   "outputs": [
    {
     "name": "stderr",
     "output_type": "stream",
     "text": [
      "24/10/26 17:11:08 WARN TaskSetManager: Stage 81 contains a task of very large size (2717 KiB). The maximum recommended task size is 1000 KiB.\n"
     ]
    },
    {
     "name": "stdout",
     "output_type": "stream",
     "text": [
      "+------+\n",
      "| price|\n",
      "+------+\n",
      "| 29.99|\n",
      "| 15.99|\n",
      "|   NaN|\n",
      "|  5.95|\n",
      "|  19.9|\n",
      "|  9.95|\n",
      "|  9.95|\n",
      "|   NaN|\n",
      "| 28.83|\n",
      "|   NaN|\n",
      "|   NaN|\n",
      "|   NaN|\n",
      "| 44.99|\n",
      "|   8.7|\n",
      "|239.44|\n",
      "|   NaN|\n",
      "| 61.37|\n",
      "| 37.03|\n",
      "|   NaN|\n",
      "| 13.49|\n",
      "+------+\n",
      "only showing top 20 rows\n",
      "\n"
     ]
    }
   ],
   "source": [
    "df_cleaned[['price']].show()"
   ]
  },
  {
   "cell_type": "code",
   "execution_count": 46,
   "metadata": {},
   "outputs": [
    {
     "name": "stderr",
     "output_type": "stream",
     "text": [
      "24/10/26 16:52:35 WARN TaskSetManager: Stage 26 contains a task of very large size (2717 KiB). The maximum recommended task size is 1000 KiB.\n",
      "[Stage 28:===================================================>    (12 + 1) / 13]\r"
     ]
    },
    {
     "name": "stdout",
     "output_type": "stream",
     "text": [
      "+--------------------+\n",
      "|count(DISTINCT text)|\n",
      "+--------------------+\n",
      "|               49204|\n",
      "+--------------------+\n",
      "\n"
     ]
    },
    {
     "name": "stderr",
     "output_type": "stream",
     "text": [
      "                                                                                \r"
     ]
    }
   ],
   "source": [
    "from pyspark.sql.functions import countDistinct\n",
    "df_cleaned.select(countDistinct(\"text\")).show()"
   ]
  },
  {
   "cell_type": "code",
   "execution_count": 32,
   "metadata": {},
   "outputs": [],
   "source": [
    "df_temp = df[col_list].copy()"
   ]
  },
  {
   "cell_type": "code",
   "execution_count": 72,
   "metadata": {},
   "outputs": [
    {
     "data": {
      "text/html": [
       "<div>\n",
       "<style scoped>\n",
       "    .dataframe tbody tr th:only-of-type {\n",
       "        vertical-align: middle;\n",
       "    }\n",
       "\n",
       "    .dataframe tbody tr th {\n",
       "        vertical-align: top;\n",
       "    }\n",
       "\n",
       "    .dataframe thead th {\n",
       "        text-align: right;\n",
       "    }\n",
       "</style>\n",
       "<table border=\"1\" class=\"dataframe\">\n",
       "  <thead>\n",
       "    <tr style=\"text-align: right;\">\n",
       "      <th></th>\n",
       "      <th>price</th>\n",
       "    </tr>\n",
       "  </thead>\n",
       "  <tbody>\n",
       "    <tr>\n",
       "      <th>0</th>\n",
       "      <td>29.99</td>\n",
       "    </tr>\n",
       "    <tr>\n",
       "      <th>1</th>\n",
       "      <td>19.82</td>\n",
       "    </tr>\n",
       "    <tr>\n",
       "      <th>2</th>\n",
       "      <td>14.96</td>\n",
       "    </tr>\n",
       "    <tr>\n",
       "      <th>3</th>\n",
       "      <td>19.34</td>\n",
       "    </tr>\n",
       "    <tr>\n",
       "      <th>4</th>\n",
       "      <td>NaN</td>\n",
       "    </tr>\n",
       "    <tr>\n",
       "      <th>...</th>\n",
       "      <td>...</td>\n",
       "    </tr>\n",
       "    <tr>\n",
       "      <th>51930</th>\n",
       "      <td>62.95</td>\n",
       "    </tr>\n",
       "    <tr>\n",
       "      <th>51931</th>\n",
       "      <td>NaN</td>\n",
       "    </tr>\n",
       "    <tr>\n",
       "      <th>51932</th>\n",
       "      <td>NaN</td>\n",
       "    </tr>\n",
       "    <tr>\n",
       "      <th>51933</th>\n",
       "      <td>26.45</td>\n",
       "    </tr>\n",
       "    <tr>\n",
       "      <th>51934</th>\n",
       "      <td>NaN</td>\n",
       "    </tr>\n",
       "  </tbody>\n",
       "</table>\n",
       "<p>51935 rows × 1 columns</p>\n",
       "</div>"
      ],
      "text/plain": [
       "       price\n",
       "0      29.99\n",
       "1      19.82\n",
       "2      14.96\n",
       "3      19.34\n",
       "4        NaN\n",
       "...      ...\n",
       "51930  62.95\n",
       "51931    NaN\n",
       "51932    NaN\n",
       "51933  26.45\n",
       "51934    NaN\n",
       "\n",
       "[51935 rows x 1 columns]"
      ]
     },
     "execution_count": 72,
     "metadata": {},
     "output_type": "execute_result"
    }
   ],
   "source": [
    "df_temp[['price']==pd.isna()]"
   ]
  },
  {
   "cell_type": "code",
   "execution_count": 44,
   "metadata": {},
   "outputs": [
    {
     "data": {
      "text/plain": [
       "text                                                                                                                                                                                                                                                                                                                                                                                                                                                                                                                                                                                           \n",
       "Love it                                                                                                                                                                                                                                                                                                                                                                                                                                                                                                                                                                                            115\n",
       "Great                                                                                                                                                                                                                                                                                                                                                                                                                                                                                                                                                                                               92\n",
       "Perfect                                                                                                                                                                                                                                                                                                                                                                                                                                                                                                                                                                                             76\n",
       "Good                                                                                                                                                                                                                                                                                                                                                                                                                                                                                                                                                                                                65\n",
       "Works great                                                                                                                                                                                                                                                                                                                                                                                                                                                                                                                                                                                         58\n",
       "                                                                                                                                                                                                                                                                                                                                                                                                                                                                                                                                                                                                  ... \n",
       "I ordered this product because it seemed sturdier than my previous citrus squeezer which broke one day when I squeezed a particularly hard lemon.  I’ve used it often since I received it and it’s way better than the other ones.  Much stronger because it’s stainless steel.  Highly recommended                                                                                                                                                                                                                                                                                                  1\n",
       "I ordered this product for my parent as a Christmas present. We are older now and don’t live at home, so they have been wanting a sealer to save some of their food instead of it going to waste. Overall they love this product!! Very easy to use and it did the job perfectly! Great product, especially for the price!                                                                                                                                                                                                                                                                           1\n",
       "I ordered this product hoping they would easily fit over my over-sized church chairs and about half of them did fit easily but the other half took muscle, a few tears and some torn stitching to get them to fit. Although it was a pain, I would buy them again because they made the entire room pop! Just be aware they are not all the same size and they may cause you to lose feeling in your fingers but it will all be worth it in the end!                                                                                                                                                 1\n",
       "I ordered this product in April but didn't try and use it until August, the button that you use to press down to begin the processing  does not work, in fact it may not exist..i called the company today but was on hold for a ridiculous amount of time...and hung up. This deserves no star since it is not useable but that was not an option<br />If you choose to purchase this item i recommend you send in the \"registration\", i didn't and so the initial automated response would not work for me, nothing is registered by name or phone number, big mistake on my part.  Good luck      1\n",
       "I ordered this in August 2017.  And today it no longer works.  Didn't even last a year.  Thank goodness I kept my 30 year old farberware one...it still works!                                                                                                                                                                                                                                                                                                                                                                                                                                       1\n",
       "Name: count, Length: 49209, dtype: int64"
      ]
     },
     "execution_count": 44,
     "metadata": {},
     "output_type": "execute_result"
    }
   ],
   "source": [
    "df_temp[['text']].value_counts()"
   ]
  },
  {
   "cell_type": "code",
   "execution_count": 50,
   "metadata": {},
   "outputs": [
    {
     "name": "stderr",
     "output_type": "stream",
     "text": [
      "24/10/26 16:54:32 WARN TaskSetManager: Stage 48 contains a task of very large size (2717 KiB). The maximum recommended task size is 1000 KiB.\n"
     ]
    },
    {
     "data": {
      "text/plain": [
       "51935"
      ]
     },
     "execution_count": 50,
     "metadata": {},
     "output_type": "execute_result"
    }
   ],
   "source": [
    "df_cleaned.count()"
   ]
  },
  {
   "cell_type": "code",
   "execution_count": null,
   "metadata": {},
   "outputs": [],
   "source": []
  }
 ],
 "metadata": {
  "kernelspec": {
   "display_name": "mlops_exp",
   "language": "python",
   "name": "python3"
  },
  "language_info": {
   "codemirror_mode": {
    "name": "ipython",
    "version": 3
   },
   "file_extension": ".py",
   "mimetype": "text/x-python",
   "name": "python",
   "nbconvert_exporter": "python",
   "pygments_lexer": "ipython3",
   "version": "3.12.7"
  }
 },
 "nbformat": 4,
 "nbformat_minor": 2
}

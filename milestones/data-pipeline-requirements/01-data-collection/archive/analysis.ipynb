{
 "cells": [
  {
   "cell_type": "code",
   "execution_count": 37,
   "metadata": {},
   "outputs": [],
   "source": [
    "import pandas as pd\n",
    "import matplotlib.pyplot as plt\n",
    "import seaborn as sns"
   ]
  },
  {
   "cell_type": "code",
   "execution_count": 55,
   "metadata": {},
   "outputs": [
    {
     "data": {
      "text/html": [
       "<div>\n",
       "<style scoped>\n",
       "    .dataframe tbody tr th:only-of-type {\n",
       "        vertical-align: middle;\n",
       "    }\n",
       "\n",
       "    .dataframe tbody tr th {\n",
       "        vertical-align: top;\n",
       "    }\n",
       "\n",
       "    .dataframe thead th {\n",
       "        text-align: right;\n",
       "    }\n",
       "</style>\n",
       "<table border=\"1\" class=\"dataframe\">\n",
       "  <thead>\n",
       "    <tr style=\"text-align: right;\">\n",
       "      <th></th>\n",
       "      <th>review_month</th>\n",
       "      <th>rating</th>\n",
       "      <th>parent_asin</th>\n",
       "      <th>asin</th>\n",
       "      <th>helpful_vote</th>\n",
       "      <th>text</th>\n",
       "      <th>timestamp</th>\n",
       "      <th>title</th>\n",
       "      <th>user_id</th>\n",
       "      <th>verified_purchase</th>\n",
       "      <th>review_date_timestamp</th>\n",
       "      <th>main_category</th>\n",
       "      <th>product_name</th>\n",
       "      <th>categories</th>\n",
       "      <th>price</th>\n",
       "      <th>average_rating</th>\n",
       "      <th>rating_number</th>\n",
       "      <th>year</th>\n",
       "    </tr>\n",
       "  </thead>\n",
       "  <tbody>\n",
       "    <tr>\n",
       "      <th>0</th>\n",
       "      <td>2</td>\n",
       "      <td>1.0</td>\n",
       "      <td>B001DTE5Q2</td>\n",
       "      <td>B001DTE5Q2</td>\n",
       "      <td>0</td>\n",
       "      <td>Very flimsy hooks. Purses fall off constantly....</td>\n",
       "      <td>1581880140993</td>\n",
       "      <td>Waste of money</td>\n",
       "      <td>AFAHC6E2UT4DJT4E2GBGNE5C2LPQ</td>\n",
       "      <td>True</td>\n",
       "      <td>2020-02-16</td>\n",
       "      <td>Amazon Home</td>\n",
       "      <td>Perfect Curve Purse Rack HPC | Over The Door P...</td>\n",
       "      <td>Home &amp; Kitchen,Storage &amp; Organization,Clothing...</td>\n",
       "      <td>NaN</td>\n",
       "      <td>4.1</td>\n",
       "      <td>1973</td>\n",
       "      <td>2020</td>\n",
       "    </tr>\n",
       "    <tr>\n",
       "      <th>1</th>\n",
       "      <td>2</td>\n",
       "      <td>1.0</td>\n",
       "      <td>B003Z3URR0</td>\n",
       "      <td>B001G3ZP8W</td>\n",
       "      <td>1</td>\n",
       "      <td>This incense has no scent. Also does not burn ...</td>\n",
       "      <td>1582731248091</td>\n",
       "      <td>No scent incense.</td>\n",
       "      <td>AHB5U3ZMDUW7SKKDGVIKAOVCFY5Q</td>\n",
       "      <td>True</td>\n",
       "      <td>2020-02-26</td>\n",
       "      <td>Amazon Home</td>\n",
       "      <td>Hem Precious Musk Fragrance Incense Sticks, 12...</td>\n",
       "      <td>Home &amp; Kitchen,Home Décor Products,Home Fragra...</td>\n",
       "      <td>6.98</td>\n",
       "      <td>4.6</td>\n",
       "      <td>1229</td>\n",
       "      <td>2020</td>\n",
       "    </tr>\n",
       "    <tr>\n",
       "      <th>2</th>\n",
       "      <td>2</td>\n",
       "      <td>1.0</td>\n",
       "      <td>B00PILE4SK</td>\n",
       "      <td>B00FZ1JR6M</td>\n",
       "      <td>0</td>\n",
       "      <td>This is a good brand, and for sure I'll buy it...</td>\n",
       "      <td>1582822571741</td>\n",
       "      <td>I paid for a new model and received a used one</td>\n",
       "      <td>AGIEN7AW4DV6OMUK25PCPFZAU6KQ</td>\n",
       "      <td>True</td>\n",
       "      <td>2020-02-27</td>\n",
       "      <td>Amazon Home</td>\n",
       "      <td>KitchenAid KSB1575BU 5-Speed Diamond Blender w...</td>\n",
       "      <td>Home &amp; Kitchen,Kitchen &amp; Dining,Small Applianc...</td>\n",
       "      <td>NaN</td>\n",
       "      <td>4.5</td>\n",
       "      <td>3905</td>\n",
       "      <td>2020</td>\n",
       "    </tr>\n",
       "    <tr>\n",
       "      <th>3</th>\n",
       "      <td>2</td>\n",
       "      <td>1.0</td>\n",
       "      <td>B00U8QGU32</td>\n",
       "      <td>B00Q7OFEM2</td>\n",
       "      <td>1</td>\n",
       "      <td>Was overall pretty happy with this comforter u...</td>\n",
       "      <td>1580683343441</td>\n",
       "      <td>Careful when washing</td>\n",
       "      <td>AGEWDSIDG4LO3ZM26G74F7MVKNHQ</td>\n",
       "      <td>True</td>\n",
       "      <td>2020-02-02</td>\n",
       "      <td>Amazon Home</td>\n",
       "      <td>Amazon Basics Reversible Lightweight Microfibe...</td>\n",
       "      <td>Home &amp; Kitchen,Bedding,Comforters &amp; Sets</td>\n",
       "      <td>36.95</td>\n",
       "      <td>4.5</td>\n",
       "      <td>40403</td>\n",
       "      <td>2020</td>\n",
       "    </tr>\n",
       "    <tr>\n",
       "      <th>4</th>\n",
       "      <td>2</td>\n",
       "      <td>1.0</td>\n",
       "      <td>B078MPFN55</td>\n",
       "      <td>B078MPFN55</td>\n",
       "      <td>0</td>\n",
       "      <td>This product is a piece of junk.  Since I firs...</td>\n",
       "      <td>1580923330717</td>\n",
       "      <td>Get A Roomba instead.</td>\n",
       "      <td>AHHKVMSOCT6J6Q3US2WDMSXK3TKQ</td>\n",
       "      <td>True</td>\n",
       "      <td>2020-02-05</td>\n",
       "      <td>Amazon Home</td>\n",
       "      <td>Neato Robotics Botvac D7 Connected Robot Vacuu...</td>\n",
       "      <td>Home &amp; Kitchen,Vacuums &amp; Floor Care,Vacuums,Ro...</td>\n",
       "      <td>395.51</td>\n",
       "      <td>4.0</td>\n",
       "      <td>2821</td>\n",
       "      <td>2020</td>\n",
       "    </tr>\n",
       "  </tbody>\n",
       "</table>\n",
       "</div>"
      ],
      "text/plain": [
       "   review_month  rating parent_asin        asin  helpful_vote  \\\n",
       "0             2     1.0  B001DTE5Q2  B001DTE5Q2             0   \n",
       "1             2     1.0  B003Z3URR0  B001G3ZP8W             1   \n",
       "2             2     1.0  B00PILE4SK  B00FZ1JR6M             0   \n",
       "3             2     1.0  B00U8QGU32  B00Q7OFEM2             1   \n",
       "4             2     1.0  B078MPFN55  B078MPFN55             0   \n",
       "\n",
       "                                                text      timestamp  \\\n",
       "0  Very flimsy hooks. Purses fall off constantly....  1581880140993   \n",
       "1  This incense has no scent. Also does not burn ...  1582731248091   \n",
       "2  This is a good brand, and for sure I'll buy it...  1582822571741   \n",
       "3  Was overall pretty happy with this comforter u...  1580683343441   \n",
       "4  This product is a piece of junk.  Since I firs...  1580923330717   \n",
       "\n",
       "                                            title  \\\n",
       "0                                  Waste of money   \n",
       "1                               No scent incense.   \n",
       "2  I paid for a new model and received a used one   \n",
       "3                            Careful when washing   \n",
       "4                           Get A Roomba instead.   \n",
       "\n",
       "                        user_id  verified_purchase review_date_timestamp  \\\n",
       "0  AFAHC6E2UT4DJT4E2GBGNE5C2LPQ               True            2020-02-16   \n",
       "1  AHB5U3ZMDUW7SKKDGVIKAOVCFY5Q               True            2020-02-26   \n",
       "2  AGIEN7AW4DV6OMUK25PCPFZAU6KQ               True            2020-02-27   \n",
       "3  AGEWDSIDG4LO3ZM26G74F7MVKNHQ               True            2020-02-02   \n",
       "4  AHHKVMSOCT6J6Q3US2WDMSXK3TKQ               True            2020-02-05   \n",
       "\n",
       "  main_category                                       product_name  \\\n",
       "0   Amazon Home  Perfect Curve Purse Rack HPC | Over The Door P...   \n",
       "1   Amazon Home  Hem Precious Musk Fragrance Incense Sticks, 12...   \n",
       "2   Amazon Home  KitchenAid KSB1575BU 5-Speed Diamond Blender w...   \n",
       "3   Amazon Home  Amazon Basics Reversible Lightweight Microfibe...   \n",
       "4   Amazon Home  Neato Robotics Botvac D7 Connected Robot Vacuu...   \n",
       "\n",
       "                                          categories   price  average_rating  \\\n",
       "0  Home & Kitchen,Storage & Organization,Clothing...     NaN             4.1   \n",
       "1  Home & Kitchen,Home Décor Products,Home Fragra...    6.98             4.6   \n",
       "2  Home & Kitchen,Kitchen & Dining,Small Applianc...     NaN             4.5   \n",
       "3           Home & Kitchen,Bedding,Comforters & Sets   36.95             4.5   \n",
       "4  Home & Kitchen,Vacuums & Floor Care,Vacuums,Ro...  395.51             4.0   \n",
       "\n",
       "   rating_number  year  \n",
       "0           1973  2020  \n",
       "1           1229  2020  \n",
       "2           3905  2020  \n",
       "3          40403  2020  \n",
       "4           2821  2020  "
      ]
     },
     "execution_count": 55,
     "metadata": {},
     "output_type": "execute_result"
    }
   ],
   "source": [
    "df = pd.read_csv(r\"C:\\Users\\shiri\\Documents\\project\\sampled_2020_df.csv\")\n",
    "df.head()"
   ]
  },
  {
   "cell_type": "code",
   "execution_count": 5,
   "metadata": {},
   "outputs": [
    {
     "data": {
      "text/plain": [
       "Index(['review_month', 'rating', 'parent_asin', 'asin', 'helpful_vote', 'text',\n",
       "       'timestamp', 'title', 'user_id', 'verified_purchase',\n",
       "       'review_date_timestamp', 'main_category', 'product_name', 'categories',\n",
       "       'price', 'average_rating', 'rating_number', 'year'],\n",
       "      dtype='object')"
      ]
     },
     "execution_count": 5,
     "metadata": {},
     "output_type": "execute_result"
    }
   ],
   "source": [
    "df.columns"
   ]
  },
  {
   "cell_type": "code",
   "execution_count": 7,
   "metadata": {},
   "outputs": [
    {
     "data": {
      "text/plain": [
       "B0B53DWRVW    132\n",
       "B0C5VFZ4GK     86\n",
       "B082YNVNGT     84\n",
       "B00U8QEXBS     71\n",
       "B09TMQ2HFH     67\n",
       "             ... \n",
       "B07YZ1QGBH      1\n",
       "B0815CGY8Q      1\n",
       "B081966J31      1\n",
       "B081LNF4B6      1\n",
       "B07MNXFCCD      1\n",
       "Name: parent_asin, Length: 64248, dtype: int64"
      ]
     },
     "execution_count": 7,
     "metadata": {},
     "output_type": "execute_result"
    }
   ],
   "source": [
    "df['parent_asin'].value_counts()"
   ]
  },
  {
   "cell_type": "code",
   "execution_count": 11,
   "metadata": {},
   "outputs": [
    {
     "data": {
      "text/plain": [
       "B07RKTVQDR    71\n",
       "B013IJPTFK    58\n",
       "B075X1KPLZ    52\n",
       "B074ZL35DH    47\n",
       "B07TZ5YHJN    45\n",
       "              ..\n",
       "B07QV2NGH5     1\n",
       "B0723C95XB     1\n",
       "B000RT3HXG     1\n",
       "B00EZQQEJ6     1\n",
       "B081Q6F7D1     1\n",
       "Name: asin, Length: 77303, dtype: int64"
      ]
     },
     "execution_count": 11,
     "metadata": {},
     "output_type": "execute_result"
    }
   ],
   "source": [
    "df['asin'].value_counts()"
   ]
  },
  {
   "cell_type": "code",
   "execution_count": 31,
   "metadata": {},
   "outputs": [
    {
     "name": "stdout",
     "output_type": "stream",
     "text": [
      "105233\n"
     ]
    },
    {
     "data": {
      "text/plain": [
       "<Axes: >"
      ]
     },
     "execution_count": 31,
     "metadata": {},
     "output_type": "execute_result"
    },
    {
     "data": {
      "image/png": "[encoded data removed]",
      "text/plain": [
       "<Figure size 640x480 with 1 Axes>"
      ]
     },
     "metadata": {},
     "output_type": "display_data"
    }
   ],
   "source": [
    "print(len(df['rating']))\n",
    "df['rating'].hist()"
   ]
  },
  {
   "cell_type": "code",
   "execution_count": 28,
   "metadata": {},
   "outputs": [
    {
     "name": "stdout",
     "output_type": "stream",
     "text": [
      "19749\n"
     ]
    },
    {
     "data": {
      "text/plain": [
       "<Axes: >"
      ]
     },
     "execution_count": 28,
     "metadata": {},
     "output_type": "execute_result"
    },
    {
     "data": {
      "image/png": "[encoded data removed]",
      "text/plain": [
       "<Figure size 640x480 with 1 Axes>"
      ]
     },
     "metadata": {},
     "output_type": "display_data"
    }
   ],
   "source": [
    "print(len(df[df['helpful_vote'] > 0]['rating']))\n",
    "df[df['helpful_vote'] > 0]['rating'].hist()\n"
   ]
  },
  {
   "cell_type": "code",
   "execution_count": 24,
   "metadata": {},
   "outputs": [
    {
     "data": {
      "text/plain": [
       "Index(['review_month', 'rating', 'parent_asin', 'asin', 'helpful_vote', 'text',\n",
       "       'timestamp', 'title', 'user_id', 'verified_purchase',\n",
       "       'review_date_timestamp', 'main_category', 'product_name', 'categories',\n",
       "       'price', 'average_rating', 'rating_number', 'year'],\n",
       "      dtype='object')"
      ]
     },
     "execution_count": 24,
     "metadata": {},
     "output_type": "execute_result"
    }
   ],
   "source": [
    "df.columns"
   ]
  },
  {
   "cell_type": "code",
   "execution_count": 38,
   "metadata": {},
   "outputs": [
    {
     "data": {
      "text/plain": [
       "0         B001DTE5Q2\n",
       "1         B003Z3URR0\n",
       "2         B00PILE4SK\n",
       "3         B00U8QGU32\n",
       "4         B078MPFN55\n",
       "             ...    \n",
       "105228    B01ITE7948\n",
       "105229    B09C9ZP156\n",
       "105230    B06XGN2J7P\n",
       "105231    B07MNXFCCD\n",
       "105232    B09RBDCTBC\n",
       "Name: parent_asin, Length: 105233, dtype: object"
      ]
     },
     "execution_count": 38,
     "metadata": {},
     "output_type": "execute_result"
    }
   ],
   "source": [
    "df['parent_asin']"
   ]
  },
  {
   "cell_type": "code",
   "execution_count": 59,
   "metadata": {},
   "outputs": [
    {
     "data": {
      "text/plain": [
       "B08Q87N1VG      1\n",
       "B00OKC9WEY      1\n",
       "B00RDDU3JU      1\n",
       "B00XJS1INS      1\n",
       "B01KE5M382      1\n",
       "             ... \n",
       "B09TMQ2HFH     67\n",
       "B00U8QEXBS     71\n",
       "B082YNVNGT     84\n",
       "B0C5VFZ4GK     86\n",
       "B0B53DWRVW    132\n",
       "Name: parent_asin, Length: 64248, dtype: int64"
      ]
     },
     "execution_count": 59,
     "metadata": {},
     "output_type": "execute_result"
    }
   ],
   "source": [
    "df['parent_asin'].value_counts().sort_values(ascending=True)\n"
   ]
  },
  {
   "cell_type": "code",
   "execution_count": 57,
   "metadata": {},
   "outputs": [
    {
     "data": {
      "text/plain": [
       "Home & Kitchen,Bedding,Decorative Pillows, Inserts & Covers,Throw Pillow Covers                                1587\n",
       "Home & Kitchen,Bedding,Sheets & Pillowcases,Sheet & Pillowcase Sets                                            1479\n",
       "Home & Kitchen,Kitchen & Dining,Storage & Organization,Food Storage,Food Containers,Container Sets             1380\n",
       "Home & Kitchen,Home Décor Products,Window Treatments,Curtains & Drapes,Panels                                  1373\n",
       "Home & Kitchen,Wall Art,Posters & Prints                                                                       1149\n",
       "                                                                                                               ... \n",
       "Home & Kitchen,Kitchen & Dining,Kitchen Utensils & Gadgets,Measuring Tools & Scales,Scales                        1\n",
       "Home & Kitchen,Bedding,Kids' Bedding,Bedding Sets & Collections                                                   1\n",
       "Home & Kitchen,Kitchen & Dining,Home Brewing & Wine Making,Beer Brewing,Burners                                   1\n",
       "Home & Kitchen,Home Décor Products,Photo Albums, Frames & Accessories,Photo Albums,Three-Ring Binder Albums       1\n",
       "Home & Kitchen,Storage & Organization,Clothing & Closet Storage,Accessory Organizers,Hat Boxes                    1\n",
       "Name: categories, Length: 1537, dtype: int64"
      ]
     },
     "execution_count": 57,
     "metadata": {},
     "output_type": "execute_result"
    }
   ],
   "source": [
    "df['categories'].value_counts()"
   ]
  },
  {
   "cell_type": "code",
   "execution_count": 58,
   "metadata": {},
   "outputs": [
    {
     "data": {
      "text/plain": [
       "review_month                 0\n",
       "rating                       0\n",
       "parent_asin                  0\n",
       "asin                         0\n",
       "helpful_vote                 0\n",
       "text                        25\n",
       "timestamp                    0\n",
       "title                       25\n",
       "user_id                      0\n",
       "verified_purchase            0\n",
       "review_date_timestamp        0\n",
       "main_category             2504\n",
       "product_name                 3\n",
       "categories                4476\n",
       "price                    29973\n",
       "average_rating               0\n",
       "rating_number                0\n",
       "year                         0\n",
       "dtype: int64"
      ]
     },
     "execution_count": 58,
     "metadata": {},
     "output_type": "execute_result"
    }
   ],
   "source": [
    "df.isnull().sum()"
   ]
  },
  {
   "cell_type": "code",
   "execution_count": 60,
   "metadata": {},
   "outputs": [
    {
     "data": {
      "text/html": [
       "<div>\n",
       "<style scoped>\n",
       "    .dataframe tbody tr th:only-of-type {\n",
       "        vertical-align: middle;\n",
       "    }\n",
       "\n",
       "    .dataframe tbody tr th {\n",
       "        vertical-align: top;\n",
       "    }\n",
       "\n",
       "    .dataframe thead th {\n",
       "        text-align: right;\n",
       "    }\n",
       "</style>\n",
       "<table border=\"1\" class=\"dataframe\">\n",
       "  <thead>\n",
       "    <tr style=\"text-align: right;\">\n",
       "      <th></th>\n",
       "      <th>review_month</th>\n",
       "      <th>rating</th>\n",
       "      <th>parent_asin</th>\n",
       "      <th>asin</th>\n",
       "      <th>helpful_vote</th>\n",
       "      <th>text</th>\n",
       "      <th>timestamp</th>\n",
       "      <th>title</th>\n",
       "      <th>user_id</th>\n",
       "      <th>verified_purchase</th>\n",
       "      <th>review_date_timestamp</th>\n",
       "      <th>main_category</th>\n",
       "      <th>product_name</th>\n",
       "      <th>categories</th>\n",
       "      <th>price</th>\n",
       "      <th>average_rating</th>\n",
       "      <th>rating_number</th>\n",
       "      <th>year</th>\n",
       "    </tr>\n",
       "  </thead>\n",
       "  <tbody>\n",
       "    <tr>\n",
       "      <th>81936</th>\n",
       "      <td>11</td>\n",
       "      <td>4.0</td>\n",
       "      <td>B08Q87N1VG</td>\n",
       "      <td>B08D3K8BGR</td>\n",
       "      <td>1</td>\n",
       "      <td>These fit my pillows perfectly and zippers don...</td>\n",
       "      <td>1605015775619</td>\n",
       "      <td>thanks giving</td>\n",
       "      <td>AHMGBNYC47EJCK24QKJHGL5HTKFA</td>\n",
       "      <td>True</td>\n",
       "      <td>2020-11-10</td>\n",
       "      <td>Amazon Home</td>\n",
       "      <td>EPLST Set of 4 Pillow Covers Decorative Throw ...</td>\n",
       "      <td>Home &amp; Kitchen,Bedding,Decorative Pillows, Ins...</td>\n",
       "      <td>9.9</td>\n",
       "      <td>4.5</td>\n",
       "      <td>143</td>\n",
       "      <td>2020</td>\n",
       "    </tr>\n",
       "  </tbody>\n",
       "</table>\n",
       "</div>"
      ],
      "text/plain": [
       "       review_month  rating parent_asin        asin  helpful_vote  \\\n",
       "81936            11     4.0  B08Q87N1VG  B08D3K8BGR             1   \n",
       "\n",
       "                                                    text      timestamp  \\\n",
       "81936  These fit my pillows perfectly and zippers don...  1605015775619   \n",
       "\n",
       "               title                       user_id  verified_purchase  \\\n",
       "81936  thanks giving  AHMGBNYC47EJCK24QKJHGL5HTKFA               True   \n",
       "\n",
       "      review_date_timestamp main_category  \\\n",
       "81936            2020-11-10   Amazon Home   \n",
       "\n",
       "                                            product_name  \\\n",
       "81936  EPLST Set of 4 Pillow Covers Decorative Throw ...   \n",
       "\n",
       "                                              categories  price  \\\n",
       "81936  Home & Kitchen,Bedding,Decorative Pillows, Ins...    9.9   \n",
       "\n",
       "       average_rating  rating_number  year  \n",
       "81936             4.5            143  2020  "
      ]
     },
     "execution_count": 60,
     "metadata": {},
     "output_type": "execute_result"
    }
   ],
   "source": [
    "df[df['parent_asin']=='B08Q87N1VG']"
   ]
  },
  {
   "cell_type": "code",
   "execution_count": 97,
   "metadata": {},
   "outputs": [
    {
     "name": "stdout",
     "output_type": "stream",
     "text": [
      "0                                                     \n",
      "1    Home & Kitchen,Heating, Cooling & Air Quality,...\n",
      "2    Home & Kitchen,Home Décor Products,Clocks,Spec...\n",
      "3    Home & Kitchen,Kitchen & Dining,Coffee, Tea & ...\n",
      "4    Home & Kitchen,Kitchen & Dining,Coffee, Tea & ...\n",
      "Name: moderate_level_category, dtype: object\n"
     ]
    }
   ],
   "source": [
    "import pandas as pd\n",
    "\n",
    "# Load the dataset\n",
    "mdf = pd.read_csv('sampled_data_2018_2019.csv')\n",
    "\n",
    "# Extract the 'categories' column\n",
    "data = mdf['categories']\n",
    "\n",
    "# Create a DataFrame from the 'categories' column\n",
    "df = pd.DataFrame(data, columns=['categories'])\n",
    "\n",
    "# Function to handle variable-length categories and trim to max levels where available\n",
    "def extract_moderate_level(category_str, max_level=3):\n",
    "    \"\"\"\n",
    "    Extracts up to 'max_level' levels from the category string.\n",
    "    If a category has fewer levels, returns the full path.\n",
    "    Handles NaN values by returning an empty string.\n",
    "    \"\"\"\n",
    "    if pd.isna(category_str):  # Handle NaN values safely\n",
    "        return ''\n",
    "    split_categories = category_str.split(',')\n",
    "    return ','.join(split_categories[:min(len(split_categories), max_level)])\n",
    "\n",
    "# Apply the function to extract moderate-level categories\n",
    "df['moderate_level_category'] = df['categories'].apply(\n",
    "    lambda x: extract_moderate_level(x, max_level=4)\n",
    ")\n",
    "\n",
    "# Display the result\n",
    "print(df['moderate_level_category'].head())\n"
   ]
  },
  {
   "cell_type": "code",
   "execution_count": 102,
   "metadata": {},
   "outputs": [
    {
     "data": {
      "text/plain": [
       "(                                  moderate_level_category  \\\n",
       " 0                                                           \n",
       " 1       Home & Kitchen,Heating, Cooling & Air Quality,...   \n",
       " 2       Home & Kitchen,Home Décor Products,Clocks,Spec...   \n",
       " 3       Home & Kitchen,Kitchen & Dining,Coffee, Tea & ...   \n",
       " 4       Home & Kitchen,Kitchen & Dining,Coffee, Tea & ...   \n",
       " ...                                                   ...   \n",
       " 140776  Home & Kitchen,Kitchen & Dining,Water Coolers ...   \n",
       " 140777  Home & Kitchen,Bedding,Bed Pillows & Positione...   \n",
       " 140778  Home & Kitchen,Home Décor Products,Window Trea...   \n",
       " 140779  Home & Kitchen,Kitchen & Dining,Storage & Orga...   \n",
       " 140780  Home & Kitchen,Furniture,Home Office Furniture...   \n",
       " \n",
       "                                       moderate_level_list  \n",
       " 0                                                      []  \n",
       " 1       [Home & Kitchen, Heating, Cooling & Air Qualit...  \n",
       " 2       [Home & Kitchen, Home Décor Products, Clocks, ...  \n",
       " 3       [Home & Kitchen, Kitchen & Dining, Coffee, Tea...  \n",
       " 4       [Home & Kitchen, Kitchen & Dining, Coffee, Tea...  \n",
       " ...                                                   ...  \n",
       " 140776  [Home & Kitchen, Kitchen & Dining, Water Coole...  \n",
       " 140777  [Home & Kitchen, Bedding, Bed Pillows & Positi...  \n",
       " 140778  [Home & Kitchen, Home Décor Products, Window T...  \n",
       " 140779  [Home & Kitchen, Kitchen & Dining, Storage & O...  \n",
       " 140780  [Home & Kitchen, Furniture, Home Office Furnit...  \n",
       " \n",
       " [140781 rows x 2 columns],\n",
       "        moderate_level_category moderate_level_list\n",
       " 0                                               []\n",
       " 20                                              []\n",
       " 21                                              []\n",
       " 24                                              []\n",
       " 25                                              []\n",
       " ...                        ...                 ...\n",
       " 140721                                          []\n",
       " 140734                                          []\n",
       " 140747                                          []\n",
       " 140748                                          []\n",
       " 140774                                          []\n",
       " \n",
       " [6420 rows x 2 columns])"
      ]
     },
     "execution_count": 102,
     "metadata": {},
     "output_type": "execute_result"
    }
   ],
   "source": [
    "\n",
    "df['moderate_level_category'] = df['moderate_level_category'].fillna('')\n",
    "\n",
    "df['moderate_level_list'] = df['moderate_level_category'].apply(lambda x: [item.strip() for item in x.split(',')] if x else [])\n",
    "\n",
    "empty_lists = df[df['moderate_level_list'].apply(lambda x: len(x) == 0)]\n",
    "\n",
    "# Display the result and the rows with empty lists\n",
    "df[['moderate_level_category', 'moderate_level_list']], empty_lists[['moderate_level_category', 'moderate_level_list']]\n"
   ]
  },
  {
   "cell_type": "code",
   "execution_count": 114,
   "metadata": {},
   "outputs": [],
   "source": [
    "mdf = pd.read_csv('sampled_data_2018_2019.csv')\n",
    "\n",
    "# Extract the 'categories' column and\n",
    "\n",
    "# Step 1: Extract moderate-level categories and trim to max 4 levels\n",
    "def extract_moderate_level(category_str, max_level=3):\n",
    "    \"\"\"\n",
    "    Extracts up to 'max_level' levels from the category string.\n",
    "    If a category has fewer levels, returns the full path.\n",
    "    Handles NaN values by returning an empty string.\n",
    "    \"\"\"\n",
    "    if pd.isna(category_str):  # Handle NaN values safely\n",
    "        return ''\n",
    "    split_categories = category_str.split(',')\n",
    "    return ','.join(split_categories[:min(len(split_categories), max_level)])\n",
    "\n",
    "# Apply the function to extract moderate-level categories\n",
    "mdf['moderate_level_category'] = mdf['categories'].apply(\n",
    "    lambda x: extract_moderate_level(x, max_level=3)\n",
    ")\n",
    "\n",
    "# Step 2: Split moderate-level categories into lists\n",
    "mdf['moderate_level_list'] = mdf['moderate_level_category'].apply(\n",
    "    lambda x: [item.strip() for item in x.split(',')] if x else []\n",
    ")\n",
    "\n",
    "# Step 3: Ensure 'moderate_level_list' only contains valid lists\n",
    "mdf['moderate_level_list'] = mdf['moderate_level_list'].apply(\n",
    "    lambda x: x if isinstance(x, list) else []\n",
    ")\n",
    "\n",
    "# Step 4: Safely extract the last element from the list\n",
    "def get_last_element(category_list):\n",
    "    \"\"\"Safely get the last element from the list or return None if the list is empty.\"\"\"\n",
    "    return category_list[-1] if category_list else None\n",
    "\n",
    "# Create a new column with the last element from 'moderate_level_list'\n",
    "mdf['last_category'] = mdf['moderate_level_list'].apply(get_last_element)\n",
    "\n",
    "# Step 5: Calculate the price range (min and max) for each 'last_category'\n",
    "price_range_df = mdf.groupby('last_category')['price'].agg(['min', 'max']).reset_index()\n",
    "\n",
    "# Rename the columns for clarity\n",
    "price_range_df.columns = ['Category', 'Min_Price', 'Max_Price']"
   ]
  },
  {
   "cell_type": "code",
   "execution_count": 115,
   "metadata": {},
   "outputs": [
    {
     "data": {
      "text/html": [
       "<div>\n",
       "<style scoped>\n",
       "    .dataframe tbody tr th:only-of-type {\n",
       "        vertical-align: middle;\n",
       "    }\n",
       "\n",
       "    .dataframe tbody tr th {\n",
       "        vertical-align: top;\n",
       "    }\n",
       "\n",
       "    .dataframe thead th {\n",
       "        text-align: right;\n",
       "    }\n",
       "</style>\n",
       "<table border=\"1\" class=\"dataframe\">\n",
       "  <thead>\n",
       "    <tr style=\"text-align: right;\">\n",
       "      <th></th>\n",
       "      <th>Category</th>\n",
       "      <th>Min_Price</th>\n",
       "      <th>Max_Price</th>\n",
       "    </tr>\n",
       "  </thead>\n",
       "  <tbody>\n",
       "    <tr>\n",
       "      <th>0</th>\n",
       "      <td>30% off Handicrafts &amp; Home Decor</td>\n",
       "      <td>NaN</td>\n",
       "      <td>NaN</td>\n",
       "    </tr>\n",
       "    <tr>\n",
       "      <th>1</th>\n",
       "      <td>Accent Furniture</td>\n",
       "      <td>20.19</td>\n",
       "      <td>649.99</td>\n",
       "    </tr>\n",
       "    <tr>\n",
       "      <th>2</th>\n",
       "      <td>Adult Novelty</td>\n",
       "      <td>5.00</td>\n",
       "      <td>22.99</td>\n",
       "    </tr>\n",
       "    <tr>\n",
       "      <th>3</th>\n",
       "      <td>Advent Calendars</td>\n",
       "      <td>5.49</td>\n",
       "      <td>109.99</td>\n",
       "    </tr>\n",
       "    <tr>\n",
       "      <th>4</th>\n",
       "      <td>Air Mattresses &amp; Accessories</td>\n",
       "      <td>9.99</td>\n",
       "      <td>1949.00</td>\n",
       "    </tr>\n",
       "    <tr>\n",
       "      <th>...</th>\n",
       "      <td>...</td>\n",
       "      <td>...</td>\n",
       "      <td>...</td>\n",
       "    </tr>\n",
       "    <tr>\n",
       "      <th>283</th>\n",
       "      <td>bathroom</td>\n",
       "      <td>17.99</td>\n",
       "      <td>17.99</td>\n",
       "    </tr>\n",
       "    <tr>\n",
       "      <th>284</th>\n",
       "      <td>food &amp; fertilizer</td>\n",
       "      <td>NaN</td>\n",
       "      <td>NaN</td>\n",
       "    </tr>\n",
       "    <tr>\n",
       "      <th>285</th>\n",
       "      <td>kitchen accessories</td>\n",
       "      <td>15.96</td>\n",
       "      <td>18.32</td>\n",
       "    </tr>\n",
       "    <tr>\n",
       "      <th>286</th>\n",
       "      <td>mattresses</td>\n",
       "      <td>21.69</td>\n",
       "      <td>21.69</td>\n",
       "    </tr>\n",
       "    <tr>\n",
       "      <th>287</th>\n",
       "      <td>tool storage</td>\n",
       "      <td>24.99</td>\n",
       "      <td>24.99</td>\n",
       "    </tr>\n",
       "  </tbody>\n",
       "</table>\n",
       "<p>288 rows × 3 columns</p>\n",
       "</div>"
      ],
      "text/plain": [
       "                             Category  Min_Price  Max_Price\n",
       "0    30% off Handicrafts & Home Decor        NaN        NaN\n",
       "1                    Accent Furniture      20.19     649.99\n",
       "2                       Adult Novelty       5.00      22.99\n",
       "3                    Advent Calendars       5.49     109.99\n",
       "4        Air Mattresses & Accessories       9.99    1949.00\n",
       "..                                ...        ...        ...\n",
       "283                          bathroom      17.99      17.99\n",
       "284                 food & fertilizer        NaN        NaN\n",
       "285               kitchen accessories      15.96      18.32\n",
       "286                        mattresses      21.69      21.69\n",
       "287                      tool storage      24.99      24.99\n",
       "\n",
       "[288 rows x 3 columns]"
      ]
     },
     "execution_count": 115,
     "metadata": {},
     "output_type": "execute_result"
    }
   ],
   "source": [
    "price_range_df"
   ]
  },
  {
   "cell_type": "code",
   "execution_count": 120,
   "metadata": {},
   "outputs": [
    {
     "data": {
      "text/plain": [
       "last_category                      parent_asin\n",
       "Sheets & Pillowcases               B0B53DWRVW     239\n",
       "Bedroom Furniture                  B0BZJNL66N     162\n",
       "Small Appliances                   B0BSPGR5T6     140\n",
       "Mattress Protectors & Encasements  B0C7LZYYWQ     116\n",
       "Bedroom Furniture                  B0BZJP9VGZ     112\n",
       "                                                 ... \n",
       "Dining & Entertaining              B087FXDDVL       1\n",
       "                                   B087J1NNDJ       1\n",
       "                                   B087LSRYC9       1\n",
       "                                   B087N8BN6W       1\n",
       "tool storage                       B0BG3HSBSZ       1\n",
       "Length: 75780, dtype: int64"
      ]
     },
     "execution_count": 120,
     "metadata": {},
     "output_type": "execute_result"
    }
   ],
   "source": [
    "mdf[['last_category','parent_asin']].value_counts()"
   ]
  },
  {
   "cell_type": "code",
   "execution_count": null,
   "metadata": {},
   "outputs": [],
   "source": [
    "print(len(mdf[mdf['helpful_vote'] > 0]['rating']))\n",
    "df[df['helpful_vote'] > 0]['rating'].hist()\n"
   ]
  }
 ],
 "metadata": {
  "kernelspec": {
   "display_name": "base",
   "language": "python",
   "name": "python3"
  },
  "language_info": {
   "codemirror_mode": {
    "name": "ipython",
    "version": 3
   },
   "file_extension": ".py",
   "mimetype": "text/x-python",
   "name": "python",
   "nbconvert_exporter": "python",
   "pygments_lexer": "ipython3",
   "version": "3.9.16"
  }
 },
 "nbformat": 4,
 "nbformat_minor": 2
}

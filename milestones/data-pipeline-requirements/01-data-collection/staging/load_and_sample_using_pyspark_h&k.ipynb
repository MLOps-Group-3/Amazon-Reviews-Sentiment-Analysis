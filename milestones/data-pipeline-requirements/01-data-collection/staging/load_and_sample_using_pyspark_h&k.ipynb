{
 "cells": [
  {
   "cell_type": "code",
   "execution_count": 1,
   "metadata": {},
   "outputs": [],
   "source": [
    "# !pip install pyspark"
   ]
  },
  {
   "cell_type": "code",
   "execution_count": 1,
   "metadata": {},
   "outputs": [],
   "source": [
    "from pyspark.sql import SparkSession\n",
    "from pyspark.sql.functions import from_json, schema_of_json, col, from_unixtime, date_format\n",
    "import json"
   ]
  },
  {
   "cell_type": "markdown",
   "metadata": {},
   "source": [
    "# Step 1: Initialize Spark session"
   ]
  },
  {
   "cell_type": "code",
   "execution_count": 2,
   "metadata": {},
   "outputs": [
    {
     "name": "stdout",
     "output_type": "stream",
     "text": [
      "New Spark session started.\n"
     ]
    }
   ],
   "source": [
    "def create_spark_session():\n",
    "    # Stop the existing Spark session if it exists\n",
    "    try:\n",
    "        if 'spark' in locals():\n",
    "            spark.stop()  # Attempt to stop the existing session\n",
    "            print(\"Stopped old spark session\")\n",
    "    except Exception as e:\n",
    "        print(f\"Error stopping Spark session: {e}\")\n",
    "\n",
    "    # Create a new Spark session with increased driver memory and updated temporary directory\n",
    "    new_spark = SparkSession.builder \\\n",
    "        .appName(\"JsonLoader\") \\\n",
    "        .config(\"spark.driver.memory\", \"6g\") \\\n",
    "        .config(\"spark.local.dir\", \"C:\\\\Users\\\\Niresh\\\\OneDrive\\\\Documents\\\\Career\\\\MS\\\\NEU\\\\4th Semester\\\\MLOps\\\\Project\\\\EDA\") \\\n",
    "        .getOrCreate()\n",
    "\n",
    "    print(\"New Spark session started.\")\n",
    "    return new_spark\n",
    "\n",
    "# Create or recreate the Spark session\n",
    "spark = create_spark_session()"
   ]
  },
  {
   "cell_type": "markdown",
   "metadata": {},
   "source": [
    "# Step 2: Load JSONL files into DataFrames"
   ]
  },
  {
   "cell_type": "code",
   "execution_count": 3,
   "metadata": {},
   "outputs": [],
   "source": [
    "def load_jsonl_with_spark(spark, jsonl_file):\n",
    "    \"\"\"\n",
    "    Load a large JSONL file into a Spark DataFrame.\n",
    "    :param spark: Spark session.\n",
    "    :param jsonl_file: Path to the JSONL file.\n",
    "    :return: Spark DataFrame.\n",
    "    \"\"\"\n",
    "    # Read the file as text\n",
    "    raw_df = spark.read.text(jsonl_file)\n",
    "    \n",
    "    # Parse a sample of the JSON to infer the schema\n",
    "    sample = raw_df.limit(1).collect()[0][0]\n",
    "    json_schema = schema_of_json(json.dumps(json.loads(sample)))\n",
    "    \n",
    "    # Parse the JSON strings into a proper DataFrame\n",
    "    parsed_df = raw_df.select(from_json(col(\"value\"), json_schema).alias(\"parsed_data\"))\n",
    "    \n",
    "    # Flatten the structure\n",
    "    flattened_df = parsed_df.select(\"parsed_data.*\")\n",
    "    \n",
    "    return flattened_df\n",
    "\n",
    "# Load the data\n",
    "reviews_spark_df = load_jsonl_with_spark(spark, \"Home_and_Kitchen.jsonl\")\n",
    "metadata_spark_df = load_jsonl_with_spark(spark, \"meta_Home_and_Kitchen.jsonl\")"
   ]
  },
  {
   "cell_type": "markdown",
   "metadata": {},
   "source": [
    "# Step 3: Show schema and first few records of metadata and review data"
   ]
  },
  {
   "cell_type": "code",
   "execution_count": 4,
   "metadata": {},
   "outputs": [
    {
     "name": "stdout",
     "output_type": "stream",
     "text": [
      "Schema:\n",
      "root\n",
      " |-- average_rating: double (nullable = true)\n",
      " |-- bought_together: string (nullable = true)\n",
      " |-- categories: array (nullable = true)\n",
      " |    |-- element: string (containsNull = true)\n",
      " |-- description: array (nullable = true)\n",
      " |    |-- element: string (containsNull = true)\n",
      " |-- details: struct (nullable = true)\n",
      " |    |-- Best Sellers Rank: struct (nullable = true)\n",
      " |    |    |-- Kitchen & Dining: long (nullable = true)\n",
      " |    |    |-- Mug Sets: long (nullable = true)\n",
      " |    |-- Brand: string (nullable = true)\n",
      " |    |-- Capacity: string (nullable = true)\n",
      " |    |-- Color: string (nullable = true)\n",
      " |    |-- Date First Available: string (nullable = true)\n",
      " |    |-- Is Discontinued By Manufacturer: string (nullable = true)\n",
      " |    |-- Item Weight: string (nullable = true)\n",
      " |    |-- Material: string (nullable = true)\n",
      " |    |-- Number of Items: string (nullable = true)\n",
      " |    |-- Pattern: string (nullable = true)\n",
      " |    |-- Product Care Instructions: string (nullable = true)\n",
      " |    |-- Product Dimensions: string (nullable = true)\n",
      " |    |-- Style: string (nullable = true)\n",
      " |    |-- Unit Count: string (nullable = true)\n",
      " |-- features: array (nullable = true)\n",
      " |    |-- element: string (containsNull = true)\n",
      " |-- images: array (nullable = true)\n",
      " |    |-- element: struct (containsNull = true)\n",
      " |    |    |-- hi_res: string (nullable = true)\n",
      " |    |    |-- large: string (nullable = true)\n",
      " |    |    |-- thumb: string (nullable = true)\n",
      " |    |    |-- variant: string (nullable = true)\n",
      " |-- main_category: string (nullable = true)\n",
      " |-- parent_asin: string (nullable = true)\n",
      " |-- price: double (nullable = true)\n",
      " |-- rating_number: long (nullable = true)\n",
      " |-- store: string (nullable = true)\n",
      " |-- title: string (nullable = true)\n",
      " |-- videos: array (nullable = true)\n",
      " |    |-- element: struct (containsNull = true)\n",
      " |    |    |-- title: string (nullable = true)\n",
      " |    |    |-- url: string (nullable = true)\n",
      " |    |    |-- user_id: string (nullable = true)\n",
      "\n",
      "+--------------+---------------+--------------------+--------------------+--------------------+--------------------+--------------------+-------------+-----------+-----+-------------+----------------+--------------------+--------------------+\n",
      "|average_rating|bought_together|          categories|         description|             details|            features|              images|main_category|parent_asin|price|rating_number|           store|               title|              videos|\n",
      "+--------------+---------------+--------------------+--------------------+--------------------+--------------------+--------------------+-------------+-----------+-----+-------------+----------------+--------------------+--------------------+\n",
      "|           4.6|           NULL|[Home & Kitchen, ...|[Set of 12 Footed...|{{143774, 736}, L...|[☕PERFECT IRISH C...|[{https://m.media...|  Amazon Home| B07R3DYMH6|24.95|           18|        LavoHome|Set of 4 Irish Co...|[{Irish Coffee Gl...|\n",
      "|           4.4|           NULL|[Home & Kitchen, ...|                  []|{{NULL, NULL}, re...|[Saving money: Yo...|[{https://m.media...|  Amazon Home| B0BNZ8Q7YT|24.99|          135|        rejomiik|Foaming Soap Disp...|[{Foaming Soap Di...|\n",
      "|           5.0|           NULL|[Home & Kitchen, ...|[Features. Europe...|{NULL, Tapestry T...|[Polyester,lace, ...|[{NULL, https://m...|  Amazon Home| B01508WQC6|45.64|            3|Tapestry Trading|Tapestry Trading ...|                  []|\n",
      "|           4.3|           NULL|[Home & Kitchen, ...|                  []|{{NULL, NULL}, je...|[Sleek chrome met...|[{NULL, https://m...|  Amazon Home| B00KKU8HTG| NULL|          167| jersey seating®|jersey seating 2 ...|[{Small and Styli...|\n",
      "|           4.6|           NULL|[Home & Kitchen, ...|                  []|{{NULL, NULL}, NU...|[High-Quality Mat...|[{https://m.media...|  Amazon Home| B0B61RJ848| 9.99|           67|       Chisander|Chisander 20 Inch...|                  []|\n",
      "+--------------+---------------+--------------------+--------------------+--------------------+--------------------+--------------------+-------------+-----------+-----+-------------+----------------+--------------------+--------------------+\n",
      "only showing top 5 rows\n",
      "\n"
     ]
    }
   ],
   "source": [
    "print(\"Schema:\")\n",
    "metadata_spark_df.printSchema()\n",
    "metadata_spark_df.show(5)"
   ]
  },
  {
   "cell_type": "code",
   "execution_count": 5,
   "metadata": {},
   "outputs": [
    {
     "name": "stdout",
     "output_type": "stream",
     "text": [
      "Schema:\n",
      "root\n",
      " |-- asin: string (nullable = true)\n",
      " |-- helpful_vote: long (nullable = true)\n",
      " |-- images: array (nullable = true)\n",
      " |    |-- element: string (containsNull = true)\n",
      " |-- parent_asin: string (nullable = true)\n",
      " |-- rating: double (nullable = true)\n",
      " |-- text: string (nullable = true)\n",
      " |-- timestamp: long (nullable = true)\n",
      " |-- title: string (nullable = true)\n",
      " |-- user_id: string (nullable = true)\n",
      " |-- verified_purchase: boolean (nullable = true)\n",
      "\n",
      "+----------+------------+--------------------+-----------+------+--------------------+-------------+--------------------+--------------------+-----------------+\n",
      "|      asin|helpful_vote|              images|parent_asin|rating|                text|    timestamp|               title|             user_id|verified_purchase|\n",
      "+----------+------------+--------------------+-----------+------+--------------------+-------------+--------------------+--------------------+-----------------+\n",
      "|B007WQ9YNO|           1|                  []| B09XWYG6X1|   1.0|Livid.  Once agai...|1677373409298|Received Used & s...|AFKZENTNBQ7A7V7UX...|             true|\n",
      "|B09H2VJW6K|           0|                  []| B0BXDLF8TW|   5.0|I purchased these...|1672043410846|Excellent for mov...|AFKZENTNBQ7A7V7UX...|             true|\n",
      "|B07RL297VR|           0|[{\"small_image_ur...| B09G2PW8ZG|   2.0|[[VIDEOID:c87e962...|1653447296788|Lid very loose- n...|AFKZENTNBQ7A7V7UX...|             true|\n",
      "|B09CQF4SWV|           0|[{\"small_image_ur...| B08CSZDXZY|   5.0|If you live at a ...|1651855096178| Best purchase ever!|AFKZENTNBQ7A7V7UX...|             true|\n",
      "|B003U6A3EY|           1|[{\"small_image_ur...| B0C6V27S6N|   5.0|I use these to st...|1589934525940| Excellent for yarn!|AFKZENTNBQ7A7V7UX...|             true|\n",
      "+----------+------------+--------------------+-----------+------+--------------------+-------------+--------------------+--------------------+-----------------+\n",
      "only showing top 5 rows\n",
      "\n"
     ]
    }
   ],
   "source": [
    "print(\"Schema:\")\n",
    "reviews_spark_df.printSchema()\n",
    "reviews_spark_df.show(5)"
   ]
  },
  {
   "cell_type": "markdown",
   "metadata": {},
   "source": [
    "# Step 4: Process the reviews DataFrame"
   ]
  },
  {
   "cell_type": "code",
   "execution_count": 6,
   "metadata": {},
   "outputs": [],
   "source": [
    "# Convert the 'timestamp' from milliseconds to seconds and create 'review_date_timestamp'\n",
    "reviews_spark_df = reviews_spark_df.withColumn(\n",
    "    \"review_date_timestamp\", \n",
    "    date_format(from_unixtime(col(\"timestamp\") / 1000), \"yyyy-MM-dd HH:mm:ss\")\n",
    ")\n",
    "\n",
    "# Filter for the desired date range and drop the 'images' column\n",
    "filtered_reviews_df = reviews_spark_df.filter(\n",
    "    (col(\"review_date_timestamp\").between(\"2018-01-01 00:00:00\", \"2020-12-31 23:59:59\"))\n",
    ").drop(\"images\")"
   ]
  },
  {
   "cell_type": "code",
   "execution_count": 7,
   "metadata": {},
   "outputs": [
    {
     "name": "stdout",
     "output_type": "stream",
     "text": [
      "+----------+------------+-----------+------+-------------------------------------------------------------------------------------------------------------------------------------------------------------------------------------------------------------------------------------------------------------------------------------------------------------------------------------------------------------------------------------------------------------------------------------------------------------------------------------------------------------------------------------------------------------------------------------------------------------------------------------------------------------------------------------------------------------------------------------------------------------------------------------------------------------------------------------------------------------------------------------------------------------------------------------------------------------------------------------------------------------------------------------------------------------------------------+-------------+----------------------------------------+----------------------------+-----------------+---------------------+\n",
      "|asin      |helpful_vote|parent_asin|rating|text                                                                                                                                                                                                                                                                                                                                                                                                                                                                                                                                                                                                                                                                                                                                                                                                                                                                                                                                                                                                                                                                           |timestamp    |title                                   |user_id                     |verified_purchase|review_date_timestamp|\n",
      "+----------+------------+-----------+------+-------------------------------------------------------------------------------------------------------------------------------------------------------------------------------------------------------------------------------------------------------------------------------------------------------------------------------------------------------------------------------------------------------------------------------------------------------------------------------------------------------------------------------------------------------------------------------------------------------------------------------------------------------------------------------------------------------------------------------------------------------------------------------------------------------------------------------------------------------------------------------------------------------------------------------------------------------------------------------------------------------------------------------------------------------------------------------+-------------+----------------------------------------+----------------------------+-----------------+---------------------+\n",
      "|B003U6A3EY|1           |B0C6V27S6N |5.0   |I use these to store yarn. They easily hold 12 of the 10.5 ounce Bernat Pipsqueaks yarn.  The pic only has 11.  I wish it had the zipper closure, but aside from that I love these bags.  I wasn’t sure how I would like the blue color, but I find that it adds uniformity on my wire shelves so different colors of yarn aren’t glaring at me 24/7 & the blue is a calming color.                                                                                                                                                                                                                                                                                                                                                                                                                                                                                                                                                                                                                                                                                            |1589934525940|Excellent for yarn!                     |AFKZENTNBQ7A7V7UXW5JJI6UGRYQ|true             |2020-05-19 20:28:45  |\n",
      "|B004506V8Q|0           |B00GUAURXY |5.0   |This is the perfect size for me being single and it’s great for brewing sun tea or others. I have an electric tea kettle so normally I just store my brewed tea in here, but lately I’ve been using it w my jasmine tea leaves and I love it. I wish they had more colors for lids.                                                                                                                                                                                                                                                                                                                                                                                                                                                                                                                                                                                                                                                                                                                                                                                            |1583557787276|Perfect for tea leaves!                 |AFKZENTNBQ7A7V7UXW5JJI6UGRYQ|true             |2020-03-07 00:09:47  |\n",
      "|B01CX1RIMQ|0           |B08K8N5FB2 |5.0   |Lost my old one during my last move. This works perfectly. I can’t stop making bread and biscuits.  So much for my diet. This is a very sturdy and functional product and I have zero complaints.                                                                                                                                                                                                                                                                                                                                                                                                                                                                                                                                                                                                                                                                                                                                                                                                                                                                              |1581799806318|Excellent!                              |AFKZENTNBQ7A7V7UXW5JJI6UGRYQ|true             |2020-02-15 15:50:06  |\n",
      "|B005YR0F40|2           |B0CGY43Y3P |3.0   |I like the temp settings, but does anybody know what the Protozoa looking stuff is on top of my water in my new kettle? I’ve washed it repeatedly. I’ve used only distilled or spring water bringing it to a boil first to kill any bacteria then letting it cool to the tea temp I need and yet every time I use it the water looks like this.  I’ve never had this problem with glass or other stainless kettles and quite frankly I’m afraid to drink it.  It grossed me out. While living in an apt complex that had busted water pipes I contracted h pylori and I’m deathly afraid of getting it again.  Any ideas?                                                                                                                                                                                                                                                                                                                                                                                                                                                      |1552877983695|Works, but weird stuff floating on water|AFKZENTNBQ7A7V7UXW5JJI6UGRYQ|true             |2019-03-17 22:59:43  |\n",
      "|B077BYFY8J|1           |B077BYFY8J |5.0   |This duvet set is a serious bubble gum girly pink.  After raising 5 kids and 25 years of marriage I am single and have seriously declared independence in my bedroom that is going seriously pastel! LOL.  The only problem with that is 2 small dogs who like to run in my muddy garden, but the cotton washes great and gets softer with every washing which is the thing I love most about cotton.  I love that this duvet has a zipper too!  The only drawback I’ve found and that will be super easy for me to fix since I sew is that the ties inside are made of a very cheap fabric in my opinion. They came a bit frayed, but next time I am at the local Joann’s Fabric store I will pick up some twill tape or other material to replace the ties. The big irony is that I currently have a mint colored comforter inside of the duvet as I recently moved and have not unpacked my duvet insert yet.  I also like the little girly ruffle that is on 3 sides of the comforter.  Yes, I am a 52 year old woman with a bubble gum pink duvet cover and I’m loving it!|1547920165545|100% cotton! Yay!!!!!                   |AFKZENTNBQ7A7V7UXW5JJI6UGRYQ|true             |2019-01-19 12:49:25  |\n",
      "+----------+------------+-----------+------+-------------------------------------------------------------------------------------------------------------------------------------------------------------------------------------------------------------------------------------------------------------------------------------------------------------------------------------------------------------------------------------------------------------------------------------------------------------------------------------------------------------------------------------------------------------------------------------------------------------------------------------------------------------------------------------------------------------------------------------------------------------------------------------------------------------------------------------------------------------------------------------------------------------------------------------------------------------------------------------------------------------------------------------------------------------------------------+-------------+----------------------------------------+----------------------------+-----------------+---------------------+\n",
      "only showing top 5 rows\n",
      "\n"
     ]
    }
   ],
   "source": [
    "filtered_reviews_df.show(5, truncate=False)"
   ]
  },
  {
   "cell_type": "markdown",
   "metadata": {},
   "source": [
    "# Step 5: Perform left join between filtered_reviews_df and metadata_spark_df"
   ]
  },
  {
   "cell_type": "code",
   "execution_count": 8,
   "metadata": {},
   "outputs": [],
   "source": [
    "# Rename the 'title' column to 'product_name' in the metadata DataFrame before the join\n",
    "metadata_spark_df_renamed = metadata_spark_df.select(\n",
    "    \"parent_asin\", \n",
    "    \"main_category\", \n",
    "    col(\"title\").alias(\"product_name\"),  # Rename 'title' to 'product_name'\n",
    "    \"categories\", \n",
    "    \"price\", \n",
    "    \"average_rating\", \n",
    "    \"rating_number\"\n",
    ")\n",
    "\n",
    "# Perform the join\n",
    "joined_df = filtered_reviews_df.join(\n",
    "    metadata_spark_df_renamed,\n",
    "    on=\"parent_asin\",\n",
    "    how=\"left\"\n",
    ")"
   ]
  },
  {
   "cell_type": "code",
   "execution_count": 9,
   "metadata": {},
   "outputs": [
    {
     "name": "stdout",
     "output_type": "stream",
     "text": [
      "+-----------+----------+------------+------+-----------------------------------------------------------------------------------------------------------------------------------------------------------------------------------------------------------------------------------------------------------------------------------------------------------------------------------------------------------------------+-------------+----------------------------------------------+----------------------------+-----------------+---------------------+----------------------+-----------------------------------------------------------------------------------------------------------------------------------------------------------------------------------+---------------------------------------------------------------------------------------------------------------------------------------------------+-----+--------------+-------------+\n",
      "|parent_asin|asin      |helpful_vote|rating|text                                                                                                                                                                                                                                                                                                                                                                   |timestamp    |title                                         |user_id                     |verified_purchase|review_date_timestamp|main_category         |product_name                                                                                                                                                                       |categories                                                                                                                                         |price|average_rating|rating_number|\n",
      "+-----------+----------+------------+------+-----------------------------------------------------------------------------------------------------------------------------------------------------------------------------------------------------------------------------------------------------------------------------------------------------------------------------------------------------------------------+-------------+----------------------------------------------+----------------------------+-----------------+---------------------+----------------------+-----------------------------------------------------------------------------------------------------------------------------------------------------------------------------------+---------------------------------------------------------------------------------------------------------------------------------------------------+-----+--------------+-------------+\n",
      "|B001TI742Y |B001TI742Y|0           |5.0   |El mejor termo!                                                                                                                                                                                                                                                                                                                                                        |1557137041695|Indispensable                                 |AFWCMZM33SOEM7I3PSM6TGE7MYFA|true             |2019-05-06 06:04:01  |Sports & Outdoors     |Stanley Classic Vacuum Bottle 1.4QT Hammertone Green                                                                                                                               |[Home & Kitchen, Kitchen & Dining, Storage & Organization, Thermoses, Insulated Beverage Containers, Thermoses]                                    |NULL |4.6           |638          |\n",
      "|B0026L6LBI |B0026L6LBI|0           |5.0   |Like warming wires for bread. Only company in USA THAT SELLS THIS PRODUCT.!                                                                                                                                                                                                                                                                                            |1580688229277|Boding the best toaster in USA                |AEG3HJAUG45R3T2HUBAFNFA6U3YQ|true             |2020-02-02 19:03:49  |Amazon Home           |Bodum 10709-911US Bistro 2-Slice Toaster with Bagel and Bun Warmer, Gray                                                                                                           |[Home & Kitchen, Kitchen & Dining, Small Appliances, Ovens & Toasters, Toasters]                                                                   |NULL |3.5           |185          |\n",
      "|B0026L6LBI |B0026L6LBI|0           |5.0   |Like warming wires for bread. Only company in USA THAT SELLS THIS PRODUCT.!                                                                                                                                                                                                                                                                                            |1580688229277|Boding the best toaster in USA                |AEG3HJAUG45R3T2HUBAFNFA6U3YQ|true             |2020-02-02 19:03:49  |Amazon Home           |Bodum 10709-911US Bistro 2-Slice Toaster with Bagel and Bun Warmer, Gray                                                                                                           |[Home & Kitchen, Kitchen & Dining, Small Appliances, Ovens & Toasters, Toasters]                                                                   |NULL |3.5           |185          |\n",
      "|B002LZUMG4 |B002LZUMG4|0           |5.0   |These look great, and when paired with the &#34;Medieval Gears Brand 12&#34; Hand Wrought Medieval Camping Iron Metal Wall Cloth Hanging Hook Bar Rack &#34; fit flush on the side of our fireplace, freeing up space on the hearth.                                                                                                                                   |1521470323132|They look great, and the shape is even better.|AGQR6YMFMM7JTACXD7Y6YFA6QXVQ|true             |2018-03-19 10:38:43  |Amazon Home           |UniFlame, F-11140, 5-Piece Wrought Iron Toolset, Black                                                                                                                             |[Home & Kitchen, Heating, Cooling & Air Quality, Parts & Accessories, Stove & Fireplace Accessories, Fireplace Tools, Tool Sets]                   |89.3 |4.5           |440          |\n",
      "|B002Q5YH9C |B002Q5YH9C|0           |5.0   |these work and are good for a 5 year old                                                                                                                                                                                                                                                                                                                               |1517838192103|Five Stars                                    |AEE64OPEJ3UTZD2AN66DH4WCIJUQ|true             |2018-02-05 08:43:12  |Amazon Home           |Curious Chef Children's 3-Piece Nylon Knife Set                                                                                                                                    |[Home & Kitchen, Kitchen & Dining, Bakeware, Kids' Baking Supplies]                                                                                |14.99|4.7           |3001         |\n",
      "|B004I9Y1H2 |B004I9Y1H2|2           |5.0   |Got this for my ladybug crazy adult daughter and she went nuts for this.                                                                                                                                                                                                                                                                                               |1598766204592|She loves it!                                 |AFIUNNZBSR7YPNMTXSLZUYEP7FKQ|true             |2020-08-30 01:43:24  |Amazon Home           |Lucky Ladybug Shaped Teapot                                                                                                                                                        |[Home & Kitchen, Kitchen & Dining, Dining & Entertaining, Dinnerware & Serveware, Teapots & Coffee Servers, Teapots]                               |26.51|4.4           |515          |\n",
      "|B004L8V966 |B004L8V966|0           |5.0   |Good value, quick delivery                                                                                                                                                                                                                                                                                                                                             |1604051068987|Keep your machine clean                       |AHIEEPWDVKSIOX33VWDOIRHP2QTA|true             |2020-10-30 05:44:28  |Health & Personal Care|Urnex Dezcal Coffee and Espresso Machine Descaler Activated Scale Remover - 900g Bottle - Fast Effective Descaling Of Boilers and Heating Elements Faucets Spray Heads Milk Systems|[Kitchen & Dining, Small Appliance Parts & Accessories, Coffee & Espresso Machine Parts & Accessories, Coffee & Espresso Machine Cleaning Products]|30.98|4.7           |3543         |\n",
      "|B0097DIE6S |B0097DIE6S|0           |3.0   |I purchased The Mat to make decorating my cakes with fondant less of a headache. I was disappointed to find that I was shipped an item that was obviously previously used. Since I needed it right away I sanitized it and used it anyway. It helps with transferring the fondant but for what I paid I would have expected a new item, not one that had been returned.|1529325361981|Received used product                         |AGJAZIKISPRLNRNOWHWZYWSIMMWQ|true             |2018-06-18 08:36:01  |Amazon Home           |22 X 22\" Inch Fondant Mat - Best Tool to Cover Cake with Fondant                                                                                                                   |[]                                                                                                                                                 |NULL |4.1           |123          |\n",
      "|B00AN8MXV8 |B00AN8MXV8|0           |5.0   |I loved EVERYTHING about her!                                                                                                                                                                                                                                                                                                                                          |1595304269204|Good solid statue of Lilith!                  |AECB7NJGUSLYX4V7QGT4B2QH4YLQ|true             |2020-07-21 00:04:29  |Amazon Home           |Dryad Design Goddess Lilith Statue Stone Finish                                                                                                                                    |[Home & Kitchen, Home Décor Products, Home Décor Accents, Sculptures, Statues]                                                                     |69.99|4.8           |85           |\n",
      "|B00ET6FJIE |B00ET6FJIE|0           |5.0   |Love the item and the personal touch on the package                                                                                                                                                                                                                                                                                                                    |1567828501806|Beautiful energy                              |AGP3LIIRYHVKV7TY6TVFL6RAYC4A|true             |2019-09-06 23:55:01  |NULL                  |Pi Stone - Black Quartz                                                                                                                                                            |[Home & Kitchen, Wall Art]                                                                                                                         |NULL |5.0           |7            |\n",
      "+-----------+----------+------------+------+-----------------------------------------------------------------------------------------------------------------------------------------------------------------------------------------------------------------------------------------------------------------------------------------------------------------------------------------------------------------------+-------------+----------------------------------------------+----------------------------+-----------------+---------------------+----------------------+-----------------------------------------------------------------------------------------------------------------------------------------------------------------------------------+---------------------------------------------------------------------------------------------------------------------------------------------------+-----+--------------+-------------+\n",
      "only showing top 10 rows\n",
      "\n"
     ]
    }
   ],
   "source": [
    "# Show the result of the join\n",
    "joined_df.show(10, truncate=False)"
   ]
  },
  {
   "cell_type": "code",
   "execution_count": null,
   "metadata": {},
   "outputs": [],
   "source": [
    "# Checking if data has bloated\n",
    "\n",
    "# Get the row count of filtered_reviews_df\n",
    "row_count = filtered_reviews_df.count()\n",
    "print(f\"Row count of filtered_reviews_df: {row_count}\")\n",
    "\n",
    "# 24,607,644 (24M)"
   ]
  },
  {
   "cell_type": "code",
   "execution_count": null,
   "metadata": {},
   "outputs": [],
   "source": [
    "# Get the row count of filtered_reviews_df\n",
    "row_count = joined_df.count()\n",
    "print(f\"Row count of joined_df: {row_count}\")\n",
    "\n",
    "# There is no issue of data bloating"
   ]
  },
  {
   "cell_type": "code",
   "execution_count": 10,
   "metadata": {},
   "outputs": [
    {
     "name": "stdout",
     "output_type": "stream",
     "text": [
      "+----------------------------+--------+\n",
      "|main_category               |count   |\n",
      "+----------------------------+--------+\n",
      "|Audible Audiobooks          |14      |\n",
      "|Entertainment               |124     |\n",
      "|Premium Beauty              |453     |\n",
      "|Computers                   |9013    |\n",
      "|All Electronics             |102392  |\n",
      "|Home Audio & Theater        |22929   |\n",
      "|Pet Supplies                |15502   |\n",
      "|Toys & Games                |274838  |\n",
      "|NULL                        |579693  |\n",
      "|Baby                        |57392   |\n",
      "|Sports & Outdoors           |178889  |\n",
      "|Grocery                     |26856   |\n",
      "|Video Games                 |948     |\n",
      "|Automotive                  |27609   |\n",
      "|Handmade                    |29638   |\n",
      "|Books                       |61      |\n",
      "|Amazon Home                 |21065410|\n",
      "|Industrial & Scientific     |320027  |\n",
      "|Health & Personal Care      |203302  |\n",
      "|Cell Phones & Accessories   |13612   |\n",
      "|Arts, Crafts & Sewing       |63756   |\n",
      "|Software                    |155     |\n",
      "|Car Electronics             |362     |\n",
      "|Tools & Home Improvement    |1192387 |\n",
      "|All Beauty                  |46280   |\n",
      "|Office Products             |134417  |\n",
      "|Appliances                  |126573  |\n",
      "|Camera & Photo              |6004    |\n",
      "|Musical Instruments         |7595    |\n",
      "|Portable Audio & Accessories|198     |\n",
      "|AMAZON FASHION              |101034  |\n",
      "|Gift Cards                  |9       |\n",
      "|Sports Collectibles         |14      |\n",
      "|Amazon Devices              |27      |\n",
      "|Collectible Coins           |22      |\n",
      "|Fine Art                    |36      |\n",
      "|Movies & TV                 |55      |\n",
      "|GPS & Navigation            |7       |\n",
      "|SUBSCRIPTION BOXES          |10      |\n",
      "|Unique Finds                |1       |\n",
      "+----------------------------+--------+\n",
      "\n"
     ]
    }
   ],
   "source": [
    "# Get distinct main_categories and their row counts from joined_df\n",
    "category_counts_df = joined_df.groupBy(\"main_category\").count()\n",
    "\n",
    "# Show the result\n",
    "category_counts_df.show(50, truncate=False)\n",
    "\n",
    "# 85% from Amazon Home\n",
    "# ~5% from Tools & Home Improvement\n",
    "# Everything else is 10%\n"
   ]
  },
  {
   "cell_type": "code",
   "execution_count": 11,
   "metadata": {},
   "outputs": [
    {
     "name": "stdout",
     "output_type": "stream",
     "text": [
      "+------------------------------------------------------------------------------------------------------------------------------------------------------------------------------------------------+\n",
      "|product_name                                                                                                                                                                                    |\n",
      "+------------------------------------------------------------------------------------------------------------------------------------------------------------------------------------------------+\n",
      "|Reusable Shopping Cart Bags and Grocery Organizer Designed for Trolley Carts by Modern Day Living                                                                                               |\n",
      "|Karelian Heritage Elite Noble Shungite Crystal | Elite Shungite Stone for Water | Elite Shungite Grounding Crystal | Shungite Stone Crystal for Reiki, Mediation, Chakra Balancing              |\n",
      "|Dirty Laundry Women's Talia Motorcycle Boot                                                                                                                                                     |\n",
      "|Yamonic Real Preserved Rose with Love You 100 Languages Necklace Box Gift for Her, Birthday Gift for Women, Rose Gift Present for Anniversary, Valentine's Day, Mother's Day, Christmas - Blue  |\n",
      "|6 Pack Reusable Storage Bags (2 Large 50oz + 4 Medium 30oz) - Airtight Seal Food Storage Bags for Sandwich, Fruit, Veggies, Soup - Eco-Friendly Reusable Food Bags BPA-Free Material - Lead Free|\n",
      "|2 Packs Cotton Adjustable Apron with Pockets Women Bib Cute Chef Cooking Apron,grey&coffee                                                                                                      |\n",
      "|FLOMO Christmas Plush Paw Print Santa Hat (2 Hats) Perfect for Animal Lovers This Christmas! Red                                                                                                |\n",
      "|A&C 2016 Hot Chic Fashion Bohemia Silver Color Angle Feather Shaped 4 Layer Chain Jewelry Necklaces for Women.                                                                                  |\n",
      "|Calamus Turmoil Polarized Sport Sunglasses for Men and Women, Ideal for Driving Fishing, Cycling, and Running, UV Protection                                                                    |\n",
      "|shouldbuy 4 Pieces Waterproof Travel Drawstring Bag Shoe Laundry Underwear Makeup Storage Pouch                                                                                                 |\n",
      "+------------------------------------------------------------------------------------------------------------------------------------------------------------------------------------------------+\n",
      "only showing top 10 rows\n",
      "\n"
     ]
    }
   ],
   "source": [
    "# Checking if some random main_category product logically belongs to Home & Kitchen\n",
    "\n",
    "# Filter for main_category = 'AMAZON FASHION'\n",
    "amazon_fashion_df = joined_df.filter(col(\"main_category\") == \"AMAZON FASHION\")\n",
    "\n",
    "# Select distinct product names\n",
    "distinct_product_names = amazon_fashion_df.select(\"product_name\").distinct()\n",
    "\n",
    "# Show a few distinct product names\n",
    "distinct_product_names.show(10, truncate=False)"
   ]
  },
  {
   "cell_type": "code",
   "execution_count": 12,
   "metadata": {},
   "outputs": [
    {
     "name": "stdout",
     "output_type": "stream",
     "text": [
      "+---------------------------------------------------------------------------------------------------------------------------------------------------------------------------------------------------+\n",
      "|product_name                                                                                                                                                                                       |\n",
      "+---------------------------------------------------------------------------------------------------------------------------------------------------------------------------------------------------+\n",
      "|Instruction Manual for Oster Bread Machine Manual (Model: 4812) Reprint                                                                                                                            |\n",
      "|Instruction Manual for Panasonic Bread Machine Manual (Model: SD-RD250) Reprint                                                                                                                    |\n",
      "|Instruction Manual for Cuisinart Bread Machine Manual & Recipes (Model: CBK-100) Brea...                                                                                                           |\n",
      "|Instruction Manual for Panasonic Bread Machine Manual (Model: SD-BT55P) Reprint                                                                                                                    |\n",
      "|SIMPLE KITCHEN New and Improved Silicone Ice Bucket - ICE Cube Maker! Space Saving! 3 in 1 - Ice Bucket, Ice Mold with lid and Bottle Chiller - It's Like a Magic ice Cube Maker! ICE Tong Included|\n",
      "|Oster 2 lb. Expressbake Breadmaker - User Manual & Bread Recipes                                                                                                                                   |\n",
      "|Manual Garlic Cutter Magic Garlic Cube Cutter Squeeze Garlic Mincer Press Chopper                                                                                                                  |\n",
      "|Instruction Manual for Cuisinart Bread Machine Manual (Model: CBK-200) Reprint                                                                                                                     |\n",
      "|Hysure Household Portable Mini Dehumidifier Electric, Deshumidificador, Home Dehumidifier for Bathroom Crawl Space Bedroom RV Baby Room 500ml White                                                |\n",
      "|Instruction Manual for Panasonic Bread Machine Manual & Recipes (Model: SD-BT65P) Bre...                                                                                                           |\n",
      "+---------------------------------------------------------------------------------------------------------------------------------------------------------------------------------------------------+\n",
      "only showing top 10 rows\n",
      "\n"
     ]
    }
   ],
   "source": [
    "# Filter for main_category = 'Books'\n",
    "books_df = joined_df.filter(col(\"main_category\") == \"Books\")\n",
    "\n",
    "# Select distinct product names\n",
    "distinct_product_names = books_df.select(\"product_name\").distinct()\n",
    "\n",
    "# Show a few distinct product names\n",
    "distinct_product_names.show(10, truncate=False)"
   ]
  },
  {
   "cell_type": "code",
   "execution_count": 13,
   "metadata": {},
   "outputs": [],
   "source": [
    "# Seems like all products are relevant to home and kitchen to some degree. So let's retain this proportion/ditribution and discard categories (hierarchy) as it's too granular."
   ]
  },
  {
   "cell_type": "markdown",
   "metadata": {},
   "source": [
    "# Sampling 1% of the data"
   ]
  },
  {
   "cell_type": "code",
   "execution_count": 9,
   "metadata": {},
   "outputs": [],
   "source": [
    "from pyspark.sql.functions import col, month"
   ]
  },
  {
   "cell_type": "code",
   "execution_count": 10,
   "metadata": {},
   "outputs": [],
   "source": [
    "# Step 1: Extract month from review_date_timestamp\n",
    "joined_df = joined_df.withColumn(\"review_month\", month(col(\"review_date_timestamp\")))"
   ]
  },
  {
   "cell_type": "code",
   "execution_count": 11,
   "metadata": {},
   "outputs": [],
   "source": [
    "# Step 2: Calculate the total count per group (month, rating)\n",
    "grouped_df = joined_df.groupBy(\"review_month\", \"rating\").count()"
   ]
  },
  {
   "cell_type": "code",
   "execution_count": 12,
   "metadata": {},
   "outputs": [],
   "source": [
    "# Step 3: Join the grouped counts back to the original DataFrame\n",
    "joined_with_count_df = joined_df.join(grouped_df, on=[\"review_month\", \"rating\"], how=\"inner\")"
   ]
  },
  {
   "cell_type": "code",
   "execution_count": 13,
   "metadata": {},
   "outputs": [],
   "source": [
    "# Step 4: Calculate the sampling fraction (1% of data)\n",
    "sampling_fraction = 0.01"
   ]
  },
  {
   "cell_type": "code",
   "execution_count": 14,
   "metadata": {},
   "outputs": [],
   "source": [
    "# Step 5: Perform stratified sampling by month and rating\n",
    "sampled_df = joined_with_count_df.sampleBy(\n",
    "    col=\"review_month\",  # Column for stratification (month)\n",
    "    fractions={row['review_month']: sampling_fraction for row in grouped_df.collect()},  # Dict for sampling fractions\n",
    "    seed=42  # Seed for reproducibility\n",
    ")\n",
    "\n",
    "# We can change seeds in case we want multiple samples - for reliability - we could train multiple models and average the model parameters/weights"
   ]
  },
  {
   "cell_type": "code",
   "execution_count": 17,
   "metadata": {},
   "outputs": [
    {
     "name": "stdout",
     "output_type": "stream",
     "text": [
      "+------------+------+-----------+----------+------------+------------------------------------------------------------------------------------------------------------------------------------------------------------------------------------------------------------------------------------------------------------------------------------------------------------------------------------------------------------------------------------------------------------------------------------------------------------------------------------------------------------------------------------------------------------------------------------------------------------------------------------------------------------------------------------------------------------------------------------------------------------------------------------------+-------------+------------------------------------------------------+----------------------------+-----------------+---------------------+-------------+--------------------------------------------------------------------------------------------------------------------------------------------------------------------------------------------+-------------------------------------------------------------------------------------------------------+------+--------------+-------------+------+\n",
      "|review_month|rating|parent_asin|asin      |helpful_vote|text                                                                                                                                                                                                                                                                                                                                                                                                                                                                                                                                                                                                                                                                                                                                                                                      |timestamp    |title                                                 |user_id                     |verified_purchase|review_date_timestamp|main_category|product_name                                                                                                                                                                                |categories                                                                                             |price |average_rating|rating_number|count |\n",
      "+------------+------+-----------+----------+------------+------------------------------------------------------------------------------------------------------------------------------------------------------------------------------------------------------------------------------------------------------------------------------------------------------------------------------------------------------------------------------------------------------------------------------------------------------------------------------------------------------------------------------------------------------------------------------------------------------------------------------------------------------------------------------------------------------------------------------------------------------------------------------------------+-------------+------------------------------------------------------+----------------------------+-----------------+---------------------+-------------+--------------------------------------------------------------------------------------------------------------------------------------------------------------------------------------------+-------------------------------------------------------------------------------------------------------+------+--------------+-------------+------+\n",
      "|2           |1.0   |B001DTE5Q2 |B001DTE5Q2|0           |Very flimsy hooks. Purses fall off constantly. Not worth money.                                                                                                                                                                                                                                                                                                                                                                                                                                                                                                                                                                                                                                                                                                                           |1581880140993|Waste of money                                        |AFAHC6E2UT4DJT4E2GBGNE5C2LPQ|true             |2020-02-16 14:09:00  |Amazon Home  |Perfect Curve Purse Rack HPC | Over The Door Purse Organizer | Purse Organizer for Wall | Purse Organizer for Closet | Updated Design | New Clips | Two Straps | Holds Up to 18 Bags | Black|[Home & Kitchen, Storage & Organization, Clothing & Closet Storage]                                    |NULL  |4.1           |1973         |179665|\n",
      "|2           |1.0   |B003Z3URR0 |B001G3ZP8W|1           |This incense has no scent. Also does not burn like incense should. Will not buy again.                                                                                                                                                                                                                                                                                                                                                                                                                                                                                                                                                                                                                                                                                                    |1582731248091|No scent incense.                                     |AHB5U3ZMDUW7SKKDGVIKAOVCFY5Q|true             |2020-02-26 10:34:08  |Amazon Home  |Hem Precious Musk Fragrance Incense Sticks, 120 Count                                                                                                                                       |[Home & Kitchen, Home Décor Products, Home Fragrance, Incense & Incense Holders, Incense]              |6.98  |4.6           |1229         |179665|\n",
      "|2           |1.0   |B004LHCPPG |B004LHCPPG|0           |The last one I ordered in November, didn’t work parts were not the same size, so I just ordered again, I’ve ordered before, wo any problems                                                                                                                                                                                                                                                                                                                                                                                                                                                                                                                                                                                                                                               |1549438353178|Product works                                         |AGNFA64J6AGJ2ATCPVA5O4HAYTUA|true             |2019-02-06 02:32:33  |Amazon Home  |1 X 70mm Metal Cigarette Roller & Storage Box                                                                                                                                               |[]                                                                                                     |11.5  |3.9           |637          |179665|\n",
      "|2           |1.0   |B00IEE9J2O |B00IEE9J2O|3           |Didn't like it.  The filter doesn't seem as good as one I bought before.                                                                                                                                                                                                                                                                                                                                                                                                                                                                                                                                                                                                                                                                                                                  |1518141507661|Didn't like it. The filter doesn't seem as good as ...|AFG6UQW2ZSAMNBAJSAMYOUWVMMBQ|true             |2018-02-08 20:58:27  |Appliances   |LifeSupplyUSA True HEPA Filter Replacement Compatible with GermGuardian FLT4825 FLT-4850 AC4800 4800 Series, Germ Guardian Filter B (3-Pack)                                                |[Home & Kitchen, Heating, Cooling & Air Quality, Parts & Accessories, Air Purifier Parts & Accessories]|22.88 |4.2           |307          |179665|\n",
      "|2           |1.0   |B00PILE4SK |B00FZ1JR6M|0           |This is a good brand, and for sure I'll buy it again but not from Amazon,                                                                                                                                                                                                                                                                                                                                                                                                                                                                                                                                                                                                                                                                                                                 |1582822571741|I paid for a new model and received a used one        |AGIEN7AW4DV6OMUK25PCPFZAU6KQ|true             |2020-02-27 11:56:11  |Amazon Home  |KitchenAid KSB1575BU 5-Speed Diamond Blender with 60-Ounce BPA-Free Pitcher - Cobalt Blue                                                                                                   |[Home & Kitchen, Kitchen & Dining, Small Appliances, Blenders, Countertop Blenders]                    |NULL  |4.5           |3905         |179665|\n",
      "|2           |1.0   |B00U8QGU32 |B00Q7OFEM2|1           |Was overall pretty happy with this comforter until I washed it. The filling bunched up and hardened so I was unable to use it and had to throw it away.                                                                                                                                                                                                                                                                                                                                                                                                                                                                                                                                                                                                                                   |1580683343441|Careful when washing                                  |AGEWDSIDG4LO3ZM26G74F7MVKNHQ|true             |2020-02-02 17:42:23  |Amazon Home  |Amazon Basics Reversible Lightweight Microfiber Comforter Blanket, Full/Queen, Burgundy/Gray                                                                                                |[Home & Kitchen, Bedding, Comforters & Sets]                                                           |36.95 |4.5           |40403        |179665|\n",
      "|2           |1.0   |B073QPN27F |B073QPN27F|0           |Loved this clock...at first. On the plus side: it is compact and looks nice on the night stand. Also easy to put in it's retail box, which is also compact, for traveling. On the negative side: the red light that hits the ceiling is brighter han our prior projection clock and there is a lot of light projected in a circular area, beyond the actual digits, which brightens the room. But we adjusted to that. The big problem with this clock is that IT DOESN'T KEEP TIME RELIABLY. Twice now it has &#34;updated&#34; itself during the night and been off by up to two hours, in both directions. My return window through Amazon has closed, but we're done with this device. It's raison d'être is to tell us what time it is, and it evidently cannot do that consistently.|1518623460911|Perfect...except it can't keep time                   |AHZMY3OXHKSPLZMK5KN3UPMRVFQQ|true             |2018-02-14 10:51:00  |Amazon Home  |Alarm Clock, Digital Projection Clock with Dual Alarms, Indoor Thermometer, USB Phone Charging                                                                                              |[Home & Kitchen, Home Décor Products, Clocks, Specialty Clocks]                                        |NULL  |3.3           |103          |179665|\n",
      "|2           |1.0   |B0772ZMZMM |B0772ZMZMM|5           |This product is terrible. I bought it and was hoping that the warming plate will keep the coffee warm but it doesn’t. It’s defective. I emailed their customer service and no response. Don’t buy it. Look elsewhere. I suggest buying a separate warming plate that’s versatile. This thing is thick, heavy and takes a lot of space.<br /><br />Did I also mention the warming plate is defective ?                                                                                                                                                                                                                                                                                                                                                                                     |1518502153520|Defective, Terrible, Heavy, takes a lot of space      |AFKN5XLPSH6MKCF2D5FV764RJCEQ|true             |2018-02-13 01:09:13  |Amazon Home  |Aroma Housewares Professional Digital Pour Over Coffee Maker, 1 L, Stainless Steel                                                                                                          |[Home & Kitchen, Kitchen & Dining, Coffee, Tea & Espresso, Kettles & Tea Machines, Electric Kettles]   |NULL  |4.4           |69           |179665|\n",
      "|2           |1.0   |B078MPFN55 |B078MPFN55|0           |This product is a piece of junk.  Since I first used it, it made a horrible noise like something is broken inside. I contacted support and they said it was a brush. They sent me a new brush. A week later I get it and same problem.  I contact them again, same thing.  They send me another brush.  It doesn't fix the problem either.  They send me another brush. Of course it doesn't fix it.  On top of that, it loses my floor maps. It shuts down for no reason. It says there are obstacles blocking its path when there is nothing in front of it.  It's garbage.                                                                                                                                                                                                             |1580923330717|Get A Roomba instead.                                 |AHHKVMSOCT6J6Q3US2WDMSXK3TKQ|true             |2020-02-05 12:22:10  |Amazon Home  |Neato Robotics Botvac D7 Connected Robot Vacuum - Laser Navigation, Wi-Fi Connectivity, Ideal for Corners, Pet Hair, Carpets & Hard Floors                                                  |[Home & Kitchen, Vacuums & Floor Care, Vacuums, Robotic Vacuums]                                       |395.51|4.0           |2821         |179665|\n",
      "|2           |1.0   |B07GWCM246 |B07GWCM246|5           |One month after purchase date and it began to rust inside ... Hope I haven't drunk much of that. Poor craftmanship.                                                                                                                                                                                                                                                                                                                                                                                                                                                                                                                                                                                                                                                                       |1551071200001|RUST !!!                                              |AECOVHTWFFYRNZAA7RGRI4MH2BZQ|true             |2019-02-25 00:06:40  |Amazon Home  |Dezin Electric Kettle, 2L Stainless Steel Cordless Tea Kettle, Fast Boil, Auto Shut Off and Boil Dry Protection Tech – Base on SIDE Concept (Simple, Inexpensive, Dependable and Effective) |[Home & Kitchen, Kitchen & Dining, Coffee, Tea & Espresso, Kettles & Tea Machines, Electric Kettles]   |NULL  |3.9           |1165         |179665|\n",
      "+------------+------+-----------+----------+------------+------------------------------------------------------------------------------------------------------------------------------------------------------------------------------------------------------------------------------------------------------------------------------------------------------------------------------------------------------------------------------------------------------------------------------------------------------------------------------------------------------------------------------------------------------------------------------------------------------------------------------------------------------------------------------------------------------------------------------------------------------------------------------------------+-------------+------------------------------------------------------+----------------------------+-----------------+---------------------+-------------+--------------------------------------------------------------------------------------------------------------------------------------------------------------------------------------------+-------------------------------------------------------------------------------------------------------+------+--------------+-------------+------+\n",
      "only showing top 10 rows\n",
      "\n"
     ]
    }
   ],
   "source": [
    "# Step 6: Show some of the sampled data to verify\n",
    "sampled_df.cache()  # Persist the DataFrame in memory\n",
    "sampled_df.show(10, truncate=False)\n",
    "\n",
    "# Might run into memory issues or timeout error - For out of memory we can trweak:\n",
    "\n",
    "# spark = SparkSession.builder \\\n",
    "#     .appName(\"Sample Data\") \\\n",
    "#     .config(\"spark.driver.memory\", \"6g\") \\\n",
    "#     .config(\"spark.executor.memory\", \"4g\") \\\n",
    "#     .config(\"spark.executor.cores\", \"2\") \\\n",
    "#     .getOrCreate()\n",
    "\n",
    "# To increase timeout settings:\n",
    "# spark.conf.set(\"spark.network.timeout\", \"10000s\")\n",
    "# spark.conf.set(\"spark.executor.heartbeatInterval\", \"60s\")\n"
   ]
  },
  {
   "cell_type": "code",
   "execution_count": 16,
   "metadata": {},
   "outputs": [
    {
     "name": "stdout",
     "output_type": "stream",
     "text": [
      "Row count of sampled_df: 246014\n"
     ]
    }
   ],
   "source": [
    "# Getting count of sampled df\n",
    "row_count = sampled_df.count()\n",
    "print(f\"Row count of sampled_df: {row_count}\")\n",
    "\n",
    "# We've 246k rows"
   ]
  },
  {
   "cell_type": "code",
   "execution_count": 21,
   "metadata": {},
   "outputs": [
    {
     "data": {
      "text/plain": [
       "[('review_month', 'int'),\n",
       " ('rating', 'double'),\n",
       " ('parent_asin', 'string'),\n",
       " ('asin', 'string'),\n",
       " ('helpful_vote', 'bigint'),\n",
       " ('text', 'string'),\n",
       " ('timestamp', 'bigint'),\n",
       " ('title', 'string'),\n",
       " ('user_id', 'string'),\n",
       " ('verified_purchase', 'boolean'),\n",
       " ('review_date_timestamp', 'string'),\n",
       " ('main_category', 'string'),\n",
       " ('product_name', 'string'),\n",
       " ('categories', 'array<string>'),\n",
       " ('price', 'double'),\n",
       " ('average_rating', 'double'),\n",
       " ('rating_number', 'bigint'),\n",
       " ('count', 'bigint')]"
      ]
     },
     "execution_count": 21,
     "metadata": {},
     "output_type": "execute_result"
    }
   ],
   "source": [
    "sampled_df.dtypes\n",
    "\n",
    "# Can't save as csv if it's of type array<string>"
   ]
  },
  {
   "cell_type": "code",
   "execution_count": 27,
   "metadata": {},
   "outputs": [],
   "source": [
    "# Set legacy time parser policy\n",
    "spark.conf.set(\"spark.sql.legacy.timeParserPolicy\", \"LEGACY\")\n",
    "\n",
    "from pyspark.sql.functions import year, to_timestamp, concat_ws\n",
    "\n",
    "# Step 1: Convert 'review_date_timestamp' to a timestamp type (with correct format)\n",
    "sampled_df = sampled_df.withColumn(\"review_date_timestamp\", to_timestamp(sampled_df[\"review_date_timestamp\"], 'yyyy-MM-dd HH:mm:ss'))\n",
    "\n",
    "# Step 2: Extract the year from 'review_date_timestamp'\n",
    "sampled_df = sampled_df.withColumn(\"year\", year(sampled_df[\"review_date_timestamp\"]))\n",
    "\n",
    "# Step 3: Convert 'categories' array column into a string\n",
    "sampled_df = sampled_df.withColumn(\"categories\", concat_ws(\",\", \"categories\"))\n",
    "\n",
    "# Step 4: Drop the 'count' column\n",
    "sampled_df = sampled_df.drop(\"count\")"
   ]
  },
  {
   "cell_type": "code",
   "execution_count": 28,
   "metadata": {},
   "outputs": [
    {
     "name": "stdout",
     "output_type": "stream",
     "text": [
      "+------------+------+-----------+----------+------------+--------------------+-------------+--------------------+--------------------+-----------------+---------------------+-------------+--------------------+--------------------+-----+--------------+-------------+----+\n",
      "|review_month|rating|parent_asin|      asin|helpful_vote|                text|    timestamp|               title|             user_id|verified_purchase|review_date_timestamp|main_category|        product_name|          categories|price|average_rating|rating_number|year|\n",
      "+------------+------+-----------+----------+------------+--------------------+-------------+--------------------+--------------------+-----------------+---------------------+-------------+--------------------+--------------------+-----+--------------+-------------+----+\n",
      "|           2|   1.0| B001DTE5Q2|B001DTE5Q2|           0|Very flimsy hooks...|1581880140993|      Waste of money|AFAHC6E2UT4DJT4E2...|             true|  2020-02-16 00:00:00|  Amazon Home|Perfect Curve Pur...|Home & Kitchen,St...| NULL|           4.1|         1973|2020|\n",
      "|           2|   1.0| B003Z3URR0|B001G3ZP8W|           1|This incense has ...|1582731248091|   No scent incense.|AHB5U3ZMDUW7SKKDG...|             true|  2020-02-26 00:00:00|  Amazon Home|Hem Precious Musk...|Home & Kitchen,Ho...| 6.98|           4.6|         1229|2020|\n",
      "|           2|   1.0| B004LHCPPG|B004LHCPPG|           0|The last one I or...|1549438353178|       Product works|AGNFA64J6AGJ2ATCP...|             true|  2019-02-06 00:00:00|  Amazon Home|1 X 70mm Metal Ci...|                    | 11.5|           3.9|          637|2019|\n",
      "|           2|   1.0| B00IEE9J2O|B00IEE9J2O|           3|Didn't like it.  ...|1518141507661|Didn't like it. T...|AFG6UQW2ZSAMNBAJS...|             true|  2018-02-08 00:00:00|   Appliances|LifeSupplyUSA Tru...|Home & Kitchen,He...|22.88|           4.2|          307|2018|\n",
      "|           2|   1.0| B00PILE4SK|B00FZ1JR6M|           0|This is a good br...|1582822571741|I paid for a new ...|AGIEN7AW4DV6OMUK2...|             true|  2020-02-27 00:00:00|  Amazon Home|KitchenAid KSB157...|Home & Kitchen,Ki...| NULL|           4.5|         3905|2020|\n",
      "+------------+------+-----------+----------+------------+--------------------+-------------+--------------------+--------------------+-----------------+---------------------+-------------+--------------------+--------------------+-----+--------------+-------------+----+\n",
      "only showing top 5 rows\n",
      "\n"
     ]
    }
   ],
   "source": [
    "sampled_df.show(5)"
   ]
  },
  {
   "cell_type": "code",
   "execution_count": 29,
   "metadata": {},
   "outputs": [],
   "source": [
    "# Step 5: Filter the DataFrame for 2018-2019 and 2020\n",
    "sampled_2018_2019_df = sampled_df.filter((sampled_df[\"year\"] >= 2018) & (sampled_df[\"year\"] <= 2019))\n",
    "sampled_2020_df = sampled_df.filter(sampled_df[\"year\"] == 2020)\n"
   ]
  },
  {
   "cell_type": "code",
   "execution_count": 34,
   "metadata": {},
   "outputs": [
    {
     "name": "stdout",
     "output_type": "stream",
     "text": [
      "Row count of sampled_2018_2019_df: 140781\n",
      "Row count of sampled_2020_df: 105233\n"
     ]
    }
   ],
   "source": [
    "row_count = sampled_2018_2019_df.count()\n",
    "print(f\"Row count of sampled_2018_2019_df: {row_count}\")\n",
    "\n",
    "row_count = sampled_2020_df.count()\n",
    "print(f\"Row count of sampled_2020_df: {row_count}\")"
   ]
  },
  {
   "cell_type": "code",
   "execution_count": 33,
   "metadata": {},
   "outputs": [],
   "source": [
    "# Step 6: Write 2018-2019 data to CSV\n",
    "# Collect Spark DataFrame to Pandas\n",
    "pandas_df = sampled_2018_2019_df.toPandas()\n",
    "\n",
    "# Save as CSV locally\n",
    "pandas_df.to_csv(\"sampled_data_2018_2019.csv\", index=False)\n",
    "\n",
    "# Tried direct connection but seems like we'll have to install hadoop binaries, set up hadoop_home, etc. for saving the file. \n",
    "# Writing it locally kept throwing errors. So converting to pandas and saving\n"
   ]
  },
  {
   "cell_type": "code",
   "execution_count": 35,
   "metadata": {},
   "outputs": [],
   "source": [
    "# Step 7: Write 2020 data to CSV\n",
    "pandas_df = sampled_2020_df.toPandas()\n",
    "\n",
    "# Save as CSV locally\n",
    "pandas_df.to_csv(\"sampled_2020_df.csv\", index=False)"
   ]
  }
 ],
 "metadata": {
  "kernelspec": {
   "display_name": "Python 3",
   "language": "python",
   "name": "python3"
  },
  "language_info": {
   "codemirror_mode": {
    "name": "ipython",
    "version": 3
   },
   "file_extension": ".py",
   "mimetype": "text/x-python",
   "name": "python",
   "nbconvert_exporter": "python",
   "pygments_lexer": "ipython3",
   "version": "3.10.4"
  }
 },
 "nbformat": 4,
 "nbformat_minor": 2
}
